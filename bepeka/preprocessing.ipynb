{
 "cells": [
  {
   "cell_type": "code",
   "execution_count": null,
   "metadata": {},
   "outputs": [],
   "source": [
    "# Utils packages\n",
    "from math import ceil\n",
    "from pathlib import Path, PurePath, PurePosixPath\n",
    "\n",
    "# Data collector packages\n",
    "from hentai import Utils, Hentai, Option, Sort\n",
    "\n",
    "# Analysis packages\n",
    "import pandas as pd\n",
    "from PIL import Image"
   ]
  },
  {
   "cell_type": "markdown",
   "metadata": {},
   "source": [
    "## Data collection\n",
    "\n",
    "We will use the information and media collected on the nhentai.net website. Recording each entry in a 'metadata.csv' file that aggregates information about the hentai, including links to download pages."
   ]
  },
  {
   "cell_type": "code",
   "execution_count": null,
   "metadata": {},
   "outputs": [],
   "source": [
    "N_SAMPLE = 0  # Number of sample to refetch from hentai.\n",
    "DATA_PATH = \"data\"  # Directory to drop collected data.\n",
    "SEARCH_QUERY = \"tag:uncensored\"  # nhentai search query.\n",
    "HENTAI_IDS = []  # Manual Hentai IDs to download.\n",
    "COLLECT_MODE = \"random\"  # Sampling mode."
   ]
  },
  {
   "cell_type": "code",
   "execution_count": null,
   "metadata": {},
   "outputs": [],
   "source": [
    "def get_hentai_info(hentai: Hentai):\n",
    "    return hentai.dictionary(Option.all())\n",
    "\n",
    "\n",
    "def get_random_hentai():\n",
    "    hentai = Utils.get_random_hentai()\n",
    "    hentai = get_hentai_info(hentai)\n",
    "    return hentai\n",
    "\n",
    "\n",
    "def search_hentai(query: str, page: int):\n",
    "    return Utils.search_by_query(query, page, sort=Sort.PopularMonth)"
   ]
  },
  {
   "cell_type": "code",
   "execution_count": null,
   "metadata": {},
   "outputs": [],
   "source": [
    "# Query the nhentai.net API to get N number of random hentai\n",
    "if COLLECT_MODE == \"search\":\n",
    "    collected_hentais_df = pd.DataFrame(\n",
    "        [\n",
    "            pd.Series(get_hentai_info(h))\n",
    "            for hs in [\n",
    "                search_hentai(SEARCH_QUERY, p)\n",
    "                for p in range(1, ceil(N_SAMPLE / 25) + 1)\n",
    "            ]\n",
    "            for h in hs\n",
    "        ]\n",
    "    )\n",
    "elif COLLECT_MODE == \"random\":\n",
    "    collected_hentais_df = pd.DataFrame(\n",
    "        [pd.Series(get_random_hentai()) for _ in range(N_SAMPLE)]\n",
    "    )\n",
    "else:\n",
    "    collected_hentais_df = pd.DataFrame(\n",
    "        [pd.Series(get_hentai_info(Hentai(h))) for h in HENTAI_IDS]\n",
    "    )\n",
    "collected_hentais_df"
   ]
  },
  {
   "cell_type": "markdown",
   "metadata": {},
   "source": [
    "## Read dataset file"
   ]
  },
  {
   "cell_type": "code",
   "execution_count": null,
   "metadata": {},
   "outputs": [],
   "source": [
    "# The metadata NDJSON file that will contain the raw information about the hentai\n",
    "metadata_path = PurePath(DATA_PATH) / \"raw\" / \"metadata.ndjson\""
   ]
  },
  {
   "cell_type": "code",
   "execution_count": null,
   "metadata": {},
   "outputs": [],
   "source": [
    "hentais_df = pd.read_json(metadata_path, orient=\"records\", lines=True, encoding=\"utf8\")\n",
    "hentais_df"
   ]
  },
  {
   "cell_type": "markdown",
   "metadata": {},
   "source": [
    "## Save collected dataset"
   ]
  },
  {
   "cell_type": "code",
   "execution_count": null,
   "metadata": {},
   "outputs": [],
   "source": [
    "hentais_df = pd.concat([collected_hentais_df, hentais_df], ignore_index=True)\n",
    "hentais_df = hentais_df.drop_duplicates(\"id\")\n",
    "hentais_df.to_json(metadata_path, orient=\"records\", lines=True)"
   ]
  },
  {
   "cell_type": "markdown",
   "metadata": {},
   "source": [
    "## Download images"
   ]
  },
  {
   "cell_type": "code",
   "execution_count": null,
   "metadata": {},
   "outputs": [],
   "source": [
    "def download_hentai(row: pd.Series):\n",
    "    # A hentai will be stored based on the gallery ID instead of the medai ID\n",
    "    hentai_path = Path(DATA_PATH) / \"raw\" / str(row.id)\n",
    "    # Since downloading a hentai is an expensive operation, we only\n",
    "    # download when the hentai ID directory does not exist\n",
    "    if not hentai_path.is_dir():\n",
    "        try:\n",
    "            hentai = Hentai(row.id)\n",
    "            hentai.download(folder=hentai_path, progressbar=True)\n",
    "            return True\n",
    "        except Exception:\n",
    "            pass\n",
    "    return False"
   ]
  },
  {
   "cell_type": "code",
   "execution_count": null,
   "metadata": {},
   "outputs": [],
   "source": [
    "downloaded_hentais_df = hentais_df.apply(download_hentai, axis=1)"
   ]
  },
  {
   "cell_type": "code",
   "execution_count": null,
   "metadata": {},
   "outputs": [],
   "source": [
    "print(\"Number of downloaded hentais : {}\".format(downloaded_hentais_df.sum()))"
   ]
  },
  {
   "cell_type": "markdown",
   "metadata": {},
   "source": [
    "## Remove corrupted images"
   ]
  },
  {
   "cell_type": "code",
   "execution_count": null,
   "metadata": {},
   "outputs": [],
   "source": [
    "def hentai_filename(hentai: pd.Series):\n",
    "    return [\n",
    "        str(PurePosixPath(str(hentai[\"id\"])) / PurePath(url).name)\n",
    "        for url in hentai[\"image_urls\"]\n",
    "    ]"
   ]
  },
  {
   "cell_type": "code",
   "execution_count": null,
   "metadata": {},
   "outputs": [],
   "source": [
    "hentais_df = hentais_df.assign(filename=hentais_df.apply(hentai_filename, axis=1))\n",
    "hentais_df"
   ]
  },
  {
   "cell_type": "markdown",
   "metadata": {},
   "source": [
    "We will filter every hentais that contain at least one corrupted images, since pages have order dependencies."
   ]
  },
  {
   "cell_type": "code",
   "execution_count": null,
   "metadata": {},
   "outputs": [],
   "source": [
    "def preprocess_image(filename: str):\n",
    "    relative_filepath = Path(filename)\n",
    "    raw_dirpath = Path(DATA_PATH) / \"raw\" / relative_filepath.parent.stem\n",
    "    raw_filepath = raw_dirpath / relative_filepath.name\n",
    "    preproc_dirpath = Path(DATA_PATH) / \"preprocessed\" / relative_filepath.parent.stem\n",
    "    preproc_filepath = preproc_dirpath / f\"{raw_filepath.stem}.jpg\"\n",
    "    # Preprocess only those images that do not exist in\n",
    "    # the destination dataset for performance reason\n",
    "    preproc_dirpath.mkdir(parents=True, exist_ok=True)\n",
    "    if not preproc_filepath.is_file():\n",
    "        image = Image.open(raw_filepath)\n",
    "        # Normalize images to be JPEG compatible\n",
    "        image = image.convert(\"RGB\")\n",
    "        image.save(preproc_filepath, \"JPEG\")\n",
    "    return str(PurePath(preproc_filepath))\n",
    "\n",
    "\n",
    "def preprocess_images(hentai: pd.Series):\n",
    "    return [preprocess_image(filename) for filename in hentai[\"filename\"]]"
   ]
  },
  {
   "cell_type": "code",
   "execution_count": null,
   "metadata": {
    "tags": []
   },
   "outputs": [],
   "source": [
    "hentais_df.apply(preprocess_images, axis=1)"
   ]
  },
  {
   "cell_type": "code",
   "execution_count": null,
   "metadata": {},
   "outputs": [],
   "source": [
    "hentais_df = hentais_df[hentais_df[\"filename\"].apply(all)]\n",
    "hentais_df"
   ]
  },
  {
   "cell_type": "code",
   "execution_count": null,
   "metadata": {},
   "outputs": [],
   "source": [
    "# The metadata CSV file that will contain the raw information about the hentai\n",
    "metadata_path = PurePath(DATA_PATH) / \"preprocessed\" / \"metadata.ndjson\"\n",
    "hentais_df = hentais_df[\n",
    "    [\n",
    "        \"id\",\n",
    "        \"title\",\n",
    "        \"num_favorites\",\n",
    "        \"tag\",\n",
    "        \"group\",\n",
    "        \"parody\",\n",
    "        \"character\",\n",
    "        \"language\",\n",
    "        \"artist\",\n",
    "        \"category\",\n",
    "        \"num_pages\",\n",
    "        \"filename\",\n",
    "    ]\n",
    "]\n",
    "hentais_df.to_json(metadata_path, orient=\"records\", lines=True)\n",
    "print(\"Number of preprocessed images :\", len(hentais_df))"
   ]
  },
  {
   "cell_type": "code",
   "execution_count": null,
   "metadata": {},
   "outputs": [],
   "source": []
  }
 ],
 "metadata": {
  "interpreter": {
   "hash": "e2b07b63c14587a0e9eb03f2247eece484dfc8e712cf73a22aa52b4a1f37f8eb"
  },
  "kernelspec": {
   "display_name": "Python 3.8.10 64-bit ('venv': venv)",
   "name": "python3"
  },
  "language_info": {
   "codemirror_mode": {
    "name": "ipython",
    "version": 3
   },
   "file_extension": ".py",
   "mimetype": "text/x-python",
   "name": "python",
   "nbconvert_exporter": "python",
   "pygments_lexer": "ipython3",
   "version": "3.9.7"
  },
  "orig_nbformat": 2
 },
 "nbformat": 4,
 "nbformat_minor": 2
}
