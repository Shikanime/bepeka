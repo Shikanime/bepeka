{
 "metadata": {
  "language_info": {
   "codemirror_mode": {
    "name": "ipython",
    "version": 3
   },
   "file_extension": ".py",
   "mimetype": "text/x-python",
   "name": "python",
   "nbconvert_exporter": "python",
   "pygments_lexer": "ipython3",
   "version": "3.7.10"
  },
  "orig_nbformat": 2,
  "kernelspec": {
   "name": "python3710jvsc74a57bd07709ee700c0b35b705593aafecb5816646a1f77b192913c2314f04e0eb97f79e",
   "display_name": "Python 3.7.10 64-bit ('bepeka': conda)"
  }
 },
 "nbformat": 4,
 "nbformat_minor": 2,
 "cells": [
  {
   "cell_type": "code",
   "execution_count": 1,
   "metadata": {},
   "outputs": [],
   "source": [
    "# Utils packages\n",
    "import ast\n",
    "from pathlib import Path\n",
    "from typing import Union\n",
    "\n",
    "# Data collector packages\n",
    "from hentai import Utils, Hentai, Option\n",
    "\n",
    "# Analysis packages\n",
    "import pandas as pd"
   ]
  },
  {
   "source": [
    "## Data collection\n",
    "\n",
    "We will use the information and media collected on the nhentai.net website. Recording each entry in a 'metadata.csv' file that aggregates information about the hentai, including links to download pages."
   ],
   "cell_type": "markdown",
   "metadata": {}
  },
  {
   "cell_type": "code",
   "execution_count": 2,
   "metadata": {},
   "outputs": [],
   "source": [
    "N_SAMPLE = 0 # Number of sample to refetch from hentai.\n",
    "DATA_PATH = \"data\" # Directory to drop collected data."
   ]
  },
  {
   "cell_type": "code",
   "execution_count": 3,
   "metadata": {},
   "outputs": [],
   "source": [
    "def random_hentai(_: int) -> pd.Series:\n",
    "    return pd.Series(Utils.get_random_hentai().dictionary(Option.all()))"
   ]
  },
  {
   "cell_type": "code",
   "execution_count": 4,
   "metadata": {},
   "outputs": [
    {
     "output_type": "stream",
     "name": "stderr",
     "text": [
      "ipykernel_launcher:2: DeprecationWarning: The default dtype for empty Series will be 'object' instead of 'float64' in a future version. Specify a dtype explicitly to silence this warning.\n",
      "Number of collected hentais:  0\n"
     ]
    }
   ],
   "source": [
    "# Query the nhentai.net API to get N number of random hentai\n",
    "hentais_df = pd.Series(range(N_SAMPLE))\n",
    "hentais_df = hentais_df.apply(random_hentai)\n",
    "\n",
    "# The metadata CSV file that will contain the raw information about the hentai\n",
    "metadata_path = Path(DATA_PATH) / \"metadata.csv\"\n",
    "\n",
    "# Create a CSV file with a header only if the file does not exist\n",
    "if not metadata_path.is_file():\n",
    "    hentais_df.to_csv(metadata_path, header=\"column_names\")\n",
    "else:\n",
    "    hentais_df.to_csv(metadata_path, mode=\"a\", header=False)\n",
    "\n",
    "print(\"Number of collected hentais: \", len(hentais_df))"
   ]
  },
  {
   "source": [
    "## Read dataset file"
   ],
   "cell_type": "markdown",
   "metadata": {}
  },
  {
   "source": [
    "hentais_df = pd.read_csv(\n",
    "    Path(DATA_PATH) / \"metadata.csv\",\n",
    "    converters={\n",
    "        column_name: ast.literal_eval\n",
    "        for column_name in [\"tag\", \"group\", \"parody\", \"character\", \"artist\", \"category\", \"image_urls\"]\n",
    "    }\n",
    ")\n",
    "hentais_df"
   ],
   "cell_type": "code",
   "metadata": {},
   "execution_count": 5,
   "outputs": [
    {
     "output_type": "execute_result",
     "data": {
      "text/plain": [
       "         id                                              title  scanlator  \\\n",
       "0    212548                                              Syoku        NaN   \n",
       "1     57170         Drug Fumi-chan Seishun Hen Ura Manga Michi        NaN   \n",
       "2     75495                                     SHIRONA HAZARD        NaN   \n",
       "3    229284                              2205-nen no Afterglow        NaN   \n",
       "4     99262                                    moon marguerite        NaN   \n",
       "..      ...                                                ...        ...   \n",
       "537  191631                         Kobayashichi no Inu Dragon        NaN   \n",
       "538  325513                             Ikumi-chan Niku Niku 2        NaN   \n",
       "539  150615  Usamimi Danshi Koukousei ga Masaka Mob ni Okas...        NaN   \n",
       "540   41682                Shirley to Lucchini no Gohoushi Hon        NaN   \n",
       "541  265484       Cosplay Kanojo ga Netorareru Hon BB-chan Hen        NaN   \n",
       "\n",
       "                              url                                     api  \\\n",
       "0    https://nhentai.net/g/212548  https://nhentai.net/api/gallery/212548   \n",
       "1     https://nhentai.net/g/57170   https://nhentai.net/api/gallery/57170   \n",
       "2     https://nhentai.net/g/75495   https://nhentai.net/api/gallery/75495   \n",
       "3    https://nhentai.net/g/229284  https://nhentai.net/api/gallery/229284   \n",
       "4     https://nhentai.net/g/99262   https://nhentai.net/api/gallery/99262   \n",
       "..                            ...                                     ...   \n",
       "537  https://nhentai.net/g/191631  https://nhentai.net/api/gallery/191631   \n",
       "538  https://nhentai.net/g/325513  https://nhentai.net/api/gallery/325513   \n",
       "539  https://nhentai.net/g/150615  https://nhentai.net/api/gallery/150615   \n",
       "540   https://nhentai.net/g/41682   https://nhentai.net/api/gallery/41682   \n",
       "541  https://nhentai.net/g/265484  https://nhentai.net/api/gallery/265484   \n",
       "\n",
       "     media_id        epos  num_favorites  \\\n",
       "0     1133892  1509103975           4452   \n",
       "1      333208  1403992737             21   \n",
       "2      490119  1403996013            191   \n",
       "3     1206999  1522895460            101   \n",
       "4      635686  1404000355            138   \n",
       "..        ...         ...            ...   \n",
       "537   1046505  1491184635            712   \n",
       "538   1712669  1597933877           1387   \n",
       "539    868662  1449593893             36   \n",
       "540    199951  1403989884             54   \n",
       "541   1378265  1552153001            502   \n",
       "\n",
       "                                                   tag                  group  \\\n",
       "0    [big breasts, milf, nakadashi, sole female, ch...           [hyoco road]   \n",
       "1       [bondage, yuri, schoolgirl uniform, tankoubon]                     []   \n",
       "2                                        [big breasts]              [draw go]   \n",
       "3                   [eyepatch, sole male, sole female]         [frozen world]   \n",
       "4    [stockings, paizuri, lingerie, sole female, so...       [meltdown comet]   \n",
       "..                                                 ...                    ...   \n",
       "537  [bestiality, big breasts, inverted nipples, mo...        [zensoku rider]   \n",
       "538  [sole male, big breasts, collar, dark skin, so...  [amazake hatosyo-ten]   \n",
       "539  [anal, bunny boy, males only, muscle, yaoi, sw...                     []   \n",
       "540                      [big breasts, group, lolicon]       [atsuya kougyou]   \n",
       "541  [big breasts, cheating, cosplaying, deepthroat...   [unyarara daihanten]   \n",
       "\n",
       "                                 parody  \\\n",
       "0                       [occultic nine]   \n",
       "1                                    []   \n",
       "2                             [pokemon]   \n",
       "3                        [touken ranbu]   \n",
       "4                      [touhou project]   \n",
       "..                                  ...   \n",
       "537  [kobayashi-san-chi no maid dragon]   \n",
       "538                 [shokugeki no soma]   \n",
       "539                              [free]   \n",
       "540                    [strike witches]   \n",
       "541                  [fate grand order]   \n",
       "\n",
       "                                             character  \\\n",
       "0                                   [ririka nishizono]   \n",
       "1                                                   []   \n",
       "2                                            [cynthia]   \n",
       "3                             [shokudaikiri mitsutada]   \n",
       "4                                [patchouli knowledge]   \n",
       "..                                                 ...   \n",
       "537                                 [kobayashi, tohru]   \n",
       "538                       [souma yukihira, ikumi mito]   \n",
       "539                  [haruka nanase, makoto tachibana]   \n",
       "540  [francesca lucchini, charlotte e. yeager, shir...   \n",
       "541                                               [bb]   \n",
       "\n",
       "                      language           artist     category  \\\n",
       "0    ['english', 'translated']       [hyocorou]  [doujinshi]   \n",
       "1                 ['japanese']   [shin tsuguru]      [manga]   \n",
       "2                 ['japanese']        [souichi]  [doujinshi]   \n",
       "3                 ['japanese']         [kanaso]  [doujinshi]   \n",
       "4                 ['japanese']      [yukiu con]  [doujinshi]   \n",
       "..                         ...              ...          ...   \n",
       "537               ['japanese']  [tenzen miyabi]  [doujinshi]   \n",
       "538  ['chinese', 'translated']    [yoshu ohepe]  [doujinshi]   \n",
       "539               ['japanese']               []  [doujinshi]   \n",
       "540               ['japanese']   [kaisen chuui]  [doujinshi]   \n",
       "541               ['japanese']    [mabuchoko m]  [doujinshi]   \n",
       "\n",
       "                                                 cover  \\\n",
       "0    https://t.nhentai.net/galleries/1133892/cover.jpg   \n",
       "1     https://t.nhentai.net/galleries/333208/cover.jpg   \n",
       "2     https://t.nhentai.net/galleries/490119/cover.jpg   \n",
       "3    https://t.nhentai.net/galleries/1206999/cover.jpg   \n",
       "4     https://t.nhentai.net/galleries/635686/cover.jpg   \n",
       "..                                                 ...   \n",
       "537  https://t.nhentai.net/galleries/1046505/cover.jpg   \n",
       "538  https://t.nhentai.net/galleries/1712669/cover.jpg   \n",
       "539   https://t.nhentai.net/galleries/868662/cover.jpg   \n",
       "540   https://t.nhentai.net/galleries/199951/cover.jpg   \n",
       "541  https://t.nhentai.net/galleries/1378265/cover.jpg   \n",
       "\n",
       "                                             thumbnail  \\\n",
       "0    https://t.nhentai.net/galleries/1133892/thumb.jpg   \n",
       "1     https://t.nhentai.net/galleries/333208/thumb.jpg   \n",
       "2     https://t.nhentai.net/galleries/490119/thumb.jpg   \n",
       "3    https://t.nhentai.net/galleries/1206999/thumb.jpg   \n",
       "4     https://t.nhentai.net/galleries/635686/thumb.jpg   \n",
       "..                                                 ...   \n",
       "537  https://t.nhentai.net/galleries/1046505/thumb.jpg   \n",
       "538  https://t.nhentai.net/galleries/1712669/thumb.jpg   \n",
       "539   https://t.nhentai.net/galleries/868662/thumb.jpg   \n",
       "540   https://t.nhentai.net/galleries/199951/thumb.jpg   \n",
       "541  https://t.nhentai.net/galleries/1378265/thumb.jpg   \n",
       "\n",
       "                                            image_urls  num_pages  \n",
       "0    [https://i.nhentai.net/galleries/1133892/1.jpg...         33  \n",
       "1    [https://i.nhentai.net/galleries/333208/1.jpg,...        166  \n",
       "2    [https://i.nhentai.net/galleries/490119/1.jpg,...         23  \n",
       "3    [https://i.nhentai.net/galleries/1206999/1.jpg...         47  \n",
       "4    [https://i.nhentai.net/galleries/635686/1.jpg,...         26  \n",
       "..                                                 ...        ...  \n",
       "537  [https://i.nhentai.net/galleries/1046505/1.jpg...         10  \n",
       "538  [https://i.nhentai.net/galleries/1712669/1.jpg...         30  \n",
       "539  [https://i.nhentai.net/galleries/868662/1.jpg,...         31  \n",
       "540  [https://i.nhentai.net/galleries/199951/1.jpg,...         25  \n",
       "541  [https://i.nhentai.net/galleries/1378265/1.jpg...         26  \n",
       "\n",
       "[542 rows x 19 columns]"
      ],
      "text/html": "<div>\n<style scoped>\n    .dataframe tbody tr th:only-of-type {\n        vertical-align: middle;\n    }\n\n    .dataframe tbody tr th {\n        vertical-align: top;\n    }\n\n    .dataframe thead th {\n        text-align: right;\n    }\n</style>\n<table border=\"1\" class=\"dataframe\">\n  <thead>\n    <tr style=\"text-align: right;\">\n      <th></th>\n      <th>id</th>\n      <th>title</th>\n      <th>scanlator</th>\n      <th>url</th>\n      <th>api</th>\n      <th>media_id</th>\n      <th>epos</th>\n      <th>num_favorites</th>\n      <th>tag</th>\n      <th>group</th>\n      <th>parody</th>\n      <th>character</th>\n      <th>language</th>\n      <th>artist</th>\n      <th>category</th>\n      <th>cover</th>\n      <th>thumbnail</th>\n      <th>image_urls</th>\n      <th>num_pages</th>\n    </tr>\n  </thead>\n  <tbody>\n    <tr>\n      <th>0</th>\n      <td>212548</td>\n      <td>Syoku</td>\n      <td>NaN</td>\n      <td>https://nhentai.net/g/212548</td>\n      <td>https://nhentai.net/api/gallery/212548</td>\n      <td>1133892</td>\n      <td>1509103975</td>\n      <td>4452</td>\n      <td>[big breasts, milf, nakadashi, sole female, ch...</td>\n      <td>[hyoco road]</td>\n      <td>[occultic nine]</td>\n      <td>[ririka nishizono]</td>\n      <td>['english', 'translated']</td>\n      <td>[hyocorou]</td>\n      <td>[doujinshi]</td>\n      <td>https://t.nhentai.net/galleries/1133892/cover.jpg</td>\n      <td>https://t.nhentai.net/galleries/1133892/thumb.jpg</td>\n      <td>[https://i.nhentai.net/galleries/1133892/1.jpg...</td>\n      <td>33</td>\n    </tr>\n    <tr>\n      <th>1</th>\n      <td>57170</td>\n      <td>Drug Fumi-chan Seishun Hen Ura Manga Michi</td>\n      <td>NaN</td>\n      <td>https://nhentai.net/g/57170</td>\n      <td>https://nhentai.net/api/gallery/57170</td>\n      <td>333208</td>\n      <td>1403992737</td>\n      <td>21</td>\n      <td>[bondage, yuri, schoolgirl uniform, tankoubon]</td>\n      <td>[]</td>\n      <td>[]</td>\n      <td>[]</td>\n      <td>['japanese']</td>\n      <td>[shin tsuguru]</td>\n      <td>[manga]</td>\n      <td>https://t.nhentai.net/galleries/333208/cover.jpg</td>\n      <td>https://t.nhentai.net/galleries/333208/thumb.jpg</td>\n      <td>[https://i.nhentai.net/galleries/333208/1.jpg,...</td>\n      <td>166</td>\n    </tr>\n    <tr>\n      <th>2</th>\n      <td>75495</td>\n      <td>SHIRONA HAZARD</td>\n      <td>NaN</td>\n      <td>https://nhentai.net/g/75495</td>\n      <td>https://nhentai.net/api/gallery/75495</td>\n      <td>490119</td>\n      <td>1403996013</td>\n      <td>191</td>\n      <td>[big breasts]</td>\n      <td>[draw go]</td>\n      <td>[pokemon]</td>\n      <td>[cynthia]</td>\n      <td>['japanese']</td>\n      <td>[souichi]</td>\n      <td>[doujinshi]</td>\n      <td>https://t.nhentai.net/galleries/490119/cover.jpg</td>\n      <td>https://t.nhentai.net/galleries/490119/thumb.jpg</td>\n      <td>[https://i.nhentai.net/galleries/490119/1.jpg,...</td>\n      <td>23</td>\n    </tr>\n    <tr>\n      <th>3</th>\n      <td>229284</td>\n      <td>2205-nen no Afterglow</td>\n      <td>NaN</td>\n      <td>https://nhentai.net/g/229284</td>\n      <td>https://nhentai.net/api/gallery/229284</td>\n      <td>1206999</td>\n      <td>1522895460</td>\n      <td>101</td>\n      <td>[eyepatch, sole male, sole female]</td>\n      <td>[frozen world]</td>\n      <td>[touken ranbu]</td>\n      <td>[shokudaikiri mitsutada]</td>\n      <td>['japanese']</td>\n      <td>[kanaso]</td>\n      <td>[doujinshi]</td>\n      <td>https://t.nhentai.net/galleries/1206999/cover.jpg</td>\n      <td>https://t.nhentai.net/galleries/1206999/thumb.jpg</td>\n      <td>[https://i.nhentai.net/galleries/1206999/1.jpg...</td>\n      <td>47</td>\n    </tr>\n    <tr>\n      <th>4</th>\n      <td>99262</td>\n      <td>moon marguerite</td>\n      <td>NaN</td>\n      <td>https://nhentai.net/g/99262</td>\n      <td>https://nhentai.net/api/gallery/99262</td>\n      <td>635686</td>\n      <td>1404000355</td>\n      <td>138</td>\n      <td>[stockings, paizuri, lingerie, sole female, so...</td>\n      <td>[meltdown comet]</td>\n      <td>[touhou project]</td>\n      <td>[patchouli knowledge]</td>\n      <td>['japanese']</td>\n      <td>[yukiu con]</td>\n      <td>[doujinshi]</td>\n      <td>https://t.nhentai.net/galleries/635686/cover.jpg</td>\n      <td>https://t.nhentai.net/galleries/635686/thumb.jpg</td>\n      <td>[https://i.nhentai.net/galleries/635686/1.jpg,...</td>\n      <td>26</td>\n    </tr>\n    <tr>\n      <th>...</th>\n      <td>...</td>\n      <td>...</td>\n      <td>...</td>\n      <td>...</td>\n      <td>...</td>\n      <td>...</td>\n      <td>...</td>\n      <td>...</td>\n      <td>...</td>\n      <td>...</td>\n      <td>...</td>\n      <td>...</td>\n      <td>...</td>\n      <td>...</td>\n      <td>...</td>\n      <td>...</td>\n      <td>...</td>\n      <td>...</td>\n      <td>...</td>\n    </tr>\n    <tr>\n      <th>537</th>\n      <td>191631</td>\n      <td>Kobayashichi no Inu Dragon</td>\n      <td>NaN</td>\n      <td>https://nhentai.net/g/191631</td>\n      <td>https://nhentai.net/api/gallery/191631</td>\n      <td>1046505</td>\n      <td>1491184635</td>\n      <td>712</td>\n      <td>[bestiality, big breasts, inverted nipples, mo...</td>\n      <td>[zensoku rider]</td>\n      <td>[kobayashi-san-chi no maid dragon]</td>\n      <td>[kobayashi, tohru]</td>\n      <td>['japanese']</td>\n      <td>[tenzen miyabi]</td>\n      <td>[doujinshi]</td>\n      <td>https://t.nhentai.net/galleries/1046505/cover.jpg</td>\n      <td>https://t.nhentai.net/galleries/1046505/thumb.jpg</td>\n      <td>[https://i.nhentai.net/galleries/1046505/1.jpg...</td>\n      <td>10</td>\n    </tr>\n    <tr>\n      <th>538</th>\n      <td>325513</td>\n      <td>Ikumi-chan Niku Niku 2</td>\n      <td>NaN</td>\n      <td>https://nhentai.net/g/325513</td>\n      <td>https://nhentai.net/api/gallery/325513</td>\n      <td>1712669</td>\n      <td>1597933877</td>\n      <td>1387</td>\n      <td>[sole male, big breasts, collar, dark skin, so...</td>\n      <td>[amazake hatosyo-ten]</td>\n      <td>[shokugeki no soma]</td>\n      <td>[souma yukihira, ikumi mito]</td>\n      <td>['chinese', 'translated']</td>\n      <td>[yoshu ohepe]</td>\n      <td>[doujinshi]</td>\n      <td>https://t.nhentai.net/galleries/1712669/cover.jpg</td>\n      <td>https://t.nhentai.net/galleries/1712669/thumb.jpg</td>\n      <td>[https://i.nhentai.net/galleries/1712669/1.jpg...</td>\n      <td>30</td>\n    </tr>\n    <tr>\n      <th>539</th>\n      <td>150615</td>\n      <td>Usamimi Danshi Koukousei ga Masaka Mob ni Okas...</td>\n      <td>NaN</td>\n      <td>https://nhentai.net/g/150615</td>\n      <td>https://nhentai.net/api/gallery/150615</td>\n      <td>868662</td>\n      <td>1449593893</td>\n      <td>36</td>\n      <td>[anal, bunny boy, males only, muscle, yaoi, sw...</td>\n      <td>[]</td>\n      <td>[free]</td>\n      <td>[haruka nanase, makoto tachibana]</td>\n      <td>['japanese']</td>\n      <td>[]</td>\n      <td>[doujinshi]</td>\n      <td>https://t.nhentai.net/galleries/868662/cover.jpg</td>\n      <td>https://t.nhentai.net/galleries/868662/thumb.jpg</td>\n      <td>[https://i.nhentai.net/galleries/868662/1.jpg,...</td>\n      <td>31</td>\n    </tr>\n    <tr>\n      <th>540</th>\n      <td>41682</td>\n      <td>Shirley to Lucchini no Gohoushi Hon</td>\n      <td>NaN</td>\n      <td>https://nhentai.net/g/41682</td>\n      <td>https://nhentai.net/api/gallery/41682</td>\n      <td>199951</td>\n      <td>1403989884</td>\n      <td>54</td>\n      <td>[big breasts, group, lolicon]</td>\n      <td>[atsuya kougyou]</td>\n      <td>[strike witches]</td>\n      <td>[francesca lucchini, charlotte e. yeager, shir...</td>\n      <td>['japanese']</td>\n      <td>[kaisen chuui]</td>\n      <td>[doujinshi]</td>\n      <td>https://t.nhentai.net/galleries/199951/cover.jpg</td>\n      <td>https://t.nhentai.net/galleries/199951/thumb.jpg</td>\n      <td>[https://i.nhentai.net/galleries/199951/1.jpg,...</td>\n      <td>25</td>\n    </tr>\n    <tr>\n      <th>541</th>\n      <td>265484</td>\n      <td>Cosplay Kanojo ga Netorareru Hon BB-chan Hen</td>\n      <td>NaN</td>\n      <td>https://nhentai.net/g/265484</td>\n      <td>https://nhentai.net/api/gallery/265484</td>\n      <td>1378265</td>\n      <td>1552153001</td>\n      <td>502</td>\n      <td>[big breasts, cheating, cosplaying, deepthroat...</td>\n      <td>[unyarara daihanten]</td>\n      <td>[fate grand order]</td>\n      <td>[bb]</td>\n      <td>['japanese']</td>\n      <td>[mabuchoko m]</td>\n      <td>[doujinshi]</td>\n      <td>https://t.nhentai.net/galleries/1378265/cover.jpg</td>\n      <td>https://t.nhentai.net/galleries/1378265/thumb.jpg</td>\n      <td>[https://i.nhentai.net/galleries/1378265/1.jpg...</td>\n      <td>26</td>\n    </tr>\n  </tbody>\n</table>\n<p>542 rows × 19 columns</p>\n</div>"
     },
     "metadata": {},
     "execution_count": 5
    }
   ]
  },
  {
   "source": [
    "## Download images"
   ],
   "cell_type": "markdown",
   "metadata": {}
  },
  {
   "cell_type": "code",
   "execution_count": 14,
   "metadata": {},
   "outputs": [],
   "source": [
    "def download_hentai(hentai: pd.Series) -> Hentai:\n",
    "    # A hentai will be stored based on the gallery ID instead of the medai ID\n",
    "    hentai_path = Path(DATA_PATH) / str(hentai.id)\n",
    "\n",
    "    # Since downloading a hentai is an expensive operation, we only\n",
    "    # download when the hentai ID directory does not exist\n",
    "    if not hentai_path.is_dir():\n",
    "        hentai = Hentai(hentai.id)\n",
    "        hentai.download(hentai_path, progressbar=True)\n",
    "        return True\n",
    "\n",
    "    return False"
   ]
  },
  {
   "cell_type": "code",
   "execution_count": 15,
   "metadata": {},
   "outputs": [
    {
     "output_type": "execute_result",
     "data": {
      "text/plain": [
       "Empty DataFrame\n",
       "Columns: [id, title, scanlator, url, api, media_id, epos, num_favorites, tag, group, parody, character, language, artist, category, cover, thumbnail, image_urls, num_pages]\n",
       "Index: []"
      ],
      "text/html": "<div>\n<style scoped>\n    .dataframe tbody tr th:only-of-type {\n        vertical-align: middle;\n    }\n\n    .dataframe tbody tr th {\n        vertical-align: top;\n    }\n\n    .dataframe thead th {\n        text-align: right;\n    }\n</style>\n<table border=\"1\" class=\"dataframe\">\n  <thead>\n    <tr style=\"text-align: right;\">\n      <th></th>\n      <th>id</th>\n      <th>title</th>\n      <th>scanlator</th>\n      <th>url</th>\n      <th>api</th>\n      <th>media_id</th>\n      <th>epos</th>\n      <th>num_favorites</th>\n      <th>tag</th>\n      <th>group</th>\n      <th>parody</th>\n      <th>character</th>\n      <th>language</th>\n      <th>artist</th>\n      <th>category</th>\n      <th>cover</th>\n      <th>thumbnail</th>\n      <th>image_urls</th>\n      <th>num_pages</th>\n    </tr>\n  </thead>\n  <tbody>\n  </tbody>\n</table>\n</div>"
     },
     "metadata": {},
     "execution_count": 15
    }
   ],
   "source": [
    "hentais_df[hentais_df.apply(download_hentai, axis=1)]"
   ]
  },
  {
   "cell_type": "code",
   "execution_count": null,
   "metadata": {},
   "outputs": [],
   "source": []
  }
 ]
}