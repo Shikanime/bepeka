{
 "metadata": {
  "language_info": {
   "codemirror_mode": {
    "name": "ipython",
    "version": 3
   },
   "file_extension": ".py",
   "mimetype": "text/x-python",
   "name": "python",
   "nbconvert_exporter": "python",
   "pygments_lexer": "ipython3",
   "version": "3.9.4"
  },
  "orig_nbformat": 2,
  "kernelspec": {
   "name": "python394jvsc74a57bd0df63770a6e32c921f58c3e8350f4a1433cfe774c3637c307e8a6bdb12178c3a5",
   "display_name": "Python 3.9.4 64-bit ('3.9.4')"
  },
  "metadata": {
   "interpreter": {
    "hash": "df63770a6e32c921f58c3e8350f4a1433cfe774c3637c307e8a6bdb12178c3a5"
   }
  }
 },
 "nbformat": 4,
 "nbformat_minor": 2,
 "cells": [
  {
   "cell_type": "code",
   "execution_count": null,
   "metadata": {},
   "outputs": [],
   "source": [
    "import os\n",
    "from hentai import Utils\n",
    "from pathlib import Path"
   ]
  },
  {
   "cell_type": "code",
   "execution_count": null,
   "metadata": {},
   "outputs": [],
   "source": [
    "doujins = [Utils.get_random_hentai() for _ in range(0, 10)]"
   ]
  },
  {
   "cell_type": "code",
   "execution_count": null,
   "metadata": {},
   "outputs": [],
   "source": [
    "for doujin in doujins:\n",
    "    path = Path(os.path.join(\"data\", str(doujin.id)))\n",
    "    doujin.download(path, progressbar=True)"
   ]
  },
  {
   "cell_type": "code",
   "execution_count": null,
   "metadata": {},
   "outputs": [],
   "source": [
    "path = Path(os.path.join(\"data\", \"metadata.json\"))\n",
    "Utils.export(doujins, path)"
   ]
  },
  {
   "cell_type": "code",
   "execution_count": null,
   "metadata": {},
   "outputs": [],
   "source": []
  }
 ]
}