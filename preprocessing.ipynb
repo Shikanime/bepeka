{
 "metadata": {
  "language_info": {
   "codemirror_mode": {
    "name": "ipython",
    "version": 3
   },
   "file_extension": ".py",
   "mimetype": "text/x-python",
   "name": "python",
   "nbconvert_exporter": "python",
   "pygments_lexer": "ipython3",
   "version": "3.8.5"
  },
  "orig_nbformat": 2,
  "kernelspec": {
   "name": "python385jvsc74a57bd097ae724bfa85b9b34df7982b8bb8c7216f435b92902d749e4263f71162bea840",
   "display_name": "Python 3.8.5 64-bit ('base': conda)"
  }
 },
 "nbformat": 4,
 "nbformat_minor": 2,
 "cells": [
  {
   "cell_type": "code",
   "execution_count": 50,
   "metadata": {},
   "outputs": [],
   "source": [
    "# Utils packages\n",
    "import ast\n",
    "from pathlib import Path, PurePath\n",
    "from typing import Union\n",
    "\n",
    "# Data collector packages\n",
    "from hentai import Utils, Hentai, Option\n",
    "\n",
    "# Analysis packages\n",
    "import pandas as pd\n",
    "from PIL import Image\n",
    "from tqdm import tqdm\n",
    "\n",
    "# Compute packages\n",
    "import numpy as np\n",
    "import tensorflow as tf"
   ]
  },
  {
   "source": [
    "## Data collection\n",
    "\n",
    "We will use the information and media collected on the nhentai.net website. Recording each entry in a 'metadata.csv' file that aggregates information about the hentai, including links to download pages."
   ],
   "cell_type": "markdown",
   "metadata": {}
  },
  {
   "cell_type": "code",
   "execution_count": 51,
   "metadata": {},
   "outputs": [],
   "source": [
    "N_SAMPLE = 0 # Number of sample to refetch from hentai.\n",
    "DATA_PATH = \"data\" # Directory to drop collected data."
   ]
  },
  {
   "cell_type": "code",
   "execution_count": 52,
   "metadata": {},
   "outputs": [],
   "source": [
    "def random_hentai(_: int) -> pd.Series:\n",
    "    return pd.Series(Utils.get_random_hentai().dictionary(Option.all()))"
   ]
  },
  {
   "cell_type": "code",
   "execution_count": 53,
   "metadata": {},
   "outputs": [
    {
     "output_type": "stream",
     "name": "stderr",
     "text": [
      "<ipython-input-53-4a52f118b4da>:2: DeprecationWarning: The default dtype for empty Series will be 'object' instead of 'float64' in a future version. Specify a dtype explicitly to silence this warning.\n",
      "  hentais_df = pd.Series(range(N_SAMPLE))\n",
      "Number of collected hentais:  0\n"
     ]
    }
   ],
   "source": [
    "# Query the nhentai.net API to get N number of random hentai\n",
    "hentais_df = pd.Series(range(N_SAMPLE))\n",
    "hentais_df = hentais_df.apply(random_hentai)\n",
    "\n",
    "# The metadata CSV file that will contain the raw information about the hentai\n",
    "metadata_path = Path(DATA_PATH) / \"raw\" / \"metadata.csv\"\n",
    "\n",
    "# Create a CSV file with a header only if the file does not exist\n",
    "if not metadata_path.is_file():\n",
    "    hentais_df.to_csv(metadata_path, index=False, header=\"column_names\")\n",
    "else:\n",
    "    hentais_df.to_csv(metadata_path, index=False, mode=\"a\", header=False)\n",
    "\n",
    "print(\"Number of collected hentais: \", len(hentais_df))"
   ]
  },
  {
   "source": [
    "## Read dataset file"
   ],
   "cell_type": "markdown",
   "metadata": {}
  },
  {
   "source": [
    "hentais_df = pd.read_csv(\n",
    "    Path(DATA_PATH) / \"raw\" / \"metadata.csv\",\n",
    "    converters={\n",
    "        column_name: ast.literal_eval\n",
    "        for column_name in [\"tag\", \"group\", \"parody\", \"character\", \"artist\", \"category\", \"image_urls\"]\n",
    "    }\n",
    ")\n",
    "hentais_df"
   ],
   "cell_type": "code",
   "metadata": {},
   "execution_count": 54,
   "outputs": [
    {
     "output_type": "execute_result",
     "data": {
      "text/plain": [
       "         id                                              title  scanlator  \\\n",
       "0    212548                                              Syoku        NaN   \n",
       "1     57170         Drug Fumi-chan Seishun Hen Ura Manga Michi        NaN   \n",
       "2     75495                                     SHIRONA HAZARD        NaN   \n",
       "3    229284                              2205-nen no Afterglow        NaN   \n",
       "4     99262                                    moon marguerite        NaN   \n",
       "..      ...                                                ...        ...   \n",
       "532  191631                         Kobayashichi no Inu Dragon        NaN   \n",
       "533  325513                             Ikumi-chan Niku Niku 2        NaN   \n",
       "534  150615  Usamimi Danshi Koukousei ga Masaka Mob ni Okas...        NaN   \n",
       "535   41682                Shirley to Lucchini no Gohoushi Hon        NaN   \n",
       "536  265484       Cosplay Kanojo ga Netorareru Hon BB-chan Hen        NaN   \n",
       "\n",
       "                              url                                     api  \\\n",
       "0    https://nhentai.net/g/212548  https://nhentai.net/api/gallery/212548   \n",
       "1     https://nhentai.net/g/57170   https://nhentai.net/api/gallery/57170   \n",
       "2     https://nhentai.net/g/75495   https://nhentai.net/api/gallery/75495   \n",
       "3    https://nhentai.net/g/229284  https://nhentai.net/api/gallery/229284   \n",
       "4     https://nhentai.net/g/99262   https://nhentai.net/api/gallery/99262   \n",
       "..                            ...                                     ...   \n",
       "532  https://nhentai.net/g/191631  https://nhentai.net/api/gallery/191631   \n",
       "533  https://nhentai.net/g/325513  https://nhentai.net/api/gallery/325513   \n",
       "534  https://nhentai.net/g/150615  https://nhentai.net/api/gallery/150615   \n",
       "535   https://nhentai.net/g/41682   https://nhentai.net/api/gallery/41682   \n",
       "536  https://nhentai.net/g/265484  https://nhentai.net/api/gallery/265484   \n",
       "\n",
       "     media_id        epos  num_favorites  \\\n",
       "0     1133892  1509103975           4452   \n",
       "1      333208  1403992737             21   \n",
       "2      490119  1403996013            191   \n",
       "3     1206999  1522895460            101   \n",
       "4      635686  1404000355            138   \n",
       "..        ...         ...            ...   \n",
       "532   1046505  1491184635            712   \n",
       "533   1712669  1597933877           1387   \n",
       "534    868662  1449593893             36   \n",
       "535    199951  1403989884             54   \n",
       "536   1378265  1552153001            502   \n",
       "\n",
       "                                                   tag                  group  \\\n",
       "0    [big breasts, milf, nakadashi, sole female, ch...           [hyoco road]   \n",
       "1       [bondage, yuri, schoolgirl uniform, tankoubon]                     []   \n",
       "2                                        [big breasts]              [draw go]   \n",
       "3                   [eyepatch, sole male, sole female]         [frozen world]   \n",
       "4    [stockings, paizuri, lingerie, sole female, so...       [meltdown comet]   \n",
       "..                                                 ...                    ...   \n",
       "532  [bestiality, big breasts, inverted nipples, mo...        [zensoku rider]   \n",
       "533  [sole male, big breasts, collar, dark skin, so...  [amazake hatosyo-ten]   \n",
       "534  [anal, bunny boy, males only, muscle, yaoi, sw...                     []   \n",
       "535                      [big breasts, group, lolicon]       [atsuya kougyou]   \n",
       "536  [big breasts, cheating, cosplaying, deepthroat...   [unyarara daihanten]   \n",
       "\n",
       "                                 parody  \\\n",
       "0                       [occultic nine]   \n",
       "1                                    []   \n",
       "2                             [pokemon]   \n",
       "3                        [touken ranbu]   \n",
       "4                      [touhou project]   \n",
       "..                                  ...   \n",
       "532  [kobayashi-san-chi no maid dragon]   \n",
       "533                 [shokugeki no soma]   \n",
       "534                              [free]   \n",
       "535                    [strike witches]   \n",
       "536                  [fate grand order]   \n",
       "\n",
       "                                             character  \\\n",
       "0                                   [ririka nishizono]   \n",
       "1                                                   []   \n",
       "2                                            [cynthia]   \n",
       "3                             [shokudaikiri mitsutada]   \n",
       "4                                [patchouli knowledge]   \n",
       "..                                                 ...   \n",
       "532                                 [kobayashi, tohru]   \n",
       "533                       [souma yukihira, ikumi mito]   \n",
       "534                  [haruka nanase, makoto tachibana]   \n",
       "535  [francesca lucchini, charlotte e. yeager, shir...   \n",
       "536                                               [bb]   \n",
       "\n",
       "                      language           artist     category  \\\n",
       "0    ['english', 'translated']       [hyocorou]  [doujinshi]   \n",
       "1                 ['japanese']   [shin tsuguru]      [manga]   \n",
       "2                 ['japanese']        [souichi]  [doujinshi]   \n",
       "3                 ['japanese']         [kanaso]  [doujinshi]   \n",
       "4                 ['japanese']      [yukiu con]  [doujinshi]   \n",
       "..                         ...              ...          ...   \n",
       "532               ['japanese']  [tenzen miyabi]  [doujinshi]   \n",
       "533  ['chinese', 'translated']    [yoshu ohepe]  [doujinshi]   \n",
       "534               ['japanese']               []  [doujinshi]   \n",
       "535               ['japanese']   [kaisen chuui]  [doujinshi]   \n",
       "536               ['japanese']    [mabuchoko m]  [doujinshi]   \n",
       "\n",
       "                                                 cover  \\\n",
       "0    https://t.nhentai.net/galleries/1133892/cover.jpg   \n",
       "1     https://t.nhentai.net/galleries/333208/cover.jpg   \n",
       "2     https://t.nhentai.net/galleries/490119/cover.jpg   \n",
       "3    https://t.nhentai.net/galleries/1206999/cover.jpg   \n",
       "4     https://t.nhentai.net/galleries/635686/cover.jpg   \n",
       "..                                                 ...   \n",
       "532  https://t.nhentai.net/galleries/1046505/cover.jpg   \n",
       "533  https://t.nhentai.net/galleries/1712669/cover.jpg   \n",
       "534   https://t.nhentai.net/galleries/868662/cover.jpg   \n",
       "535   https://t.nhentai.net/galleries/199951/cover.jpg   \n",
       "536  https://t.nhentai.net/galleries/1378265/cover.jpg   \n",
       "\n",
       "                                             thumbnail  \\\n",
       "0    https://t.nhentai.net/galleries/1133892/thumb.jpg   \n",
       "1     https://t.nhentai.net/galleries/333208/thumb.jpg   \n",
       "2     https://t.nhentai.net/galleries/490119/thumb.jpg   \n",
       "3    https://t.nhentai.net/galleries/1206999/thumb.jpg   \n",
       "4     https://t.nhentai.net/galleries/635686/thumb.jpg   \n",
       "..                                                 ...   \n",
       "532  https://t.nhentai.net/galleries/1046505/thumb.jpg   \n",
       "533  https://t.nhentai.net/galleries/1712669/thumb.jpg   \n",
       "534   https://t.nhentai.net/galleries/868662/thumb.jpg   \n",
       "535   https://t.nhentai.net/galleries/199951/thumb.jpg   \n",
       "536  https://t.nhentai.net/galleries/1378265/thumb.jpg   \n",
       "\n",
       "                                            image_urls  num_pages  \n",
       "0    [https://i.nhentai.net/galleries/1133892/1.jpg...         33  \n",
       "1    [https://i.nhentai.net/galleries/333208/1.jpg,...        166  \n",
       "2    [https://i.nhentai.net/galleries/490119/1.jpg,...         23  \n",
       "3    [https://i.nhentai.net/galleries/1206999/1.jpg...         47  \n",
       "4    [https://i.nhentai.net/galleries/635686/1.jpg,...         26  \n",
       "..                                                 ...        ...  \n",
       "532  [https://i.nhentai.net/galleries/1046505/1.jpg...         10  \n",
       "533  [https://i.nhentai.net/galleries/1712669/1.jpg...         30  \n",
       "534  [https://i.nhentai.net/galleries/868662/1.jpg,...         31  \n",
       "535  [https://i.nhentai.net/galleries/199951/1.jpg,...         25  \n",
       "536  [https://i.nhentai.net/galleries/1378265/1.jpg...         26  \n",
       "\n",
       "[537 rows x 19 columns]"
      ],
      "text/html": "<div>\n<style scoped>\n    .dataframe tbody tr th:only-of-type {\n        vertical-align: middle;\n    }\n\n    .dataframe tbody tr th {\n        vertical-align: top;\n    }\n\n    .dataframe thead th {\n        text-align: right;\n    }\n</style>\n<table border=\"1\" class=\"dataframe\">\n  <thead>\n    <tr style=\"text-align: right;\">\n      <th></th>\n      <th>id</th>\n      <th>title</th>\n      <th>scanlator</th>\n      <th>url</th>\n      <th>api</th>\n      <th>media_id</th>\n      <th>epos</th>\n      <th>num_favorites</th>\n      <th>tag</th>\n      <th>group</th>\n      <th>parody</th>\n      <th>character</th>\n      <th>language</th>\n      <th>artist</th>\n      <th>category</th>\n      <th>cover</th>\n      <th>thumbnail</th>\n      <th>image_urls</th>\n      <th>num_pages</th>\n    </tr>\n  </thead>\n  <tbody>\n    <tr>\n      <th>0</th>\n      <td>212548</td>\n      <td>Syoku</td>\n      <td>NaN</td>\n      <td>https://nhentai.net/g/212548</td>\n      <td>https://nhentai.net/api/gallery/212548</td>\n      <td>1133892</td>\n      <td>1509103975</td>\n      <td>4452</td>\n      <td>[big breasts, milf, nakadashi, sole female, ch...</td>\n      <td>[hyoco road]</td>\n      <td>[occultic nine]</td>\n      <td>[ririka nishizono]</td>\n      <td>['english', 'translated']</td>\n      <td>[hyocorou]</td>\n      <td>[doujinshi]</td>\n      <td>https://t.nhentai.net/galleries/1133892/cover.jpg</td>\n      <td>https://t.nhentai.net/galleries/1133892/thumb.jpg</td>\n      <td>[https://i.nhentai.net/galleries/1133892/1.jpg...</td>\n      <td>33</td>\n    </tr>\n    <tr>\n      <th>1</th>\n      <td>57170</td>\n      <td>Drug Fumi-chan Seishun Hen Ura Manga Michi</td>\n      <td>NaN</td>\n      <td>https://nhentai.net/g/57170</td>\n      <td>https://nhentai.net/api/gallery/57170</td>\n      <td>333208</td>\n      <td>1403992737</td>\n      <td>21</td>\n      <td>[bondage, yuri, schoolgirl uniform, tankoubon]</td>\n      <td>[]</td>\n      <td>[]</td>\n      <td>[]</td>\n      <td>['japanese']</td>\n      <td>[shin tsuguru]</td>\n      <td>[manga]</td>\n      <td>https://t.nhentai.net/galleries/333208/cover.jpg</td>\n      <td>https://t.nhentai.net/galleries/333208/thumb.jpg</td>\n      <td>[https://i.nhentai.net/galleries/333208/1.jpg,...</td>\n      <td>166</td>\n    </tr>\n    <tr>\n      <th>2</th>\n      <td>75495</td>\n      <td>SHIRONA HAZARD</td>\n      <td>NaN</td>\n      <td>https://nhentai.net/g/75495</td>\n      <td>https://nhentai.net/api/gallery/75495</td>\n      <td>490119</td>\n      <td>1403996013</td>\n      <td>191</td>\n      <td>[big breasts]</td>\n      <td>[draw go]</td>\n      <td>[pokemon]</td>\n      <td>[cynthia]</td>\n      <td>['japanese']</td>\n      <td>[souichi]</td>\n      <td>[doujinshi]</td>\n      <td>https://t.nhentai.net/galleries/490119/cover.jpg</td>\n      <td>https://t.nhentai.net/galleries/490119/thumb.jpg</td>\n      <td>[https://i.nhentai.net/galleries/490119/1.jpg,...</td>\n      <td>23</td>\n    </tr>\n    <tr>\n      <th>3</th>\n      <td>229284</td>\n      <td>2205-nen no Afterglow</td>\n      <td>NaN</td>\n      <td>https://nhentai.net/g/229284</td>\n      <td>https://nhentai.net/api/gallery/229284</td>\n      <td>1206999</td>\n      <td>1522895460</td>\n      <td>101</td>\n      <td>[eyepatch, sole male, sole female]</td>\n      <td>[frozen world]</td>\n      <td>[touken ranbu]</td>\n      <td>[shokudaikiri mitsutada]</td>\n      <td>['japanese']</td>\n      <td>[kanaso]</td>\n      <td>[doujinshi]</td>\n      <td>https://t.nhentai.net/galleries/1206999/cover.jpg</td>\n      <td>https://t.nhentai.net/galleries/1206999/thumb.jpg</td>\n      <td>[https://i.nhentai.net/galleries/1206999/1.jpg...</td>\n      <td>47</td>\n    </tr>\n    <tr>\n      <th>4</th>\n      <td>99262</td>\n      <td>moon marguerite</td>\n      <td>NaN</td>\n      <td>https://nhentai.net/g/99262</td>\n      <td>https://nhentai.net/api/gallery/99262</td>\n      <td>635686</td>\n      <td>1404000355</td>\n      <td>138</td>\n      <td>[stockings, paizuri, lingerie, sole female, so...</td>\n      <td>[meltdown comet]</td>\n      <td>[touhou project]</td>\n      <td>[patchouli knowledge]</td>\n      <td>['japanese']</td>\n      <td>[yukiu con]</td>\n      <td>[doujinshi]</td>\n      <td>https://t.nhentai.net/galleries/635686/cover.jpg</td>\n      <td>https://t.nhentai.net/galleries/635686/thumb.jpg</td>\n      <td>[https://i.nhentai.net/galleries/635686/1.jpg,...</td>\n      <td>26</td>\n    </tr>\n    <tr>\n      <th>...</th>\n      <td>...</td>\n      <td>...</td>\n      <td>...</td>\n      <td>...</td>\n      <td>...</td>\n      <td>...</td>\n      <td>...</td>\n      <td>...</td>\n      <td>...</td>\n      <td>...</td>\n      <td>...</td>\n      <td>...</td>\n      <td>...</td>\n      <td>...</td>\n      <td>...</td>\n      <td>...</td>\n      <td>...</td>\n      <td>...</td>\n      <td>...</td>\n    </tr>\n    <tr>\n      <th>532</th>\n      <td>191631</td>\n      <td>Kobayashichi no Inu Dragon</td>\n      <td>NaN</td>\n      <td>https://nhentai.net/g/191631</td>\n      <td>https://nhentai.net/api/gallery/191631</td>\n      <td>1046505</td>\n      <td>1491184635</td>\n      <td>712</td>\n      <td>[bestiality, big breasts, inverted nipples, mo...</td>\n      <td>[zensoku rider]</td>\n      <td>[kobayashi-san-chi no maid dragon]</td>\n      <td>[kobayashi, tohru]</td>\n      <td>['japanese']</td>\n      <td>[tenzen miyabi]</td>\n      <td>[doujinshi]</td>\n      <td>https://t.nhentai.net/galleries/1046505/cover.jpg</td>\n      <td>https://t.nhentai.net/galleries/1046505/thumb.jpg</td>\n      <td>[https://i.nhentai.net/galleries/1046505/1.jpg...</td>\n      <td>10</td>\n    </tr>\n    <tr>\n      <th>533</th>\n      <td>325513</td>\n      <td>Ikumi-chan Niku Niku 2</td>\n      <td>NaN</td>\n      <td>https://nhentai.net/g/325513</td>\n      <td>https://nhentai.net/api/gallery/325513</td>\n      <td>1712669</td>\n      <td>1597933877</td>\n      <td>1387</td>\n      <td>[sole male, big breasts, collar, dark skin, so...</td>\n      <td>[amazake hatosyo-ten]</td>\n      <td>[shokugeki no soma]</td>\n      <td>[souma yukihira, ikumi mito]</td>\n      <td>['chinese', 'translated']</td>\n      <td>[yoshu ohepe]</td>\n      <td>[doujinshi]</td>\n      <td>https://t.nhentai.net/galleries/1712669/cover.jpg</td>\n      <td>https://t.nhentai.net/galleries/1712669/thumb.jpg</td>\n      <td>[https://i.nhentai.net/galleries/1712669/1.jpg...</td>\n      <td>30</td>\n    </tr>\n    <tr>\n      <th>534</th>\n      <td>150615</td>\n      <td>Usamimi Danshi Koukousei ga Masaka Mob ni Okas...</td>\n      <td>NaN</td>\n      <td>https://nhentai.net/g/150615</td>\n      <td>https://nhentai.net/api/gallery/150615</td>\n      <td>868662</td>\n      <td>1449593893</td>\n      <td>36</td>\n      <td>[anal, bunny boy, males only, muscle, yaoi, sw...</td>\n      <td>[]</td>\n      <td>[free]</td>\n      <td>[haruka nanase, makoto tachibana]</td>\n      <td>['japanese']</td>\n      <td>[]</td>\n      <td>[doujinshi]</td>\n      <td>https://t.nhentai.net/galleries/868662/cover.jpg</td>\n      <td>https://t.nhentai.net/galleries/868662/thumb.jpg</td>\n      <td>[https://i.nhentai.net/galleries/868662/1.jpg,...</td>\n      <td>31</td>\n    </tr>\n    <tr>\n      <th>535</th>\n      <td>41682</td>\n      <td>Shirley to Lucchini no Gohoushi Hon</td>\n      <td>NaN</td>\n      <td>https://nhentai.net/g/41682</td>\n      <td>https://nhentai.net/api/gallery/41682</td>\n      <td>199951</td>\n      <td>1403989884</td>\n      <td>54</td>\n      <td>[big breasts, group, lolicon]</td>\n      <td>[atsuya kougyou]</td>\n      <td>[strike witches]</td>\n      <td>[francesca lucchini, charlotte e. yeager, shir...</td>\n      <td>['japanese']</td>\n      <td>[kaisen chuui]</td>\n      <td>[doujinshi]</td>\n      <td>https://t.nhentai.net/galleries/199951/cover.jpg</td>\n      <td>https://t.nhentai.net/galleries/199951/thumb.jpg</td>\n      <td>[https://i.nhentai.net/galleries/199951/1.jpg,...</td>\n      <td>25</td>\n    </tr>\n    <tr>\n      <th>536</th>\n      <td>265484</td>\n      <td>Cosplay Kanojo ga Netorareru Hon BB-chan Hen</td>\n      <td>NaN</td>\n      <td>https://nhentai.net/g/265484</td>\n      <td>https://nhentai.net/api/gallery/265484</td>\n      <td>1378265</td>\n      <td>1552153001</td>\n      <td>502</td>\n      <td>[big breasts, cheating, cosplaying, deepthroat...</td>\n      <td>[unyarara daihanten]</td>\n      <td>[fate grand order]</td>\n      <td>[bb]</td>\n      <td>['japanese']</td>\n      <td>[mabuchoko m]</td>\n      <td>[doujinshi]</td>\n      <td>https://t.nhentai.net/galleries/1378265/cover.jpg</td>\n      <td>https://t.nhentai.net/galleries/1378265/thumb.jpg</td>\n      <td>[https://i.nhentai.net/galleries/1378265/1.jpg...</td>\n      <td>26</td>\n    </tr>\n  </tbody>\n</table>\n<p>537 rows × 19 columns</p>\n</div>"
     },
     "metadata": {},
     "execution_count": 54
    }
   ]
  },
  {
   "source": [
    "## Download images"
   ],
   "cell_type": "markdown",
   "metadata": {}
  },
  {
   "cell_type": "code",
   "execution_count": 55,
   "metadata": {},
   "outputs": [],
   "source": [
    "def download_hentai(hentai: pd.Series) -> Hentai:\n",
    "    # A hentai will be stored based on the gallery ID instead of the medai ID\n",
    "    hentai_path = Path(DATA_PATH) / \"raw\" / str(hentai.id)\n",
    "\n",
    "    # Since downloading a hentai is an expensive operation, we only\n",
    "    # download when the hentai ID directory does not exist\n",
    "    if not hentai_path.is_dir():\n",
    "        hentai = Hentai(hentai.id)\n",
    "        hentai.download(hentai_path, progressbar=True)\n",
    "        return True\n",
    "\n",
    "    return False\n",
    "\n",
    "downloaded_hentais_df = hentais_df.apply(download_hentai, axis=1)"
   ]
  },
  {
   "cell_type": "code",
   "execution_count": 56,
   "metadata": {},
   "outputs": [
    {
     "output_type": "stream",
     "name": "stdout",
     "text": [
      "Number of downloaded hentais : 537\n"
     ]
    }
   ],
   "source": [
    "print(\"Number of downloaded hentais :\", len(hentais_df) - downloaded_hentais_df.sum())"
   ]
  },
  {
   "source": [
    "## Remove duplicates"
   ],
   "cell_type": "markdown",
   "metadata": {}
  },
  {
   "cell_type": "code",
   "execution_count": 57,
   "metadata": {},
   "outputs": [],
   "source": [
    "hentais_df = hentais_df.drop_duplicates(\"id\")\n",
    "hentais_df.to_csv(metadata_path, index=False, header=\"column_names\")"
   ]
  },
  {
   "source": [
    "## Remove corrupted images"
   ],
   "cell_type": "markdown",
   "metadata": {}
  },
  {
   "cell_type": "code",
   "execution_count": 58,
   "metadata": {},
   "outputs": [
    {
     "output_type": "execute_result",
     "data": {
      "text/plain": [
       "         id                                              title  scanlator  \\\n",
       "0    212548                                              Syoku        NaN   \n",
       "1     57170         Drug Fumi-chan Seishun Hen Ura Manga Michi        NaN   \n",
       "2     75495                                     SHIRONA HAZARD        NaN   \n",
       "3    229284                              2205-nen no Afterglow        NaN   \n",
       "4     99262                                    moon marguerite        NaN   \n",
       "..      ...                                                ...        ...   \n",
       "532  191631                         Kobayashichi no Inu Dragon        NaN   \n",
       "533  325513                             Ikumi-chan Niku Niku 2        NaN   \n",
       "534  150615  Usamimi Danshi Koukousei ga Masaka Mob ni Okas...        NaN   \n",
       "535   41682                Shirley to Lucchini no Gohoushi Hon        NaN   \n",
       "536  265484       Cosplay Kanojo ga Netorareru Hon BB-chan Hen        NaN   \n",
       "\n",
       "                              url                                     api  \\\n",
       "0    https://nhentai.net/g/212548  https://nhentai.net/api/gallery/212548   \n",
       "1     https://nhentai.net/g/57170   https://nhentai.net/api/gallery/57170   \n",
       "2     https://nhentai.net/g/75495   https://nhentai.net/api/gallery/75495   \n",
       "3    https://nhentai.net/g/229284  https://nhentai.net/api/gallery/229284   \n",
       "4     https://nhentai.net/g/99262   https://nhentai.net/api/gallery/99262   \n",
       "..                            ...                                     ...   \n",
       "532  https://nhentai.net/g/191631  https://nhentai.net/api/gallery/191631   \n",
       "533  https://nhentai.net/g/325513  https://nhentai.net/api/gallery/325513   \n",
       "534  https://nhentai.net/g/150615  https://nhentai.net/api/gallery/150615   \n",
       "535   https://nhentai.net/g/41682   https://nhentai.net/api/gallery/41682   \n",
       "536  https://nhentai.net/g/265484  https://nhentai.net/api/gallery/265484   \n",
       "\n",
       "     media_id        epos  num_favorites  \\\n",
       "0     1133892  1509103975           4452   \n",
       "1      333208  1403992737             21   \n",
       "2      490119  1403996013            191   \n",
       "3     1206999  1522895460            101   \n",
       "4      635686  1404000355            138   \n",
       "..        ...         ...            ...   \n",
       "532   1046505  1491184635            712   \n",
       "533   1712669  1597933877           1387   \n",
       "534    868662  1449593893             36   \n",
       "535    199951  1403989884             54   \n",
       "536   1378265  1552153001            502   \n",
       "\n",
       "                                                   tag                  group  \\\n",
       "0    [big breasts, milf, nakadashi, sole female, ch...           [hyoco road]   \n",
       "1       [bondage, yuri, schoolgirl uniform, tankoubon]                     []   \n",
       "2                                        [big breasts]              [draw go]   \n",
       "3                   [eyepatch, sole male, sole female]         [frozen world]   \n",
       "4    [stockings, paizuri, lingerie, sole female, so...       [meltdown comet]   \n",
       "..                                                 ...                    ...   \n",
       "532  [bestiality, big breasts, inverted nipples, mo...        [zensoku rider]   \n",
       "533  [sole male, big breasts, collar, dark skin, so...  [amazake hatosyo-ten]   \n",
       "534  [anal, bunny boy, males only, muscle, yaoi, sw...                     []   \n",
       "535                      [big breasts, group, lolicon]       [atsuya kougyou]   \n",
       "536  [big breasts, cheating, cosplaying, deepthroat...   [unyarara daihanten]   \n",
       "\n",
       "                                 parody  \\\n",
       "0                       [occultic nine]   \n",
       "1                                    []   \n",
       "2                             [pokemon]   \n",
       "3                        [touken ranbu]   \n",
       "4                      [touhou project]   \n",
       "..                                  ...   \n",
       "532  [kobayashi-san-chi no maid dragon]   \n",
       "533                 [shokugeki no soma]   \n",
       "534                              [free]   \n",
       "535                    [strike witches]   \n",
       "536                  [fate grand order]   \n",
       "\n",
       "                                             character  \\\n",
       "0                                   [ririka nishizono]   \n",
       "1                                                   []   \n",
       "2                                            [cynthia]   \n",
       "3                             [shokudaikiri mitsutada]   \n",
       "4                                [patchouli knowledge]   \n",
       "..                                                 ...   \n",
       "532                                 [kobayashi, tohru]   \n",
       "533                       [souma yukihira, ikumi mito]   \n",
       "534                  [haruka nanase, makoto tachibana]   \n",
       "535  [francesca lucchini, charlotte e. yeager, shir...   \n",
       "536                                               [bb]   \n",
       "\n",
       "                      language           artist     category  \\\n",
       "0    ['english', 'translated']       [hyocorou]  [doujinshi]   \n",
       "1                 ['japanese']   [shin tsuguru]      [manga]   \n",
       "2                 ['japanese']        [souichi]  [doujinshi]   \n",
       "3                 ['japanese']         [kanaso]  [doujinshi]   \n",
       "4                 ['japanese']      [yukiu con]  [doujinshi]   \n",
       "..                         ...              ...          ...   \n",
       "532               ['japanese']  [tenzen miyabi]  [doujinshi]   \n",
       "533  ['chinese', 'translated']    [yoshu ohepe]  [doujinshi]   \n",
       "534               ['japanese']               []  [doujinshi]   \n",
       "535               ['japanese']   [kaisen chuui]  [doujinshi]   \n",
       "536               ['japanese']    [mabuchoko m]  [doujinshi]   \n",
       "\n",
       "                                                 cover  \\\n",
       "0    https://t.nhentai.net/galleries/1133892/cover.jpg   \n",
       "1     https://t.nhentai.net/galleries/333208/cover.jpg   \n",
       "2     https://t.nhentai.net/galleries/490119/cover.jpg   \n",
       "3    https://t.nhentai.net/galleries/1206999/cover.jpg   \n",
       "4     https://t.nhentai.net/galleries/635686/cover.jpg   \n",
       "..                                                 ...   \n",
       "532  https://t.nhentai.net/galleries/1046505/cover.jpg   \n",
       "533  https://t.nhentai.net/galleries/1712669/cover.jpg   \n",
       "534   https://t.nhentai.net/galleries/868662/cover.jpg   \n",
       "535   https://t.nhentai.net/galleries/199951/cover.jpg   \n",
       "536  https://t.nhentai.net/galleries/1378265/cover.jpg   \n",
       "\n",
       "                                             thumbnail  \\\n",
       "0    https://t.nhentai.net/galleries/1133892/thumb.jpg   \n",
       "1     https://t.nhentai.net/galleries/333208/thumb.jpg   \n",
       "2     https://t.nhentai.net/galleries/490119/thumb.jpg   \n",
       "3    https://t.nhentai.net/galleries/1206999/thumb.jpg   \n",
       "4     https://t.nhentai.net/galleries/635686/thumb.jpg   \n",
       "..                                                 ...   \n",
       "532  https://t.nhentai.net/galleries/1046505/thumb.jpg   \n",
       "533  https://t.nhentai.net/galleries/1712669/thumb.jpg   \n",
       "534   https://t.nhentai.net/galleries/868662/thumb.jpg   \n",
       "535   https://t.nhentai.net/galleries/199951/thumb.jpg   \n",
       "536  https://t.nhentai.net/galleries/1378265/thumb.jpg   \n",
       "\n",
       "                                            image_urls  num_pages  \\\n",
       "0    [https://i.nhentai.net/galleries/1133892/1.jpg...         33   \n",
       "1    [https://i.nhentai.net/galleries/333208/1.jpg,...        166   \n",
       "2    [https://i.nhentai.net/galleries/490119/1.jpg,...         23   \n",
       "3    [https://i.nhentai.net/galleries/1206999/1.jpg...         47   \n",
       "4    [https://i.nhentai.net/galleries/635686/1.jpg,...         26   \n",
       "..                                                 ...        ...   \n",
       "532  [https://i.nhentai.net/galleries/1046505/1.jpg...         10   \n",
       "533  [https://i.nhentai.net/galleries/1712669/1.jpg...         30   \n",
       "534  [https://i.nhentai.net/galleries/868662/1.jpg,...         31   \n",
       "535  [https://i.nhentai.net/galleries/199951/1.jpg,...         25   \n",
       "536  [https://i.nhentai.net/galleries/1378265/1.jpg...         26   \n",
       "\n",
       "                                             filenames  \n",
       "0    [212548\\1.jpg, 212548\\2.jpg, 212548\\3.jpg, 212...  \n",
       "1    [57170\\1.jpg, 57170\\2.jpg, 57170\\3.jpg, 57170\\...  \n",
       "2    [75495\\1.jpg, 75495\\2.jpg, 75495\\3.jpg, 75495\\...  \n",
       "3    [229284\\1.jpg, 229284\\2.png, 229284\\3.jpg, 229...  \n",
       "4    [99262\\1.jpg, 99262\\2.jpg, 99262\\3.jpg, 99262\\...  \n",
       "..                                                 ...  \n",
       "532  [191631\\1.jpg, 191631\\2.jpg, 191631\\3.jpg, 191...  \n",
       "533  [325513\\1.jpg, 325513\\2.jpg, 325513\\3.jpg, 325...  \n",
       "534  [150615\\1.jpg, 150615\\2.jpg, 150615\\3.jpg, 150...  \n",
       "535  [41682\\1.jpg, 41682\\2.jpg, 41682\\3.jpg, 41682\\...  \n",
       "536  [265484\\1.jpg, 265484\\2.jpg, 265484\\3.jpg, 265...  \n",
       "\n",
       "[537 rows x 20 columns]"
      ],
      "text/html": "<div>\n<style scoped>\n    .dataframe tbody tr th:only-of-type {\n        vertical-align: middle;\n    }\n\n    .dataframe tbody tr th {\n        vertical-align: top;\n    }\n\n    .dataframe thead th {\n        text-align: right;\n    }\n</style>\n<table border=\"1\" class=\"dataframe\">\n  <thead>\n    <tr style=\"text-align: right;\">\n      <th></th>\n      <th>id</th>\n      <th>title</th>\n      <th>scanlator</th>\n      <th>url</th>\n      <th>api</th>\n      <th>media_id</th>\n      <th>epos</th>\n      <th>num_favorites</th>\n      <th>tag</th>\n      <th>group</th>\n      <th>parody</th>\n      <th>character</th>\n      <th>language</th>\n      <th>artist</th>\n      <th>category</th>\n      <th>cover</th>\n      <th>thumbnail</th>\n      <th>image_urls</th>\n      <th>num_pages</th>\n      <th>filenames</th>\n    </tr>\n  </thead>\n  <tbody>\n    <tr>\n      <th>0</th>\n      <td>212548</td>\n      <td>Syoku</td>\n      <td>NaN</td>\n      <td>https://nhentai.net/g/212548</td>\n      <td>https://nhentai.net/api/gallery/212548</td>\n      <td>1133892</td>\n      <td>1509103975</td>\n      <td>4452</td>\n      <td>[big breasts, milf, nakadashi, sole female, ch...</td>\n      <td>[hyoco road]</td>\n      <td>[occultic nine]</td>\n      <td>[ririka nishizono]</td>\n      <td>['english', 'translated']</td>\n      <td>[hyocorou]</td>\n      <td>[doujinshi]</td>\n      <td>https://t.nhentai.net/galleries/1133892/cover.jpg</td>\n      <td>https://t.nhentai.net/galleries/1133892/thumb.jpg</td>\n      <td>[https://i.nhentai.net/galleries/1133892/1.jpg...</td>\n      <td>33</td>\n      <td>[212548\\1.jpg, 212548\\2.jpg, 212548\\3.jpg, 212...</td>\n    </tr>\n    <tr>\n      <th>1</th>\n      <td>57170</td>\n      <td>Drug Fumi-chan Seishun Hen Ura Manga Michi</td>\n      <td>NaN</td>\n      <td>https://nhentai.net/g/57170</td>\n      <td>https://nhentai.net/api/gallery/57170</td>\n      <td>333208</td>\n      <td>1403992737</td>\n      <td>21</td>\n      <td>[bondage, yuri, schoolgirl uniform, tankoubon]</td>\n      <td>[]</td>\n      <td>[]</td>\n      <td>[]</td>\n      <td>['japanese']</td>\n      <td>[shin tsuguru]</td>\n      <td>[manga]</td>\n      <td>https://t.nhentai.net/galleries/333208/cover.jpg</td>\n      <td>https://t.nhentai.net/galleries/333208/thumb.jpg</td>\n      <td>[https://i.nhentai.net/galleries/333208/1.jpg,...</td>\n      <td>166</td>\n      <td>[57170\\1.jpg, 57170\\2.jpg, 57170\\3.jpg, 57170\\...</td>\n    </tr>\n    <tr>\n      <th>2</th>\n      <td>75495</td>\n      <td>SHIRONA HAZARD</td>\n      <td>NaN</td>\n      <td>https://nhentai.net/g/75495</td>\n      <td>https://nhentai.net/api/gallery/75495</td>\n      <td>490119</td>\n      <td>1403996013</td>\n      <td>191</td>\n      <td>[big breasts]</td>\n      <td>[draw go]</td>\n      <td>[pokemon]</td>\n      <td>[cynthia]</td>\n      <td>['japanese']</td>\n      <td>[souichi]</td>\n      <td>[doujinshi]</td>\n      <td>https://t.nhentai.net/galleries/490119/cover.jpg</td>\n      <td>https://t.nhentai.net/galleries/490119/thumb.jpg</td>\n      <td>[https://i.nhentai.net/galleries/490119/1.jpg,...</td>\n      <td>23</td>\n      <td>[75495\\1.jpg, 75495\\2.jpg, 75495\\3.jpg, 75495\\...</td>\n    </tr>\n    <tr>\n      <th>3</th>\n      <td>229284</td>\n      <td>2205-nen no Afterglow</td>\n      <td>NaN</td>\n      <td>https://nhentai.net/g/229284</td>\n      <td>https://nhentai.net/api/gallery/229284</td>\n      <td>1206999</td>\n      <td>1522895460</td>\n      <td>101</td>\n      <td>[eyepatch, sole male, sole female]</td>\n      <td>[frozen world]</td>\n      <td>[touken ranbu]</td>\n      <td>[shokudaikiri mitsutada]</td>\n      <td>['japanese']</td>\n      <td>[kanaso]</td>\n      <td>[doujinshi]</td>\n      <td>https://t.nhentai.net/galleries/1206999/cover.jpg</td>\n      <td>https://t.nhentai.net/galleries/1206999/thumb.jpg</td>\n      <td>[https://i.nhentai.net/galleries/1206999/1.jpg...</td>\n      <td>47</td>\n      <td>[229284\\1.jpg, 229284\\2.png, 229284\\3.jpg, 229...</td>\n    </tr>\n    <tr>\n      <th>4</th>\n      <td>99262</td>\n      <td>moon marguerite</td>\n      <td>NaN</td>\n      <td>https://nhentai.net/g/99262</td>\n      <td>https://nhentai.net/api/gallery/99262</td>\n      <td>635686</td>\n      <td>1404000355</td>\n      <td>138</td>\n      <td>[stockings, paizuri, lingerie, sole female, so...</td>\n      <td>[meltdown comet]</td>\n      <td>[touhou project]</td>\n      <td>[patchouli knowledge]</td>\n      <td>['japanese']</td>\n      <td>[yukiu con]</td>\n      <td>[doujinshi]</td>\n      <td>https://t.nhentai.net/galleries/635686/cover.jpg</td>\n      <td>https://t.nhentai.net/galleries/635686/thumb.jpg</td>\n      <td>[https://i.nhentai.net/galleries/635686/1.jpg,...</td>\n      <td>26</td>\n      <td>[99262\\1.jpg, 99262\\2.jpg, 99262\\3.jpg, 99262\\...</td>\n    </tr>\n    <tr>\n      <th>...</th>\n      <td>...</td>\n      <td>...</td>\n      <td>...</td>\n      <td>...</td>\n      <td>...</td>\n      <td>...</td>\n      <td>...</td>\n      <td>...</td>\n      <td>...</td>\n      <td>...</td>\n      <td>...</td>\n      <td>...</td>\n      <td>...</td>\n      <td>...</td>\n      <td>...</td>\n      <td>...</td>\n      <td>...</td>\n      <td>...</td>\n      <td>...</td>\n      <td>...</td>\n    </tr>\n    <tr>\n      <th>532</th>\n      <td>191631</td>\n      <td>Kobayashichi no Inu Dragon</td>\n      <td>NaN</td>\n      <td>https://nhentai.net/g/191631</td>\n      <td>https://nhentai.net/api/gallery/191631</td>\n      <td>1046505</td>\n      <td>1491184635</td>\n      <td>712</td>\n      <td>[bestiality, big breasts, inverted nipples, mo...</td>\n      <td>[zensoku rider]</td>\n      <td>[kobayashi-san-chi no maid dragon]</td>\n      <td>[kobayashi, tohru]</td>\n      <td>['japanese']</td>\n      <td>[tenzen miyabi]</td>\n      <td>[doujinshi]</td>\n      <td>https://t.nhentai.net/galleries/1046505/cover.jpg</td>\n      <td>https://t.nhentai.net/galleries/1046505/thumb.jpg</td>\n      <td>[https://i.nhentai.net/galleries/1046505/1.jpg...</td>\n      <td>10</td>\n      <td>[191631\\1.jpg, 191631\\2.jpg, 191631\\3.jpg, 191...</td>\n    </tr>\n    <tr>\n      <th>533</th>\n      <td>325513</td>\n      <td>Ikumi-chan Niku Niku 2</td>\n      <td>NaN</td>\n      <td>https://nhentai.net/g/325513</td>\n      <td>https://nhentai.net/api/gallery/325513</td>\n      <td>1712669</td>\n      <td>1597933877</td>\n      <td>1387</td>\n      <td>[sole male, big breasts, collar, dark skin, so...</td>\n      <td>[amazake hatosyo-ten]</td>\n      <td>[shokugeki no soma]</td>\n      <td>[souma yukihira, ikumi mito]</td>\n      <td>['chinese', 'translated']</td>\n      <td>[yoshu ohepe]</td>\n      <td>[doujinshi]</td>\n      <td>https://t.nhentai.net/galleries/1712669/cover.jpg</td>\n      <td>https://t.nhentai.net/galleries/1712669/thumb.jpg</td>\n      <td>[https://i.nhentai.net/galleries/1712669/1.jpg...</td>\n      <td>30</td>\n      <td>[325513\\1.jpg, 325513\\2.jpg, 325513\\3.jpg, 325...</td>\n    </tr>\n    <tr>\n      <th>534</th>\n      <td>150615</td>\n      <td>Usamimi Danshi Koukousei ga Masaka Mob ni Okas...</td>\n      <td>NaN</td>\n      <td>https://nhentai.net/g/150615</td>\n      <td>https://nhentai.net/api/gallery/150615</td>\n      <td>868662</td>\n      <td>1449593893</td>\n      <td>36</td>\n      <td>[anal, bunny boy, males only, muscle, yaoi, sw...</td>\n      <td>[]</td>\n      <td>[free]</td>\n      <td>[haruka nanase, makoto tachibana]</td>\n      <td>['japanese']</td>\n      <td>[]</td>\n      <td>[doujinshi]</td>\n      <td>https://t.nhentai.net/galleries/868662/cover.jpg</td>\n      <td>https://t.nhentai.net/galleries/868662/thumb.jpg</td>\n      <td>[https://i.nhentai.net/galleries/868662/1.jpg,...</td>\n      <td>31</td>\n      <td>[150615\\1.jpg, 150615\\2.jpg, 150615\\3.jpg, 150...</td>\n    </tr>\n    <tr>\n      <th>535</th>\n      <td>41682</td>\n      <td>Shirley to Lucchini no Gohoushi Hon</td>\n      <td>NaN</td>\n      <td>https://nhentai.net/g/41682</td>\n      <td>https://nhentai.net/api/gallery/41682</td>\n      <td>199951</td>\n      <td>1403989884</td>\n      <td>54</td>\n      <td>[big breasts, group, lolicon]</td>\n      <td>[atsuya kougyou]</td>\n      <td>[strike witches]</td>\n      <td>[francesca lucchini, charlotte e. yeager, shir...</td>\n      <td>['japanese']</td>\n      <td>[kaisen chuui]</td>\n      <td>[doujinshi]</td>\n      <td>https://t.nhentai.net/galleries/199951/cover.jpg</td>\n      <td>https://t.nhentai.net/galleries/199951/thumb.jpg</td>\n      <td>[https://i.nhentai.net/galleries/199951/1.jpg,...</td>\n      <td>25</td>\n      <td>[41682\\1.jpg, 41682\\2.jpg, 41682\\3.jpg, 41682\\...</td>\n    </tr>\n    <tr>\n      <th>536</th>\n      <td>265484</td>\n      <td>Cosplay Kanojo ga Netorareru Hon BB-chan Hen</td>\n      <td>NaN</td>\n      <td>https://nhentai.net/g/265484</td>\n      <td>https://nhentai.net/api/gallery/265484</td>\n      <td>1378265</td>\n      <td>1552153001</td>\n      <td>502</td>\n      <td>[big breasts, cheating, cosplaying, deepthroat...</td>\n      <td>[unyarara daihanten]</td>\n      <td>[fate grand order]</td>\n      <td>[bb]</td>\n      <td>['japanese']</td>\n      <td>[mabuchoko m]</td>\n      <td>[doujinshi]</td>\n      <td>https://t.nhentai.net/galleries/1378265/cover.jpg</td>\n      <td>https://t.nhentai.net/galleries/1378265/thumb.jpg</td>\n      <td>[https://i.nhentai.net/galleries/1378265/1.jpg...</td>\n      <td>26</td>\n      <td>[265484\\1.jpg, 265484\\2.jpg, 265484\\3.jpg, 265...</td>\n    </tr>\n  </tbody>\n</table>\n<p>537 rows × 20 columns</p>\n</div>"
     },
     "metadata": {},
     "execution_count": 58
    }
   ],
   "source": [
    "def hentai_filenames(hentai: pd.Series):\n",
    "    return [\n",
    "        str(PurePath(str(hentai[\"id\"])) / Path(url).name)\n",
    "        for url in hentai[\"image_urls\"]\n",
    "    ]\n",
    "\n",
    "hentais_df = hentais_df.assign(filenames=hentais_df.apply(hentai_filenames, axis=1))\n",
    "hentais_df"
   ]
  },
  {
   "cell_type": "code",
   "execution_count": 59,
   "metadata": {
    "tags": []
   },
   "outputs": [
    {
     "output_type": "stream",
     "name": "stderr",
     "text": [
      "C:\\Anaconda3\\lib\\site-packages\\tqdm\\std.py:702: FutureWarning: The Panel class is removed from pandas. Accessing it from the top-level namespace will also be removed in the next version\n",
      "  from pandas import Panel\n",
      "100%|██████████| 537/537 [10:19<00:00,  1.15s/it]\n"
     ]
    }
   ],
   "source": [
    "def preprocess_image(filename: str) -> Union[os.PathLike, None]:\n",
    "    image_path = Path(filename)\n",
    "    image_preproc_dir = Path(DATA_PATH) / \"preprocessed\" / image_path.parent\n",
    "    image_preproc_path = image_preproc_dir / Path(image_path.stem + \".jpg\")\n",
    "\n",
    "    # Preprocess only those images that do not exist in\n",
    "    # the destination dataset for performance reason\n",
    "    if not image_preproc_path.is_file():\n",
    "        try:\n",
    "            image = Image.open(Path(DATA_PATH) / \"raw\" / image_path)\n",
    "            # Normalize images to be JPEG compatible\n",
    "            image = image.convert(\"RGB\")\n",
    "            image_preproc_dir.mkdir(parents=True, exist_ok=True)\n",
    "            image.save(image_preproc_path, \"JPEG\")\n",
    "        except:\n",
    "            return None\n",
    "\n",
    "    return str(PurePath(image_preproc_path))\n",
    "\n",
    "def preprocess_images(hentai: pd.Series) -> bool:\n",
    "    return [\n",
    "        preprocess_image(filename)\n",
    "        for filename in hentai[\"filenames\"]\n",
    "    ]\n",
    "\n",
    "tqdm.pandas()\n",
    "hentais_df = hentais_df.assign(filenames=hentais_df.progress_apply(preprocess_images, axis=1))"
   ]
  },
  {
   "source": [
    "We will filter every hentais that contain at least one corrupted images, since pages have order dependencies."
   ],
   "cell_type": "markdown",
   "metadata": {}
  },
  {
   "cell_type": "code",
   "execution_count": 60,
   "metadata": {},
   "outputs": [],
   "source": [
    "hentais_df = hentais_df[hentais_df[\"filenames\"].apply(all)]"
   ]
  },
  {
   "cell_type": "code",
   "execution_count": 61,
   "metadata": {},
   "outputs": [
    {
     "output_type": "stream",
     "name": "stdout",
     "text": [
      "Number of preprocessed images : 536\n"
     ]
    }
   ],
   "source": [
    "# The metadata CSV file that will contain the raw information about the hentai\n",
    "metadata_path = Path(DATA_PATH) / \"preprocessed\" / \"metadata.csv\"\n",
    "hentais_df.to_csv(\n",
    "    metadata_path,\n",
    "    index=False,\n",
    "    header=\"column_names\",\n",
    "    columns=[\n",
    "        \"id\",\n",
    "        \"title\",\n",
    "        \"num_favorites\",\n",
    "        \"tag\",\n",
    "        \"group\",\n",
    "        \"parody\",\n",
    "        \"character\",\n",
    "        \"language\",\n",
    "        \"artist\",\n",
    "        \"category\",\n",
    "        \"num_pages\",\n",
    "        \"filenames\"\n",
    "    ]\n",
    ")\n",
    "print(\"Number of preprocessed images :\", len(hentais_df))"
   ]
  },
  {
   "cell_type": "code",
   "execution_count": null,
   "metadata": {},
   "outputs": [],
   "source": []
  }
 ]
}