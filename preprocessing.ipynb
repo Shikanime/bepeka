{
 "metadata": {
  "language_info": {
   "codemirror_mode": {
    "name": "ipython",
    "version": 3
   },
   "file_extension": ".py",
   "mimetype": "text/x-python",
   "name": "python",
   "nbconvert_exporter": "python",
   "pygments_lexer": "ipython3",
   "version": "3.8.5"
  },
  "orig_nbformat": 2,
  "kernelspec": {
   "name": "python385jvsc74a57bd097ae724bfa85b9b34df7982b8bb8c7216f435b92902d749e4263f71162bea840",
   "display_name": "Python 3.8.5 64-bit ('base': conda)"
  }
 },
 "nbformat": 4,
 "nbformat_minor": 2,
 "cells": [
  {
   "cell_type": "code",
   "execution_count": 14,
   "metadata": {},
   "outputs": [],
   "source": [
    "# Utils packages\n",
    "import ast\n",
    "from pathlib import Path, PurePath\n",
    "from typing import Union\n",
    "\n",
    "# Data collector packages\n",
    "from hentai import Utils, Hentai, Option\n",
    "\n",
    "# Analysis packages\n",
    "import pandas as pd\n",
    "from PIL import Image\n",
    "from tqdm import tqdm\n",
    "\n",
    "# Compute packages\n",
    "import numpy as np\n",
    "import tensorflow as tf"
   ]
  },
  {
   "source": [
    "## Data collection\n",
    "\n",
    "We will use the information and media collected on the nhentai.net website. Recording each entry in a 'metadata.csv' file that aggregates information about the hentai, including links to download pages."
   ],
   "cell_type": "markdown",
   "metadata": {}
  },
  {
   "cell_type": "code",
   "execution_count": 15,
   "metadata": {},
   "outputs": [],
   "source": [
    "N_SAMPLE = 0 # Number of sample to refetch from hentai.\n",
    "DATA_PATH = \"data\" # Directory to drop collected data."
   ]
  },
  {
   "cell_type": "code",
   "execution_count": 16,
   "metadata": {},
   "outputs": [],
   "source": [
    "def random_hentai(_: int) -> pd.Series:\n",
    "    return pd.Series(Utils.get_random_hentai().dictionary(Option.all()))"
   ]
  },
  {
   "cell_type": "code",
   "execution_count": 17,
   "metadata": {},
   "outputs": [
    {
     "output_type": "stream",
     "name": "stderr",
     "text": [
      "<ipython-input-17-4a52f118b4da>:2: DeprecationWarning: The default dtype for empty Series will be 'object' instead of 'float64' in a future version. Specify a dtype explicitly to silence this warning.\n",
      "  hentais_df = pd.Series(range(N_SAMPLE))\n",
      "Number of collected hentais:  0\n"
     ]
    }
   ],
   "source": [
    "# Query the nhentai.net API to get N number of random hentai\n",
    "hentais_df = pd.Series(range(N_SAMPLE))\n",
    "hentais_df = hentais_df.apply(random_hentai)\n",
    "\n",
    "# The metadata CSV file that will contain the raw information about the hentai\n",
    "metadata_path = Path(DATA_PATH) / \"raw\" / \"metadata.csv\"\n",
    "\n",
    "# Create a CSV file with a header only if the file does not exist\n",
    "if not metadata_path.is_file():\n",
    "    hentais_df.to_csv(metadata_path, index=False, header=\"column_names\")\n",
    "else:\n",
    "    hentais_df.to_csv(metadata_path, index=False, mode=\"a\", header=False)\n",
    "\n",
    "print(\"Number of collected hentais: \", len(hentais_df))"
   ]
  },
  {
   "source": [
    "## Read dataset file"
   ],
   "cell_type": "markdown",
   "metadata": {}
  },
  {
   "source": [
    "hentais_df = pd.read_csv(\n",
    "    Path(DATA_PATH) / \"raw\" / \"metadata.csv\",\n",
    "    converters={\n",
    "        column_name: ast.literal_eval\n",
    "        for column_name in [\n",
    "            \"tag\",\n",
    "            \"group\",\n",
    "            \"parody\",\n",
    "            \"character\",\n",
    "            \"artist\",\n",
    "            \"category\",\n",
    "            \"image_urls\"\n",
    "        ]\n",
    "    }\n",
    ")\n",
    "hentais_df"
   ],
   "cell_type": "code",
   "metadata": {},
   "execution_count": 18,
   "outputs": [
    {
     "output_type": "execute_result",
     "data": {
      "text/plain": [
       "         id                                       title  scanlator  \\\n",
       "0    212548                                       Syoku        NaN   \n",
       "1     57170  Drug Fumi-chan Seishun Hen Ura Manga Michi        NaN   \n",
       "2     75495                              SHIRONA HAZARD        NaN   \n",
       "3    229284                       2205-nen no Afterglow        NaN   \n",
       "4     99262                             moon marguerite        NaN   \n",
       "..      ...                                         ...        ...   \n",
       "591  349482               No. 2 'Rika-shitsu e Youkoso'        NaN   \n",
       "592  250915                                   淫獣大小クラン陵辱        NaN   \n",
       "593  287880           Imouto no Kareshi ga Kawaii no de        NaN   \n",
       "594   99506                         Goshujin-sama Anone        NaN   \n",
       "595  122609                          Teitoku no Goshumi        NaN   \n",
       "\n",
       "                              url                                     api  \\\n",
       "0    https://nhentai.net/g/212548  https://nhentai.net/api/gallery/212548   \n",
       "1     https://nhentai.net/g/57170   https://nhentai.net/api/gallery/57170   \n",
       "2     https://nhentai.net/g/75495   https://nhentai.net/api/gallery/75495   \n",
       "3    https://nhentai.net/g/229284  https://nhentai.net/api/gallery/229284   \n",
       "4     https://nhentai.net/g/99262   https://nhentai.net/api/gallery/99262   \n",
       "..                            ...                                     ...   \n",
       "591  https://nhentai.net/g/349482  https://nhentai.net/api/gallery/349482   \n",
       "592  https://nhentai.net/g/250915  https://nhentai.net/api/gallery/250915   \n",
       "593  https://nhentai.net/g/287880  https://nhentai.net/api/gallery/287880   \n",
       "594   https://nhentai.net/g/99506   https://nhentai.net/api/gallery/99506   \n",
       "595  https://nhentai.net/g/122609  https://nhentai.net/api/gallery/122609   \n",
       "\n",
       "     media_id        epos  num_favorites  \\\n",
       "0     1133892  1509103975           4452   \n",
       "1      333208  1403992737             21   \n",
       "2      490119  1403996013            191   \n",
       "3     1206999  1522895460            101   \n",
       "4      635686  1404000355            138   \n",
       "..        ...         ...            ...   \n",
       "591   1856769  1614519177             56   \n",
       "592   1305191  1540380726            111   \n",
       "593   1500010  1570893184           1235   \n",
       "594    636122  1404000399             98   \n",
       "595    766607  1418615311            139   \n",
       "\n",
       "                                                   tag                  group  \\\n",
       "0    [big breasts, milf, nakadashi, sole female, ch...           [hyoco road]   \n",
       "1       [bondage, yuri, schoolgirl uniform, tankoubon]                     []   \n",
       "2                                        [big breasts]              [draw go]   \n",
       "3                   [eyepatch, sole male, sole female]         [frozen world]   \n",
       "4    [stockings, paizuri, lingerie, sole female, so...       [meltdown comet]   \n",
       "..                                                 ...                    ...   \n",
       "591                                         [scanmark]                     []   \n",
       "592   [bdsm, collar, lolicon, group, already uploaded]        [aodiso kankou]   \n",
       "593  [cheating, shotacon, lolicon, twintails, mosai...  [kuromahou kenkyuujo]   \n",
       "594                  [dog boy, yaoi, sample, shotacon]            [unagigoya]   \n",
       "595                 [dougi, anal, military, pantyhose]        [cherry pepper]   \n",
       "\n",
       "                             parody                        character  \\\n",
       "0                   [occultic nine]               [ririka nishizono]   \n",
       "1                                []                               []   \n",
       "2                         [pokemon]                        [cynthia]   \n",
       "3                    [touken ranbu]         [shokudaikiri mitsutada]   \n",
       "4                  [touhou project]            [patchouli knowledge]   \n",
       "..                              ...                              ...   \n",
       "591  [boku wa tomodachi ga sukunai]  [kodaka hasegawa, rika shiguma]   \n",
       "592              [macross frontier]                      [klan klan]   \n",
       "593                      [original]                               []   \n",
       "594                              []                               []   \n",
       "595             [kantai collection]                           [kaga]   \n",
       "\n",
       "                      language            artist     category  \\\n",
       "0    ['english', 'translated']        [hyocorou]  [doujinshi]   \n",
       "1                 ['japanese']    [shin tsuguru]      [manga]   \n",
       "2                 ['japanese']         [souichi]  [doujinshi]   \n",
       "3                 ['japanese']          [kanaso]  [doujinshi]   \n",
       "4                 ['japanese']       [yukiu con]  [doujinshi]   \n",
       "..                         ...               ...          ...   \n",
       "591               ['japanese']                []  [doujinshi]   \n",
       "592               ['japanese']       [hida mari]  [doujinshi]   \n",
       "593               ['japanese']          [nukaji]  [doujinshi]   \n",
       "594               ['japanese']  [sakura puchilo]  [doujinshi]   \n",
       "595  ['english', 'translated']          [yukian]  [doujinshi]   \n",
       "\n",
       "                                                 cover  \\\n",
       "0    https://t.nhentai.net/galleries/1133892/cover.jpg   \n",
       "1     https://t.nhentai.net/galleries/333208/cover.jpg   \n",
       "2     https://t.nhentai.net/galleries/490119/cover.jpg   \n",
       "3    https://t.nhentai.net/galleries/1206999/cover.jpg   \n",
       "4     https://t.nhentai.net/galleries/635686/cover.jpg   \n",
       "..                                                 ...   \n",
       "591  https://t.nhentai.net/galleries/1856769/cover.jpg   \n",
       "592  https://t.nhentai.net/galleries/1305191/cover.jpg   \n",
       "593  https://t.nhentai.net/galleries/1500010/cover.jpg   \n",
       "594   https://t.nhentai.net/galleries/636122/cover.png   \n",
       "595   https://t.nhentai.net/galleries/766607/cover.jpg   \n",
       "\n",
       "                                             thumbnail  \\\n",
       "0    https://t.nhentai.net/galleries/1133892/thumb.jpg   \n",
       "1     https://t.nhentai.net/galleries/333208/thumb.jpg   \n",
       "2     https://t.nhentai.net/galleries/490119/thumb.jpg   \n",
       "3    https://t.nhentai.net/galleries/1206999/thumb.jpg   \n",
       "4     https://t.nhentai.net/galleries/635686/thumb.jpg   \n",
       "..                                                 ...   \n",
       "591  https://t.nhentai.net/galleries/1856769/thumb.jpg   \n",
       "592  https://t.nhentai.net/galleries/1305191/thumb.jpg   \n",
       "593  https://t.nhentai.net/galleries/1500010/thumb.jpg   \n",
       "594   https://t.nhentai.net/galleries/636122/thumb.png   \n",
       "595   https://t.nhentai.net/galleries/766607/thumb.jpg   \n",
       "\n",
       "                                            image_urls  num_pages  \n",
       "0    [https://i.nhentai.net/galleries/1133892/1.jpg...         33  \n",
       "1    [https://i.nhentai.net/galleries/333208/1.jpg,...        166  \n",
       "2    [https://i.nhentai.net/galleries/490119/1.jpg,...         23  \n",
       "3    [https://i.nhentai.net/galleries/1206999/1.jpg...         47  \n",
       "4    [https://i.nhentai.net/galleries/635686/1.jpg,...         26  \n",
       "..                                                 ...        ...  \n",
       "591  [https://i.nhentai.net/galleries/1856769/1.jpg...         31  \n",
       "592  [https://i.nhentai.net/galleries/1305191/1.jpg...         18  \n",
       "593  [https://i.nhentai.net/galleries/1500010/1.jpg...         52  \n",
       "594  [https://i.nhentai.net/galleries/636122/1.png,...         11  \n",
       "595  [https://i.nhentai.net/galleries/766607/1.jpg,...         26  \n",
       "\n",
       "[596 rows x 19 columns]"
      ],
      "text/html": "<div>\n<style scoped>\n    .dataframe tbody tr th:only-of-type {\n        vertical-align: middle;\n    }\n\n    .dataframe tbody tr th {\n        vertical-align: top;\n    }\n\n    .dataframe thead th {\n        text-align: right;\n    }\n</style>\n<table border=\"1\" class=\"dataframe\">\n  <thead>\n    <tr style=\"text-align: right;\">\n      <th></th>\n      <th>id</th>\n      <th>title</th>\n      <th>scanlator</th>\n      <th>url</th>\n      <th>api</th>\n      <th>media_id</th>\n      <th>epos</th>\n      <th>num_favorites</th>\n      <th>tag</th>\n      <th>group</th>\n      <th>parody</th>\n      <th>character</th>\n      <th>language</th>\n      <th>artist</th>\n      <th>category</th>\n      <th>cover</th>\n      <th>thumbnail</th>\n      <th>image_urls</th>\n      <th>num_pages</th>\n    </tr>\n  </thead>\n  <tbody>\n    <tr>\n      <th>0</th>\n      <td>212548</td>\n      <td>Syoku</td>\n      <td>NaN</td>\n      <td>https://nhentai.net/g/212548</td>\n      <td>https://nhentai.net/api/gallery/212548</td>\n      <td>1133892</td>\n      <td>1509103975</td>\n      <td>4452</td>\n      <td>[big breasts, milf, nakadashi, sole female, ch...</td>\n      <td>[hyoco road]</td>\n      <td>[occultic nine]</td>\n      <td>[ririka nishizono]</td>\n      <td>['english', 'translated']</td>\n      <td>[hyocorou]</td>\n      <td>[doujinshi]</td>\n      <td>https://t.nhentai.net/galleries/1133892/cover.jpg</td>\n      <td>https://t.nhentai.net/galleries/1133892/thumb.jpg</td>\n      <td>[https://i.nhentai.net/galleries/1133892/1.jpg...</td>\n      <td>33</td>\n    </tr>\n    <tr>\n      <th>1</th>\n      <td>57170</td>\n      <td>Drug Fumi-chan Seishun Hen Ura Manga Michi</td>\n      <td>NaN</td>\n      <td>https://nhentai.net/g/57170</td>\n      <td>https://nhentai.net/api/gallery/57170</td>\n      <td>333208</td>\n      <td>1403992737</td>\n      <td>21</td>\n      <td>[bondage, yuri, schoolgirl uniform, tankoubon]</td>\n      <td>[]</td>\n      <td>[]</td>\n      <td>[]</td>\n      <td>['japanese']</td>\n      <td>[shin tsuguru]</td>\n      <td>[manga]</td>\n      <td>https://t.nhentai.net/galleries/333208/cover.jpg</td>\n      <td>https://t.nhentai.net/galleries/333208/thumb.jpg</td>\n      <td>[https://i.nhentai.net/galleries/333208/1.jpg,...</td>\n      <td>166</td>\n    </tr>\n    <tr>\n      <th>2</th>\n      <td>75495</td>\n      <td>SHIRONA HAZARD</td>\n      <td>NaN</td>\n      <td>https://nhentai.net/g/75495</td>\n      <td>https://nhentai.net/api/gallery/75495</td>\n      <td>490119</td>\n      <td>1403996013</td>\n      <td>191</td>\n      <td>[big breasts]</td>\n      <td>[draw go]</td>\n      <td>[pokemon]</td>\n      <td>[cynthia]</td>\n      <td>['japanese']</td>\n      <td>[souichi]</td>\n      <td>[doujinshi]</td>\n      <td>https://t.nhentai.net/galleries/490119/cover.jpg</td>\n      <td>https://t.nhentai.net/galleries/490119/thumb.jpg</td>\n      <td>[https://i.nhentai.net/galleries/490119/1.jpg,...</td>\n      <td>23</td>\n    </tr>\n    <tr>\n      <th>3</th>\n      <td>229284</td>\n      <td>2205-nen no Afterglow</td>\n      <td>NaN</td>\n      <td>https://nhentai.net/g/229284</td>\n      <td>https://nhentai.net/api/gallery/229284</td>\n      <td>1206999</td>\n      <td>1522895460</td>\n      <td>101</td>\n      <td>[eyepatch, sole male, sole female]</td>\n      <td>[frozen world]</td>\n      <td>[touken ranbu]</td>\n      <td>[shokudaikiri mitsutada]</td>\n      <td>['japanese']</td>\n      <td>[kanaso]</td>\n      <td>[doujinshi]</td>\n      <td>https://t.nhentai.net/galleries/1206999/cover.jpg</td>\n      <td>https://t.nhentai.net/galleries/1206999/thumb.jpg</td>\n      <td>[https://i.nhentai.net/galleries/1206999/1.jpg...</td>\n      <td>47</td>\n    </tr>\n    <tr>\n      <th>4</th>\n      <td>99262</td>\n      <td>moon marguerite</td>\n      <td>NaN</td>\n      <td>https://nhentai.net/g/99262</td>\n      <td>https://nhentai.net/api/gallery/99262</td>\n      <td>635686</td>\n      <td>1404000355</td>\n      <td>138</td>\n      <td>[stockings, paizuri, lingerie, sole female, so...</td>\n      <td>[meltdown comet]</td>\n      <td>[touhou project]</td>\n      <td>[patchouli knowledge]</td>\n      <td>['japanese']</td>\n      <td>[yukiu con]</td>\n      <td>[doujinshi]</td>\n      <td>https://t.nhentai.net/galleries/635686/cover.jpg</td>\n      <td>https://t.nhentai.net/galleries/635686/thumb.jpg</td>\n      <td>[https://i.nhentai.net/galleries/635686/1.jpg,...</td>\n      <td>26</td>\n    </tr>\n    <tr>\n      <th>...</th>\n      <td>...</td>\n      <td>...</td>\n      <td>...</td>\n      <td>...</td>\n      <td>...</td>\n      <td>...</td>\n      <td>...</td>\n      <td>...</td>\n      <td>...</td>\n      <td>...</td>\n      <td>...</td>\n      <td>...</td>\n      <td>...</td>\n      <td>...</td>\n      <td>...</td>\n      <td>...</td>\n      <td>...</td>\n      <td>...</td>\n      <td>...</td>\n    </tr>\n    <tr>\n      <th>591</th>\n      <td>349482</td>\n      <td>No. 2 'Rika-shitsu e Youkoso'</td>\n      <td>NaN</td>\n      <td>https://nhentai.net/g/349482</td>\n      <td>https://nhentai.net/api/gallery/349482</td>\n      <td>1856769</td>\n      <td>1614519177</td>\n      <td>56</td>\n      <td>[scanmark]</td>\n      <td>[]</td>\n      <td>[boku wa tomodachi ga sukunai]</td>\n      <td>[kodaka hasegawa, rika shiguma]</td>\n      <td>['japanese']</td>\n      <td>[]</td>\n      <td>[doujinshi]</td>\n      <td>https://t.nhentai.net/galleries/1856769/cover.jpg</td>\n      <td>https://t.nhentai.net/galleries/1856769/thumb.jpg</td>\n      <td>[https://i.nhentai.net/galleries/1856769/1.jpg...</td>\n      <td>31</td>\n    </tr>\n    <tr>\n      <th>592</th>\n      <td>250915</td>\n      <td>淫獣大小クラン陵辱</td>\n      <td>NaN</td>\n      <td>https://nhentai.net/g/250915</td>\n      <td>https://nhentai.net/api/gallery/250915</td>\n      <td>1305191</td>\n      <td>1540380726</td>\n      <td>111</td>\n      <td>[bdsm, collar, lolicon, group, already uploaded]</td>\n      <td>[aodiso kankou]</td>\n      <td>[macross frontier]</td>\n      <td>[klan klan]</td>\n      <td>['japanese']</td>\n      <td>[hida mari]</td>\n      <td>[doujinshi]</td>\n      <td>https://t.nhentai.net/galleries/1305191/cover.jpg</td>\n      <td>https://t.nhentai.net/galleries/1305191/thumb.jpg</td>\n      <td>[https://i.nhentai.net/galleries/1305191/1.jpg...</td>\n      <td>18</td>\n    </tr>\n    <tr>\n      <th>593</th>\n      <td>287880</td>\n      <td>Imouto no Kareshi ga Kawaii no de</td>\n      <td>NaN</td>\n      <td>https://nhentai.net/g/287880</td>\n      <td>https://nhentai.net/api/gallery/287880</td>\n      <td>1500010</td>\n      <td>1570893184</td>\n      <td>1235</td>\n      <td>[cheating, shotacon, lolicon, twintails, mosai...</td>\n      <td>[kuromahou kenkyuujo]</td>\n      <td>[original]</td>\n      <td>[]</td>\n      <td>['japanese']</td>\n      <td>[nukaji]</td>\n      <td>[doujinshi]</td>\n      <td>https://t.nhentai.net/galleries/1500010/cover.jpg</td>\n      <td>https://t.nhentai.net/galleries/1500010/thumb.jpg</td>\n      <td>[https://i.nhentai.net/galleries/1500010/1.jpg...</td>\n      <td>52</td>\n    </tr>\n    <tr>\n      <th>594</th>\n      <td>99506</td>\n      <td>Goshujin-sama Anone</td>\n      <td>NaN</td>\n      <td>https://nhentai.net/g/99506</td>\n      <td>https://nhentai.net/api/gallery/99506</td>\n      <td>636122</td>\n      <td>1404000399</td>\n      <td>98</td>\n      <td>[dog boy, yaoi, sample, shotacon]</td>\n      <td>[unagigoya]</td>\n      <td>[]</td>\n      <td>[]</td>\n      <td>['japanese']</td>\n      <td>[sakura puchilo]</td>\n      <td>[doujinshi]</td>\n      <td>https://t.nhentai.net/galleries/636122/cover.png</td>\n      <td>https://t.nhentai.net/galleries/636122/thumb.png</td>\n      <td>[https://i.nhentai.net/galleries/636122/1.png,...</td>\n      <td>11</td>\n    </tr>\n    <tr>\n      <th>595</th>\n      <td>122609</td>\n      <td>Teitoku no Goshumi</td>\n      <td>NaN</td>\n      <td>https://nhentai.net/g/122609</td>\n      <td>https://nhentai.net/api/gallery/122609</td>\n      <td>766607</td>\n      <td>1418615311</td>\n      <td>139</td>\n      <td>[dougi, anal, military, pantyhose]</td>\n      <td>[cherry pepper]</td>\n      <td>[kantai collection]</td>\n      <td>[kaga]</td>\n      <td>['english', 'translated']</td>\n      <td>[yukian]</td>\n      <td>[doujinshi]</td>\n      <td>https://t.nhentai.net/galleries/766607/cover.jpg</td>\n      <td>https://t.nhentai.net/galleries/766607/thumb.jpg</td>\n      <td>[https://i.nhentai.net/galleries/766607/1.jpg,...</td>\n      <td>26</td>\n    </tr>\n  </tbody>\n</table>\n<p>596 rows × 19 columns</p>\n</div>"
     },
     "metadata": {},
     "execution_count": 18
    }
   ]
  },
  {
   "source": [
    "## Remove duplicates"
   ],
   "cell_type": "markdown",
   "metadata": {}
  },
  {
   "cell_type": "code",
   "execution_count": 19,
   "metadata": {},
   "outputs": [],
   "source": [
    "hentais_df = hentais_df.drop_duplicates(\"id\")\n",
    "hentais_df.to_csv(metadata_path, index=False, header=\"column_names\")"
   ]
  },
  {
   "source": [
    "## Download images"
   ],
   "cell_type": "markdown",
   "metadata": {}
  },
  {
   "cell_type": "code",
   "execution_count": 20,
   "metadata": {},
   "outputs": [],
   "source": [
    "def download_hentai(hentai: pd.Series) -> Hentai:\n",
    "    # A hentai will be stored based on the gallery ID instead of the medai ID\n",
    "    hentai_path = Path(DATA_PATH) / \"raw\" / str(hentai.id)\n",
    "\n",
    "    # Since downloading a hentai is an expensive operation, we only\n",
    "    # download when the hentai ID directory does not exist\n",
    "    if not hentai_path.is_dir():\n",
    "        hentai = Hentai(hentai.id)\n",
    "        hentai.download(hentai_path, progressbar=True)\n",
    "        return True\n",
    "\n",
    "    return False\n",
    "\n",
    "downloaded_hentais_df = hentais_df.apply(download_hentai, axis=1)"
   ]
  },
  {
   "cell_type": "code",
   "execution_count": 21,
   "metadata": {},
   "outputs": [
    {
     "output_type": "stream",
     "name": "stdout",
     "text": [
      "Number of downloaded hentais : 0\n"
     ]
    }
   ],
   "source": [
    "print(\"Number of downloaded hentais :\", downloaded_hentais_df.sum())"
   ]
  },
  {
   "source": [
    "## Remove corrupted images"
   ],
   "cell_type": "markdown",
   "metadata": {}
  },
  {
   "cell_type": "code",
   "execution_count": 22,
   "metadata": {},
   "outputs": [
    {
     "output_type": "execute_result",
     "data": {
      "text/plain": [
       "         id                                       title  scanlator  \\\n",
       "0    212548                                       Syoku        NaN   \n",
       "1     57170  Drug Fumi-chan Seishun Hen Ura Manga Michi        NaN   \n",
       "2     75495                              SHIRONA HAZARD        NaN   \n",
       "3    229284                       2205-nen no Afterglow        NaN   \n",
       "4     99262                             moon marguerite        NaN   \n",
       "..      ...                                         ...        ...   \n",
       "591  349482               No. 2 'Rika-shitsu e Youkoso'        NaN   \n",
       "592  250915                                   淫獣大小クラン陵辱        NaN   \n",
       "593  287880           Imouto no Kareshi ga Kawaii no de        NaN   \n",
       "594   99506                         Goshujin-sama Anone        NaN   \n",
       "595  122609                          Teitoku no Goshumi        NaN   \n",
       "\n",
       "                              url                                     api  \\\n",
       "0    https://nhentai.net/g/212548  https://nhentai.net/api/gallery/212548   \n",
       "1     https://nhentai.net/g/57170   https://nhentai.net/api/gallery/57170   \n",
       "2     https://nhentai.net/g/75495   https://nhentai.net/api/gallery/75495   \n",
       "3    https://nhentai.net/g/229284  https://nhentai.net/api/gallery/229284   \n",
       "4     https://nhentai.net/g/99262   https://nhentai.net/api/gallery/99262   \n",
       "..                            ...                                     ...   \n",
       "591  https://nhentai.net/g/349482  https://nhentai.net/api/gallery/349482   \n",
       "592  https://nhentai.net/g/250915  https://nhentai.net/api/gallery/250915   \n",
       "593  https://nhentai.net/g/287880  https://nhentai.net/api/gallery/287880   \n",
       "594   https://nhentai.net/g/99506   https://nhentai.net/api/gallery/99506   \n",
       "595  https://nhentai.net/g/122609  https://nhentai.net/api/gallery/122609   \n",
       "\n",
       "     media_id        epos  num_favorites  \\\n",
       "0     1133892  1509103975           4452   \n",
       "1      333208  1403992737             21   \n",
       "2      490119  1403996013            191   \n",
       "3     1206999  1522895460            101   \n",
       "4      635686  1404000355            138   \n",
       "..        ...         ...            ...   \n",
       "591   1856769  1614519177             56   \n",
       "592   1305191  1540380726            111   \n",
       "593   1500010  1570893184           1235   \n",
       "594    636122  1404000399             98   \n",
       "595    766607  1418615311            139   \n",
       "\n",
       "                                                   tag                  group  \\\n",
       "0    [big breasts, milf, nakadashi, sole female, ch...           [hyoco road]   \n",
       "1       [bondage, yuri, schoolgirl uniform, tankoubon]                     []   \n",
       "2                                        [big breasts]              [draw go]   \n",
       "3                   [eyepatch, sole male, sole female]         [frozen world]   \n",
       "4    [stockings, paizuri, lingerie, sole female, so...       [meltdown comet]   \n",
       "..                                                 ...                    ...   \n",
       "591                                         [scanmark]                     []   \n",
       "592   [bdsm, collar, lolicon, group, already uploaded]        [aodiso kankou]   \n",
       "593  [cheating, shotacon, lolicon, twintails, mosai...  [kuromahou kenkyuujo]   \n",
       "594                  [dog boy, yaoi, sample, shotacon]            [unagigoya]   \n",
       "595                 [dougi, anal, military, pantyhose]        [cherry pepper]   \n",
       "\n",
       "                             parody                        character  \\\n",
       "0                   [occultic nine]               [ririka nishizono]   \n",
       "1                                []                               []   \n",
       "2                         [pokemon]                        [cynthia]   \n",
       "3                    [touken ranbu]         [shokudaikiri mitsutada]   \n",
       "4                  [touhou project]            [patchouli knowledge]   \n",
       "..                              ...                              ...   \n",
       "591  [boku wa tomodachi ga sukunai]  [kodaka hasegawa, rika shiguma]   \n",
       "592              [macross frontier]                      [klan klan]   \n",
       "593                      [original]                               []   \n",
       "594                              []                               []   \n",
       "595             [kantai collection]                           [kaga]   \n",
       "\n",
       "                      language            artist     category  \\\n",
       "0    ['english', 'translated']        [hyocorou]  [doujinshi]   \n",
       "1                 ['japanese']    [shin tsuguru]      [manga]   \n",
       "2                 ['japanese']         [souichi]  [doujinshi]   \n",
       "3                 ['japanese']          [kanaso]  [doujinshi]   \n",
       "4                 ['japanese']       [yukiu con]  [doujinshi]   \n",
       "..                         ...               ...          ...   \n",
       "591               ['japanese']                []  [doujinshi]   \n",
       "592               ['japanese']       [hida mari]  [doujinshi]   \n",
       "593               ['japanese']          [nukaji]  [doujinshi]   \n",
       "594               ['japanese']  [sakura puchilo]  [doujinshi]   \n",
       "595  ['english', 'translated']          [yukian]  [doujinshi]   \n",
       "\n",
       "                                                 cover  \\\n",
       "0    https://t.nhentai.net/galleries/1133892/cover.jpg   \n",
       "1     https://t.nhentai.net/galleries/333208/cover.jpg   \n",
       "2     https://t.nhentai.net/galleries/490119/cover.jpg   \n",
       "3    https://t.nhentai.net/galleries/1206999/cover.jpg   \n",
       "4     https://t.nhentai.net/galleries/635686/cover.jpg   \n",
       "..                                                 ...   \n",
       "591  https://t.nhentai.net/galleries/1856769/cover.jpg   \n",
       "592  https://t.nhentai.net/galleries/1305191/cover.jpg   \n",
       "593  https://t.nhentai.net/galleries/1500010/cover.jpg   \n",
       "594   https://t.nhentai.net/galleries/636122/cover.png   \n",
       "595   https://t.nhentai.net/galleries/766607/cover.jpg   \n",
       "\n",
       "                                             thumbnail  \\\n",
       "0    https://t.nhentai.net/galleries/1133892/thumb.jpg   \n",
       "1     https://t.nhentai.net/galleries/333208/thumb.jpg   \n",
       "2     https://t.nhentai.net/galleries/490119/thumb.jpg   \n",
       "3    https://t.nhentai.net/galleries/1206999/thumb.jpg   \n",
       "4     https://t.nhentai.net/galleries/635686/thumb.jpg   \n",
       "..                                                 ...   \n",
       "591  https://t.nhentai.net/galleries/1856769/thumb.jpg   \n",
       "592  https://t.nhentai.net/galleries/1305191/thumb.jpg   \n",
       "593  https://t.nhentai.net/galleries/1500010/thumb.jpg   \n",
       "594   https://t.nhentai.net/galleries/636122/thumb.png   \n",
       "595   https://t.nhentai.net/galleries/766607/thumb.jpg   \n",
       "\n",
       "                                            image_urls  num_pages  \\\n",
       "0    [https://i.nhentai.net/galleries/1133892/1.jpg...         33   \n",
       "1    [https://i.nhentai.net/galleries/333208/1.jpg,...        166   \n",
       "2    [https://i.nhentai.net/galleries/490119/1.jpg,...         23   \n",
       "3    [https://i.nhentai.net/galleries/1206999/1.jpg...         47   \n",
       "4    [https://i.nhentai.net/galleries/635686/1.jpg,...         26   \n",
       "..                                                 ...        ...   \n",
       "591  [https://i.nhentai.net/galleries/1856769/1.jpg...         31   \n",
       "592  [https://i.nhentai.net/galleries/1305191/1.jpg...         18   \n",
       "593  [https://i.nhentai.net/galleries/1500010/1.jpg...         52   \n",
       "594  [https://i.nhentai.net/galleries/636122/1.png,...         11   \n",
       "595  [https://i.nhentai.net/galleries/766607/1.jpg,...         26   \n",
       "\n",
       "                                             filenames  \n",
       "0    [212548\\1.jpg, 212548\\2.jpg, 212548\\3.jpg, 212...  \n",
       "1    [57170\\1.jpg, 57170\\2.jpg, 57170\\3.jpg, 57170\\...  \n",
       "2    [75495\\1.jpg, 75495\\2.jpg, 75495\\3.jpg, 75495\\...  \n",
       "3    [229284\\1.jpg, 229284\\2.png, 229284\\3.jpg, 229...  \n",
       "4    [99262\\1.jpg, 99262\\2.jpg, 99262\\3.jpg, 99262\\...  \n",
       "..                                                 ...  \n",
       "591  [349482\\1.jpg, 349482\\2.jpg, 349482\\3.jpg, 349...  \n",
       "592  [250915\\1.jpg, 250915\\2.jpg, 250915\\3.jpg, 250...  \n",
       "593  [287880\\1.jpg, 287880\\2.jpg, 287880\\3.jpg, 287...  \n",
       "594  [99506\\1.png, 99506\\2.png, 99506\\3.png, 99506\\...  \n",
       "595  [122609\\1.jpg, 122609\\2.jpg, 122609\\3.jpg, 122...  \n",
       "\n",
       "[596 rows x 20 columns]"
      ],
      "text/html": "<div>\n<style scoped>\n    .dataframe tbody tr th:only-of-type {\n        vertical-align: middle;\n    }\n\n    .dataframe tbody tr th {\n        vertical-align: top;\n    }\n\n    .dataframe thead th {\n        text-align: right;\n    }\n</style>\n<table border=\"1\" class=\"dataframe\">\n  <thead>\n    <tr style=\"text-align: right;\">\n      <th></th>\n      <th>id</th>\n      <th>title</th>\n      <th>scanlator</th>\n      <th>url</th>\n      <th>api</th>\n      <th>media_id</th>\n      <th>epos</th>\n      <th>num_favorites</th>\n      <th>tag</th>\n      <th>group</th>\n      <th>parody</th>\n      <th>character</th>\n      <th>language</th>\n      <th>artist</th>\n      <th>category</th>\n      <th>cover</th>\n      <th>thumbnail</th>\n      <th>image_urls</th>\n      <th>num_pages</th>\n      <th>filenames</th>\n    </tr>\n  </thead>\n  <tbody>\n    <tr>\n      <th>0</th>\n      <td>212548</td>\n      <td>Syoku</td>\n      <td>NaN</td>\n      <td>https://nhentai.net/g/212548</td>\n      <td>https://nhentai.net/api/gallery/212548</td>\n      <td>1133892</td>\n      <td>1509103975</td>\n      <td>4452</td>\n      <td>[big breasts, milf, nakadashi, sole female, ch...</td>\n      <td>[hyoco road]</td>\n      <td>[occultic nine]</td>\n      <td>[ririka nishizono]</td>\n      <td>['english', 'translated']</td>\n      <td>[hyocorou]</td>\n      <td>[doujinshi]</td>\n      <td>https://t.nhentai.net/galleries/1133892/cover.jpg</td>\n      <td>https://t.nhentai.net/galleries/1133892/thumb.jpg</td>\n      <td>[https://i.nhentai.net/galleries/1133892/1.jpg...</td>\n      <td>33</td>\n      <td>[212548\\1.jpg, 212548\\2.jpg, 212548\\3.jpg, 212...</td>\n    </tr>\n    <tr>\n      <th>1</th>\n      <td>57170</td>\n      <td>Drug Fumi-chan Seishun Hen Ura Manga Michi</td>\n      <td>NaN</td>\n      <td>https://nhentai.net/g/57170</td>\n      <td>https://nhentai.net/api/gallery/57170</td>\n      <td>333208</td>\n      <td>1403992737</td>\n      <td>21</td>\n      <td>[bondage, yuri, schoolgirl uniform, tankoubon]</td>\n      <td>[]</td>\n      <td>[]</td>\n      <td>[]</td>\n      <td>['japanese']</td>\n      <td>[shin tsuguru]</td>\n      <td>[manga]</td>\n      <td>https://t.nhentai.net/galleries/333208/cover.jpg</td>\n      <td>https://t.nhentai.net/galleries/333208/thumb.jpg</td>\n      <td>[https://i.nhentai.net/galleries/333208/1.jpg,...</td>\n      <td>166</td>\n      <td>[57170\\1.jpg, 57170\\2.jpg, 57170\\3.jpg, 57170\\...</td>\n    </tr>\n    <tr>\n      <th>2</th>\n      <td>75495</td>\n      <td>SHIRONA HAZARD</td>\n      <td>NaN</td>\n      <td>https://nhentai.net/g/75495</td>\n      <td>https://nhentai.net/api/gallery/75495</td>\n      <td>490119</td>\n      <td>1403996013</td>\n      <td>191</td>\n      <td>[big breasts]</td>\n      <td>[draw go]</td>\n      <td>[pokemon]</td>\n      <td>[cynthia]</td>\n      <td>['japanese']</td>\n      <td>[souichi]</td>\n      <td>[doujinshi]</td>\n      <td>https://t.nhentai.net/galleries/490119/cover.jpg</td>\n      <td>https://t.nhentai.net/galleries/490119/thumb.jpg</td>\n      <td>[https://i.nhentai.net/galleries/490119/1.jpg,...</td>\n      <td>23</td>\n      <td>[75495\\1.jpg, 75495\\2.jpg, 75495\\3.jpg, 75495\\...</td>\n    </tr>\n    <tr>\n      <th>3</th>\n      <td>229284</td>\n      <td>2205-nen no Afterglow</td>\n      <td>NaN</td>\n      <td>https://nhentai.net/g/229284</td>\n      <td>https://nhentai.net/api/gallery/229284</td>\n      <td>1206999</td>\n      <td>1522895460</td>\n      <td>101</td>\n      <td>[eyepatch, sole male, sole female]</td>\n      <td>[frozen world]</td>\n      <td>[touken ranbu]</td>\n      <td>[shokudaikiri mitsutada]</td>\n      <td>['japanese']</td>\n      <td>[kanaso]</td>\n      <td>[doujinshi]</td>\n      <td>https://t.nhentai.net/galleries/1206999/cover.jpg</td>\n      <td>https://t.nhentai.net/galleries/1206999/thumb.jpg</td>\n      <td>[https://i.nhentai.net/galleries/1206999/1.jpg...</td>\n      <td>47</td>\n      <td>[229284\\1.jpg, 229284\\2.png, 229284\\3.jpg, 229...</td>\n    </tr>\n    <tr>\n      <th>4</th>\n      <td>99262</td>\n      <td>moon marguerite</td>\n      <td>NaN</td>\n      <td>https://nhentai.net/g/99262</td>\n      <td>https://nhentai.net/api/gallery/99262</td>\n      <td>635686</td>\n      <td>1404000355</td>\n      <td>138</td>\n      <td>[stockings, paizuri, lingerie, sole female, so...</td>\n      <td>[meltdown comet]</td>\n      <td>[touhou project]</td>\n      <td>[patchouli knowledge]</td>\n      <td>['japanese']</td>\n      <td>[yukiu con]</td>\n      <td>[doujinshi]</td>\n      <td>https://t.nhentai.net/galleries/635686/cover.jpg</td>\n      <td>https://t.nhentai.net/galleries/635686/thumb.jpg</td>\n      <td>[https://i.nhentai.net/galleries/635686/1.jpg,...</td>\n      <td>26</td>\n      <td>[99262\\1.jpg, 99262\\2.jpg, 99262\\3.jpg, 99262\\...</td>\n    </tr>\n    <tr>\n      <th>...</th>\n      <td>...</td>\n      <td>...</td>\n      <td>...</td>\n      <td>...</td>\n      <td>...</td>\n      <td>...</td>\n      <td>...</td>\n      <td>...</td>\n      <td>...</td>\n      <td>...</td>\n      <td>...</td>\n      <td>...</td>\n      <td>...</td>\n      <td>...</td>\n      <td>...</td>\n      <td>...</td>\n      <td>...</td>\n      <td>...</td>\n      <td>...</td>\n      <td>...</td>\n    </tr>\n    <tr>\n      <th>591</th>\n      <td>349482</td>\n      <td>No. 2 'Rika-shitsu e Youkoso'</td>\n      <td>NaN</td>\n      <td>https://nhentai.net/g/349482</td>\n      <td>https://nhentai.net/api/gallery/349482</td>\n      <td>1856769</td>\n      <td>1614519177</td>\n      <td>56</td>\n      <td>[scanmark]</td>\n      <td>[]</td>\n      <td>[boku wa tomodachi ga sukunai]</td>\n      <td>[kodaka hasegawa, rika shiguma]</td>\n      <td>['japanese']</td>\n      <td>[]</td>\n      <td>[doujinshi]</td>\n      <td>https://t.nhentai.net/galleries/1856769/cover.jpg</td>\n      <td>https://t.nhentai.net/galleries/1856769/thumb.jpg</td>\n      <td>[https://i.nhentai.net/galleries/1856769/1.jpg...</td>\n      <td>31</td>\n      <td>[349482\\1.jpg, 349482\\2.jpg, 349482\\3.jpg, 349...</td>\n    </tr>\n    <tr>\n      <th>592</th>\n      <td>250915</td>\n      <td>淫獣大小クラン陵辱</td>\n      <td>NaN</td>\n      <td>https://nhentai.net/g/250915</td>\n      <td>https://nhentai.net/api/gallery/250915</td>\n      <td>1305191</td>\n      <td>1540380726</td>\n      <td>111</td>\n      <td>[bdsm, collar, lolicon, group, already uploaded]</td>\n      <td>[aodiso kankou]</td>\n      <td>[macross frontier]</td>\n      <td>[klan klan]</td>\n      <td>['japanese']</td>\n      <td>[hida mari]</td>\n      <td>[doujinshi]</td>\n      <td>https://t.nhentai.net/galleries/1305191/cover.jpg</td>\n      <td>https://t.nhentai.net/galleries/1305191/thumb.jpg</td>\n      <td>[https://i.nhentai.net/galleries/1305191/1.jpg...</td>\n      <td>18</td>\n      <td>[250915\\1.jpg, 250915\\2.jpg, 250915\\3.jpg, 250...</td>\n    </tr>\n    <tr>\n      <th>593</th>\n      <td>287880</td>\n      <td>Imouto no Kareshi ga Kawaii no de</td>\n      <td>NaN</td>\n      <td>https://nhentai.net/g/287880</td>\n      <td>https://nhentai.net/api/gallery/287880</td>\n      <td>1500010</td>\n      <td>1570893184</td>\n      <td>1235</td>\n      <td>[cheating, shotacon, lolicon, twintails, mosai...</td>\n      <td>[kuromahou kenkyuujo]</td>\n      <td>[original]</td>\n      <td>[]</td>\n      <td>['japanese']</td>\n      <td>[nukaji]</td>\n      <td>[doujinshi]</td>\n      <td>https://t.nhentai.net/galleries/1500010/cover.jpg</td>\n      <td>https://t.nhentai.net/galleries/1500010/thumb.jpg</td>\n      <td>[https://i.nhentai.net/galleries/1500010/1.jpg...</td>\n      <td>52</td>\n      <td>[287880\\1.jpg, 287880\\2.jpg, 287880\\3.jpg, 287...</td>\n    </tr>\n    <tr>\n      <th>594</th>\n      <td>99506</td>\n      <td>Goshujin-sama Anone</td>\n      <td>NaN</td>\n      <td>https://nhentai.net/g/99506</td>\n      <td>https://nhentai.net/api/gallery/99506</td>\n      <td>636122</td>\n      <td>1404000399</td>\n      <td>98</td>\n      <td>[dog boy, yaoi, sample, shotacon]</td>\n      <td>[unagigoya]</td>\n      <td>[]</td>\n      <td>[]</td>\n      <td>['japanese']</td>\n      <td>[sakura puchilo]</td>\n      <td>[doujinshi]</td>\n      <td>https://t.nhentai.net/galleries/636122/cover.png</td>\n      <td>https://t.nhentai.net/galleries/636122/thumb.png</td>\n      <td>[https://i.nhentai.net/galleries/636122/1.png,...</td>\n      <td>11</td>\n      <td>[99506\\1.png, 99506\\2.png, 99506\\3.png, 99506\\...</td>\n    </tr>\n    <tr>\n      <th>595</th>\n      <td>122609</td>\n      <td>Teitoku no Goshumi</td>\n      <td>NaN</td>\n      <td>https://nhentai.net/g/122609</td>\n      <td>https://nhentai.net/api/gallery/122609</td>\n      <td>766607</td>\n      <td>1418615311</td>\n      <td>139</td>\n      <td>[dougi, anal, military, pantyhose]</td>\n      <td>[cherry pepper]</td>\n      <td>[kantai collection]</td>\n      <td>[kaga]</td>\n      <td>['english', 'translated']</td>\n      <td>[yukian]</td>\n      <td>[doujinshi]</td>\n      <td>https://t.nhentai.net/galleries/766607/cover.jpg</td>\n      <td>https://t.nhentai.net/galleries/766607/thumb.jpg</td>\n      <td>[https://i.nhentai.net/galleries/766607/1.jpg,...</td>\n      <td>26</td>\n      <td>[122609\\1.jpg, 122609\\2.jpg, 122609\\3.jpg, 122...</td>\n    </tr>\n  </tbody>\n</table>\n<p>596 rows × 20 columns</p>\n</div>"
     },
     "metadata": {},
     "execution_count": 22
    }
   ],
   "source": [
    "def hentai_filenames(hentai: pd.Series):\n",
    "    return [\n",
    "        str(PurePath(str(hentai[\"id\"])) / Path(url).name)\n",
    "        for url in hentai[\"image_urls\"]\n",
    "    ]\n",
    "\n",
    "hentais_df = hentais_df.assign(filenames=hentais_df.apply(hentai_filenames, axis=1))\n",
    "hentais_df"
   ]
  },
  {
   "cell_type": "code",
   "execution_count": 23,
   "metadata": {
    "tags": []
   },
   "outputs": [
    {
     "output_type": "stream",
     "name": "stderr",
     "text": [
      "C:\\Anaconda3\\lib\\site-packages\\tqdm\\std.py:702: FutureWarning: The Panel class is removed from pandas. Accessing it from the top-level namespace will also be removed in the next version\n",
      "  from pandas import Panel\n",
      "100%|██████████| 596/596 [00:03<00:00, 177.39it/s]\n"
     ]
    }
   ],
   "source": [
    "def preprocess_image(filename: str) -> Union[os.PathLike, None]:\n",
    "    image_path = Path(filename)\n",
    "    image_preproc_dir = Path(DATA_PATH) / \"preprocessed\" / image_path.parent\n",
    "    image_preproc_path = image_preproc_dir / Path(image_path.stem + \".jpg\")\n",
    "\n",
    "    # Preprocess only those images that do not exist in\n",
    "    # the destination dataset for performance reason\n",
    "    if not image_preproc_path.is_file():\n",
    "        try:\n",
    "            image = Image.open(Path(DATA_PATH) / \"raw\" / image_path)\n",
    "            # Normalize images to be JPEG compatible\n",
    "            image = image.convert(\"RGB\")\n",
    "            image_preproc_dir.mkdir(parents=True, exist_ok=True)\n",
    "            image.save(image_preproc_path, \"JPEG\")\n",
    "        except:\n",
    "            return None\n",
    "\n",
    "    return str(PurePath(image_preproc_path))\n",
    "\n",
    "def preprocess_images(hentai: pd.Series) -> bool:\n",
    "    return [\n",
    "        preprocess_image(filename)\n",
    "        for filename in hentai[\"filenames\"]\n",
    "    ]\n",
    "\n",
    "tqdm.pandas()\n",
    "hentais_df = hentais_df.assign(filenames=hentais_df.progress_apply(preprocess_images, axis=1))"
   ]
  },
  {
   "source": [
    "We will filter every hentais that contain at least one corrupted images, since pages have order dependencies."
   ],
   "cell_type": "markdown",
   "metadata": {}
  },
  {
   "cell_type": "code",
   "execution_count": 24,
   "metadata": {},
   "outputs": [],
   "source": [
    "hentais_df = hentais_df[hentais_df[\"filenames\"].apply(all)]"
   ]
  },
  {
   "cell_type": "code",
   "execution_count": 25,
   "metadata": {},
   "outputs": [
    {
     "output_type": "stream",
     "name": "stdout",
     "text": [
      "Number of preprocessed images : 595\n"
     ]
    }
   ],
   "source": [
    "# The metadata CSV file that will contain the raw information about the hentai\n",
    "metadata_path = Path(DATA_PATH) / \"preprocessed\" / \"metadata.csv\"\n",
    "hentais_df.to_csv(\n",
    "    metadata_path,\n",
    "    index=False,\n",
    "    header=\"column_names\",\n",
    "    columns=[\n",
    "        \"id\",\n",
    "        \"title\",\n",
    "        \"num_favorites\",\n",
    "        \"tag\",\n",
    "        \"group\",\n",
    "        \"parody\",\n",
    "        \"character\",\n",
    "        \"language\",\n",
    "        \"artist\",\n",
    "        \"category\",\n",
    "        \"num_pages\",\n",
    "        \"filenames\"\n",
    "    ]\n",
    ")\n",
    "print(\"Number of preprocessed images :\", len(hentais_df))"
   ]
  },
  {
   "cell_type": "code",
   "execution_count": null,
   "metadata": {},
   "outputs": [],
   "source": []
  }
 ]
}