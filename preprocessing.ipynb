{
 "metadata": {
  "language_info": {
   "codemirror_mode": {
    "name": "ipython",
    "version": 3
   },
   "file_extension": ".py",
   "mimetype": "text/x-python",
   "name": "python",
   "nbconvert_exporter": "python",
   "pygments_lexer": "ipython3",
   "version": "3.8.5"
  },
  "orig_nbformat": 2,
  "kernelspec": {
   "name": "python385jvsc74a57bd097ae724bfa85b9b34df7982b8bb8c7216f435b92902d749e4263f71162bea840",
   "display_name": "Python 3.8.5 64-bit ('base': conda)"
  }
 },
 "nbformat": 4,
 "nbformat_minor": 2,
 "cells": [
  {
   "cell_type": "code",
   "execution_count": 9,
   "metadata": {},
   "outputs": [],
   "source": [
    "# Utils packages\n",
    "import ast\n",
    "from pathlib import Path, PurePath\n",
    "from typing import Union\n",
    "\n",
    "# Data collector packages\n",
    "from hentai import Utils, Hentai, Option\n",
    "\n",
    "# Analysis packages\n",
    "import pandas as pd\n",
    "from PIL import Image\n",
    "from tqdm import tqdm\n",
    "\n",
    "# Compute packages\n",
    "import numpy as np\n",
    "import tensorflow as tf"
   ]
  },
  {
   "source": [
    "## Data collection\n",
    "\n",
    "We will use the information and media collected on the nhentai.net website. Recording each entry in a 'metadata.csv' file that aggregates information about the hentai, including links to download pages."
   ],
   "cell_type": "markdown",
   "metadata": {}
  },
  {
   "cell_type": "code",
   "execution_count": 10,
   "metadata": {},
   "outputs": [],
   "source": [
    "N_SAMPLE = 11 # Number of sample to refetch from hentai.\n",
    "DATA_PATH = \"data\" # Directory to drop collected data."
   ]
  },
  {
   "cell_type": "code",
   "execution_count": 11,
   "metadata": {},
   "outputs": [],
   "source": [
    "def random_hentai(_: int) -> pd.Series:\n",
    "    return pd.Series(Utils.get_random_hentai().dictionary(Option.all()))"
   ]
  },
  {
   "cell_type": "code",
   "execution_count": 12,
   "metadata": {},
   "outputs": [
    {
     "output_type": "stream",
     "name": "stdout",
     "text": [
      "Number of collected hentais:  11\n"
     ]
    }
   ],
   "source": [
    "# Query the nhentai.net API to get N number of random hentai\n",
    "hentais_df = pd.Series(range(N_SAMPLE), dtype=\"Int64\")\n",
    "hentais_df = hentais_df.apply(random_hentai)\n",
    "\n",
    "# The metadata CSV file that will contain the raw information about the hentai\n",
    "metadata_path = Path(DATA_PATH) / \"raw\" / \"metadata.csv\"\n",
    "\n",
    "# Create a CSV file with a header only if the file does not exist\n",
    "if not metadata_path.is_file():\n",
    "    hentais_df.to_csv(metadata_path, index=False, header=\"column_names\")\n",
    "else:\n",
    "    hentais_df.to_csv(metadata_path, index=False, mode=\"a\", header=False)\n",
    "\n",
    "print(\"Number of collected hentais: \", len(hentais_df))"
   ]
  },
  {
   "source": [
    "## Read dataset file"
   ],
   "cell_type": "markdown",
   "metadata": {}
  },
  {
   "source": [
    "hentais_df = pd.read_csv(\n",
    "    Path(DATA_PATH) / \"raw\" / \"metadata.csv\",\n",
    "    converters={\n",
    "        column_name: ast.literal_eval\n",
    "        for column_name in [\n",
    "            \"tag\",\n",
    "            \"group\",\n",
    "            \"parody\",\n",
    "            \"character\",\n",
    "            \"artist\",\n",
    "            \"category\",\n",
    "            \"image_urls\"\n",
    "        ]\n",
    "    }\n",
    ")\n",
    "hentais_df"
   ],
   "cell_type": "code",
   "metadata": {},
   "execution_count": null,
   "outputs": []
  },
  {
   "source": [
    "## Remove duplicates"
   ],
   "cell_type": "markdown",
   "metadata": {}
  },
  {
   "cell_type": "code",
   "execution_count": 6,
   "metadata": {},
   "outputs": [],
   "source": [
    "hentais_df = hentais_df.drop_duplicates(\"id\")\n",
    "hentais_df.to_csv(metadata_path, index=False, header=\"column_names\")"
   ]
  },
  {
   "source": [
    "## Download images"
   ],
   "cell_type": "markdown",
   "metadata": {}
  },
  {
   "cell_type": "code",
   "execution_count": 16,
   "metadata": {
    "tags": []
   },
   "outputs": [
    {
     "output_type": "stream",
     "name": "stdout",
     "text": [
      "data\\raw\\91511\n"
     ]
    },
    {
     "output_type": "error",
     "ename": "TypeError",
     "evalue": "exceptions must derive from BaseException",
     "traceback": [
      "\u001b[1;31m---------------------------------------------------------------------------\u001b[0m",
      "\u001b[1;31mTypeError\u001b[0m                                 Traceback (most recent call last)",
      "\u001b[1;32m<ipython-input-16-0f7d2efc4c83>\u001b[0m in \u001b[0;36m<module>\u001b[1;34m\u001b[0m\n\u001b[0;32m     14\u001b[0m     \u001b[1;32mreturn\u001b[0m \u001b[1;32mFalse\u001b[0m\u001b[1;33m\u001b[0m\u001b[1;33m\u001b[0m\u001b[0m\n\u001b[0;32m     15\u001b[0m \u001b[1;33m\u001b[0m\u001b[0m\n\u001b[1;32m---> 16\u001b[1;33m \u001b[0mdownloaded_hentais_df\u001b[0m \u001b[1;33m=\u001b[0m \u001b[0mhentais_df\u001b[0m\u001b[1;33m.\u001b[0m\u001b[0mapply\u001b[0m\u001b[1;33m(\u001b[0m\u001b[0mdownload_hentai\u001b[0m\u001b[1;33m,\u001b[0m \u001b[0maxis\u001b[0m\u001b[1;33m=\u001b[0m\u001b[1;36m1\u001b[0m\u001b[1;33m)\u001b[0m\u001b[1;33m\u001b[0m\u001b[1;33m\u001b[0m\u001b[0m\n\u001b[0m",
      "\u001b[1;32mC:\\Anaconda3\\lib\\site-packages\\pandas\\core\\frame.py\u001b[0m in \u001b[0;36mapply\u001b[1;34m(self, func, axis, raw, result_type, args, **kwds)\u001b[0m\n\u001b[0;32m   7546\u001b[0m             \u001b[0mkwds\u001b[0m\u001b[1;33m=\u001b[0m\u001b[0mkwds\u001b[0m\u001b[1;33m,\u001b[0m\u001b[1;33m\u001b[0m\u001b[1;33m\u001b[0m\u001b[0m\n\u001b[0;32m   7547\u001b[0m         )\n\u001b[1;32m-> 7548\u001b[1;33m         \u001b[1;32mreturn\u001b[0m \u001b[0mop\u001b[0m\u001b[1;33m.\u001b[0m\u001b[0mget_result\u001b[0m\u001b[1;33m(\u001b[0m\u001b[1;33m)\u001b[0m\u001b[1;33m\u001b[0m\u001b[1;33m\u001b[0m\u001b[0m\n\u001b[0m\u001b[0;32m   7549\u001b[0m \u001b[1;33m\u001b[0m\u001b[0m\n\u001b[0;32m   7550\u001b[0m     \u001b[1;32mdef\u001b[0m \u001b[0mapplymap\u001b[0m\u001b[1;33m(\u001b[0m\u001b[0mself\u001b[0m\u001b[1;33m,\u001b[0m \u001b[0mfunc\u001b[0m\u001b[1;33m)\u001b[0m \u001b[1;33m->\u001b[0m \u001b[1;34m\"DataFrame\"\u001b[0m\u001b[1;33m:\u001b[0m\u001b[1;33m\u001b[0m\u001b[1;33m\u001b[0m\u001b[0m\n",
      "\u001b[1;32mC:\\Anaconda3\\lib\\site-packages\\pandas\\core\\apply.py\u001b[0m in \u001b[0;36mget_result\u001b[1;34m(self)\u001b[0m\n\u001b[0;32m    178\u001b[0m             \u001b[1;32mreturn\u001b[0m \u001b[0mself\u001b[0m\u001b[1;33m.\u001b[0m\u001b[0mapply_raw\u001b[0m\u001b[1;33m(\u001b[0m\u001b[1;33m)\u001b[0m\u001b[1;33m\u001b[0m\u001b[1;33m\u001b[0m\u001b[0m\n\u001b[0;32m    179\u001b[0m \u001b[1;33m\u001b[0m\u001b[0m\n\u001b[1;32m--> 180\u001b[1;33m         \u001b[1;32mreturn\u001b[0m \u001b[0mself\u001b[0m\u001b[1;33m.\u001b[0m\u001b[0mapply_standard\u001b[0m\u001b[1;33m(\u001b[0m\u001b[1;33m)\u001b[0m\u001b[1;33m\u001b[0m\u001b[1;33m\u001b[0m\u001b[0m\n\u001b[0m\u001b[0;32m    181\u001b[0m \u001b[1;33m\u001b[0m\u001b[0m\n\u001b[0;32m    182\u001b[0m     \u001b[1;32mdef\u001b[0m \u001b[0mapply_empty_result\u001b[0m\u001b[1;33m(\u001b[0m\u001b[0mself\u001b[0m\u001b[1;33m)\u001b[0m\u001b[1;33m:\u001b[0m\u001b[1;33m\u001b[0m\u001b[1;33m\u001b[0m\u001b[0m\n",
      "\u001b[1;32mC:\\Anaconda3\\lib\\site-packages\\pandas\\core\\apply.py\u001b[0m in \u001b[0;36mapply_standard\u001b[1;34m(self)\u001b[0m\n\u001b[0;32m    269\u001b[0m \u001b[1;33m\u001b[0m\u001b[0m\n\u001b[0;32m    270\u001b[0m     \u001b[1;32mdef\u001b[0m \u001b[0mapply_standard\u001b[0m\u001b[1;33m(\u001b[0m\u001b[0mself\u001b[0m\u001b[1;33m)\u001b[0m\u001b[1;33m:\u001b[0m\u001b[1;33m\u001b[0m\u001b[1;33m\u001b[0m\u001b[0m\n\u001b[1;32m--> 271\u001b[1;33m         \u001b[0mresults\u001b[0m\u001b[1;33m,\u001b[0m \u001b[0mres_index\u001b[0m \u001b[1;33m=\u001b[0m \u001b[0mself\u001b[0m\u001b[1;33m.\u001b[0m\u001b[0mapply_series_generator\u001b[0m\u001b[1;33m(\u001b[0m\u001b[1;33m)\u001b[0m\u001b[1;33m\u001b[0m\u001b[1;33m\u001b[0m\u001b[0m\n\u001b[0m\u001b[0;32m    272\u001b[0m \u001b[1;33m\u001b[0m\u001b[0m\n\u001b[0;32m    273\u001b[0m         \u001b[1;31m# wrap results\u001b[0m\u001b[1;33m\u001b[0m\u001b[1;33m\u001b[0m\u001b[1;33m\u001b[0m\u001b[0m\n",
      "\u001b[1;32mC:\\Anaconda3\\lib\\site-packages\\pandas\\core\\apply.py\u001b[0m in \u001b[0;36mapply_series_generator\u001b[1;34m(self)\u001b[0m\n\u001b[0;32m    298\u001b[0m                 \u001b[1;32mfor\u001b[0m \u001b[0mi\u001b[0m\u001b[1;33m,\u001b[0m \u001b[0mv\u001b[0m \u001b[1;32min\u001b[0m \u001b[0menumerate\u001b[0m\u001b[1;33m(\u001b[0m\u001b[0mseries_gen\u001b[0m\u001b[1;33m)\u001b[0m\u001b[1;33m:\u001b[0m\u001b[1;33m\u001b[0m\u001b[1;33m\u001b[0m\u001b[0m\n\u001b[0;32m    299\u001b[0m                     \u001b[1;31m# ignore SettingWithCopy here in case the user mutates\u001b[0m\u001b[1;33m\u001b[0m\u001b[1;33m\u001b[0m\u001b[1;33m\u001b[0m\u001b[0m\n\u001b[1;32m--> 300\u001b[1;33m                     \u001b[0mresults\u001b[0m\u001b[1;33m[\u001b[0m\u001b[0mi\u001b[0m\u001b[1;33m]\u001b[0m \u001b[1;33m=\u001b[0m \u001b[0mself\u001b[0m\u001b[1;33m.\u001b[0m\u001b[0mf\u001b[0m\u001b[1;33m(\u001b[0m\u001b[0mv\u001b[0m\u001b[1;33m)\u001b[0m\u001b[1;33m\u001b[0m\u001b[1;33m\u001b[0m\u001b[0m\n\u001b[0m\u001b[0;32m    301\u001b[0m                     \u001b[1;32mif\u001b[0m \u001b[0misinstance\u001b[0m\u001b[1;33m(\u001b[0m\u001b[0mresults\u001b[0m\u001b[1;33m[\u001b[0m\u001b[0mi\u001b[0m\u001b[1;33m]\u001b[0m\u001b[1;33m,\u001b[0m \u001b[0mABCSeries\u001b[0m\u001b[1;33m)\u001b[0m\u001b[1;33m:\u001b[0m\u001b[1;33m\u001b[0m\u001b[1;33m\u001b[0m\u001b[0m\n\u001b[0;32m    302\u001b[0m                         \u001b[1;31m# If we have a view on v, we need to make a copy because\u001b[0m\u001b[1;33m\u001b[0m\u001b[1;33m\u001b[0m\u001b[1;33m\u001b[0m\u001b[0m\n",
      "\u001b[1;32m<ipython-input-16-0f7d2efc4c83>\u001b[0m in \u001b[0;36mdownload_hentai\u001b[1;34m(hentai)\u001b[0m\n\u001b[0;32m      8\u001b[0m         \u001b[0mprint\u001b[0m\u001b[1;33m(\u001b[0m\u001b[0mhentai_path\u001b[0m\u001b[1;33m)\u001b[0m\u001b[1;33m\u001b[0m\u001b[1;33m\u001b[0m\u001b[0m\n\u001b[0;32m      9\u001b[0m         \u001b[0mhentai\u001b[0m \u001b[1;33m=\u001b[0m \u001b[0mHentai\u001b[0m\u001b[1;33m(\u001b[0m\u001b[0mhentai\u001b[0m\u001b[1;33m.\u001b[0m\u001b[0mid\u001b[0m\u001b[1;33m)\u001b[0m\u001b[1;33m\u001b[0m\u001b[1;33m\u001b[0m\u001b[0m\n\u001b[1;32m---> 10\u001b[1;33m         \u001b[1;32mraise\u001b[0m \u001b[1;34m\"\"\u001b[0m\u001b[1;33m\u001b[0m\u001b[1;33m\u001b[0m\u001b[0m\n\u001b[0m\u001b[0;32m     11\u001b[0m         \u001b[0mhentai\u001b[0m\u001b[1;33m.\u001b[0m\u001b[0mdownload\u001b[0m\u001b[1;33m(\u001b[0m\u001b[0mfolder\u001b[0m\u001b[1;33m=\u001b[0m\u001b[0mhentai_path\u001b[0m\u001b[1;33m,\u001b[0m \u001b[0mprogressbar\u001b[0m\u001b[1;33m=\u001b[0m\u001b[1;32mTrue\u001b[0m\u001b[1;33m)\u001b[0m\u001b[1;33m\u001b[0m\u001b[1;33m\u001b[0m\u001b[0m\n\u001b[0;32m     12\u001b[0m         \u001b[1;32mreturn\u001b[0m \u001b[1;32mTrue\u001b[0m\u001b[1;33m\u001b[0m\u001b[1;33m\u001b[0m\u001b[0m\n",
      "\u001b[1;31mTypeError\u001b[0m: exceptions must derive from BaseException"
     ]
    }
   ],
   "source": [
    "def download_hentai(hentai: pd.Series) -> Hentai:\n",
    "    # A hentai will be stored based on the gallery ID instead of the medai ID\n",
    "    hentai_path = Path(DATA_PATH) / \"raw\" / str(hentai.id)\n",
    "\n",
    "    # Since downloading a hentai is an expensive operation, we only\n",
    "    # download when the hentai ID directory does not exist\n",
    "    if not hentai_path.is_dir():\n",
    "        hentai = Hentai(hentai.id)\n",
    "        hentai.download(folder=hentai_path, progressbar=True)\n",
    "        return True\n",
    "\n",
    "    return False\n",
    "\n",
    "downloaded_hentais_df = hentais_df.apply(download_hentai, axis=1)"
   ]
  },
  {
   "cell_type": "code",
   "execution_count": 20,
   "metadata": {},
   "outputs": [
    {
     "output_type": "stream",
     "name": "stdout",
     "text": [
      "Number of downloaded hentais : 13\n"
     ]
    }
   ],
   "source": [
    "print(\"Number of downloaded hentais :\", downloaded_hentais_df.sum())"
   ]
  },
  {
   "source": [
    "## Remove corrupted images"
   ],
   "cell_type": "markdown",
   "metadata": {}
  },
  {
   "cell_type": "code",
   "execution_count": 21,
   "metadata": {},
   "outputs": [
    {
     "output_type": "execute_result",
     "data": {
      "text/plain": [
       "         id                                              title  scanlator  \\\n",
       "0    352167  Boku wa Chiisana Succubus no Shimobe - I am a ...        NaN   \n",
       "1    212548                                              Syoku        NaN   \n",
       "2     57170         Drug Fumi-chan Seishun Hen Ura Manga Michi        NaN   \n",
       "3     75495                                     SHIRONA HAZARD        NaN   \n",
       "4    229284                              2205-nen no Afterglow        NaN   \n",
       "..      ...                                                ...        ...   \n",
       "995    8414                                       CRIMsON plus        NaN   \n",
       "996  301679                                   Danchi no Shoujo        NaN   \n",
       "997  316439                          Shiokaze ni Fuka Retanode        NaN   \n",
       "998  329359           Ore no Kirai na Senpai | 我的讨人厌前辈 Ch. 1-2        NaN   \n",
       "999  261773                      Shinjin Idol Debut Mae Lesson        NaN   \n",
       "\n",
       "                              url                                     api  \\\n",
       "0    https://nhentai.net/g/352167  https://nhentai.net/api/gallery/352167   \n",
       "1    https://nhentai.net/g/212548  https://nhentai.net/api/gallery/212548   \n",
       "2     https://nhentai.net/g/57170   https://nhentai.net/api/gallery/57170   \n",
       "3     https://nhentai.net/g/75495   https://nhentai.net/api/gallery/75495   \n",
       "4    https://nhentai.net/g/229284  https://nhentai.net/api/gallery/229284   \n",
       "..                            ...                                     ...   \n",
       "995    https://nhentai.net/g/8414    https://nhentai.net/api/gallery/8414   \n",
       "996  https://nhentai.net/g/301679  https://nhentai.net/api/gallery/301679   \n",
       "997  https://nhentai.net/g/316439  https://nhentai.net/api/gallery/316439   \n",
       "998  https://nhentai.net/g/329359  https://nhentai.net/api/gallery/329359   \n",
       "999  https://nhentai.net/g/261773  https://nhentai.net/api/gallery/261773   \n",
       "\n",
       "     media_id        epos  num_favorites  \\\n",
       "0     1872914  1616460447          20119   \n",
       "1     1133892  1509103975           4452   \n",
       "2      333208  1403992737             21   \n",
       "3      490119  1403996013            191   \n",
       "4     1206999  1522895460            101   \n",
       "..        ...         ...            ...   \n",
       "995     23918  1403982375             27   \n",
       "996   1570827  1581719888           1058   \n",
       "997   1656670  1591805811           2760   \n",
       "998   1736443  1600457187             87   \n",
       "999   1357653  1549056078            259   \n",
       "\n",
       "                                                   tag               group  \\\n",
       "0    [wings, garter belt, group, uncensored, story ...                  []   \n",
       "1    [big breasts, milf, nakadashi, sole female, ch...        [hyoco road]   \n",
       "2       [bondage, yuri, schoolgirl uniform, tankoubon]                  []   \n",
       "3                                        [big breasts]           [draw go]   \n",
       "4                   [eyepatch, sole male, sole female]      [frozen world]   \n",
       "..                                                 ...                 ...   \n",
       "995                                                 []           [ura fmo]   \n",
       "996  [dark skin, lolicon, prostitution, sole female...                  []   \n",
       "997  [sole male, hairy, lolicon, niece, sole female...                  []   \n",
       "998  [males only, schoolboy uniform, yaoi, story ar...                  []   \n",
       "999                      [sole female, armpit licking]  [diamond guardian]   \n",
       "\n",
       "                           parody                 character  \\\n",
       "0                              []                        []   \n",
       "1                 [occultic nine]        [ririka nishizono]   \n",
       "2                              []                        []   \n",
       "3                       [pokemon]                 [cynthia]   \n",
       "4                  [touken ranbu]  [shokudaikiri mitsutada]   \n",
       "..                            ...                       ...   \n",
       "995                   [tsukihime]                        []   \n",
       "996                            []                        []   \n",
       "997                            []                        []   \n",
       "998                            []                        []   \n",
       "999  [kirakira precure a la mode]           [cure chocolat]   \n",
       "\n",
       "                      language           artist     category  \\\n",
       "0    ['english', 'translated']  [tamano kedama]      [manga]   \n",
       "1    ['english', 'translated']       [hyocorou]  [doujinshi]   \n",
       "2                 ['japanese']   [shin tsuguru]      [manga]   \n",
       "3                 ['japanese']        [souichi]  [doujinshi]   \n",
       "4                 ['japanese']         [kanaso]  [doujinshi]   \n",
       "..                         ...              ...          ...   \n",
       "995               ['japanese']          [fumio]  [doujinshi]   \n",
       "996  ['chinese', 'translated']         [misao.]      [manga]   \n",
       "997  ['chinese', 'translated']      [syamonabe]      [manga]   \n",
       "998  ['chinese', 'translated']  [haruyama moto]      [manga]   \n",
       "999               ['japanese']      [hishimori]  [doujinshi]   \n",
       "\n",
       "                                                 cover  \\\n",
       "0    https://t.nhentai.net/galleries/1872914/cover.jpg   \n",
       "1    https://t.nhentai.net/galleries/1133892/cover.jpg   \n",
       "2     https://t.nhentai.net/galleries/333208/cover.jpg   \n",
       "3     https://t.nhentai.net/galleries/490119/cover.jpg   \n",
       "4    https://t.nhentai.net/galleries/1206999/cover.jpg   \n",
       "..                                                 ...   \n",
       "995    https://t.nhentai.net/galleries/23918/cover.jpg   \n",
       "996  https://t.nhentai.net/galleries/1570827/cover.jpg   \n",
       "997  https://t.nhentai.net/galleries/1656670/cover.png   \n",
       "998  https://t.nhentai.net/galleries/1736443/cover.jpg   \n",
       "999  https://t.nhentai.net/galleries/1357653/cover.jpg   \n",
       "\n",
       "                                             thumbnail  \\\n",
       "0    https://t.nhentai.net/galleries/1872914/thumb.jpg   \n",
       "1    https://t.nhentai.net/galleries/1133892/thumb.jpg   \n",
       "2     https://t.nhentai.net/galleries/333208/thumb.jpg   \n",
       "3     https://t.nhentai.net/galleries/490119/thumb.jpg   \n",
       "4    https://t.nhentai.net/galleries/1206999/thumb.jpg   \n",
       "..                                                 ...   \n",
       "995    https://t.nhentai.net/galleries/23918/thumb.jpg   \n",
       "996  https://t.nhentai.net/galleries/1570827/thumb.jpg   \n",
       "997  https://t.nhentai.net/galleries/1656670/thumb.png   \n",
       "998  https://t.nhentai.net/galleries/1736443/thumb.jpg   \n",
       "999  https://t.nhentai.net/galleries/1357653/thumb.jpg   \n",
       "\n",
       "                                            image_urls  num_pages  \\\n",
       "0    [https://i.nhentai.net/galleries/1872914/1.jpg...        195   \n",
       "1    [https://i.nhentai.net/galleries/1133892/1.jpg...         33   \n",
       "2    [https://i.nhentai.net/galleries/333208/1.jpg,...        166   \n",
       "3    [https://i.nhentai.net/galleries/490119/1.jpg,...         23   \n",
       "4    [https://i.nhentai.net/galleries/1206999/1.jpg...         47   \n",
       "..                                                 ...        ...   \n",
       "995  [https://i.nhentai.net/galleries/23918/1.jpg, ...         22   \n",
       "996  [https://i.nhentai.net/galleries/1570827/1.jpg...         31   \n",
       "997  [https://i.nhentai.net/galleries/1656670/1.png...         21   \n",
       "998  [https://i.nhentai.net/galleries/1736443/1.jpg...         68   \n",
       "999  [https://i.nhentai.net/galleries/1357653/1.jpg...         37   \n",
       "\n",
       "                                             filenames  \n",
       "0    [352167\\1.jpg, 352167\\2.jpg, 352167\\3.jpg, 352...  \n",
       "1    [212548\\1.jpg, 212548\\2.jpg, 212548\\3.jpg, 212...  \n",
       "2    [57170\\1.jpg, 57170\\2.jpg, 57170\\3.jpg, 57170\\...  \n",
       "3    [75495\\1.jpg, 75495\\2.jpg, 75495\\3.jpg, 75495\\...  \n",
       "4    [229284\\1.jpg, 229284\\2.png, 229284\\3.jpg, 229...  \n",
       "..                                                 ...  \n",
       "995  [8414\\1.jpg, 8414\\2.jpg, 8414\\3.jpg, 8414\\4.jp...  \n",
       "996  [301679\\1.jpg, 301679\\2.jpg, 301679\\3.jpg, 301...  \n",
       "997  [316439\\1.png, 316439\\2.png, 316439\\3.png, 316...  \n",
       "998  [329359\\1.jpg, 329359\\2.jpg, 329359\\3.jpg, 329...  \n",
       "999  [261773\\1.jpg, 261773\\2.jpg, 261773\\3.jpg, 261...  \n",
       "\n",
       "[1000 rows x 20 columns]"
      ],
      "text/html": "<div>\n<style scoped>\n    .dataframe tbody tr th:only-of-type {\n        vertical-align: middle;\n    }\n\n    .dataframe tbody tr th {\n        vertical-align: top;\n    }\n\n    .dataframe thead th {\n        text-align: right;\n    }\n</style>\n<table border=\"1\" class=\"dataframe\">\n  <thead>\n    <tr style=\"text-align: right;\">\n      <th></th>\n      <th>id</th>\n      <th>title</th>\n      <th>scanlator</th>\n      <th>url</th>\n      <th>api</th>\n      <th>media_id</th>\n      <th>epos</th>\n      <th>num_favorites</th>\n      <th>tag</th>\n      <th>group</th>\n      <th>parody</th>\n      <th>character</th>\n      <th>language</th>\n      <th>artist</th>\n      <th>category</th>\n      <th>cover</th>\n      <th>thumbnail</th>\n      <th>image_urls</th>\n      <th>num_pages</th>\n      <th>filenames</th>\n    </tr>\n  </thead>\n  <tbody>\n    <tr>\n      <th>0</th>\n      <td>352167</td>\n      <td>Boku wa Chiisana Succubus no Shimobe - I am a ...</td>\n      <td>NaN</td>\n      <td>https://nhentai.net/g/352167</td>\n      <td>https://nhentai.net/api/gallery/352167</td>\n      <td>1872914</td>\n      <td>1616460447</td>\n      <td>20119</td>\n      <td>[wings, garter belt, group, uncensored, story ...</td>\n      <td>[]</td>\n      <td>[]</td>\n      <td>[]</td>\n      <td>['english', 'translated']</td>\n      <td>[tamano kedama]</td>\n      <td>[manga]</td>\n      <td>https://t.nhentai.net/galleries/1872914/cover.jpg</td>\n      <td>https://t.nhentai.net/galleries/1872914/thumb.jpg</td>\n      <td>[https://i.nhentai.net/galleries/1872914/1.jpg...</td>\n      <td>195</td>\n      <td>[352167\\1.jpg, 352167\\2.jpg, 352167\\3.jpg, 352...</td>\n    </tr>\n    <tr>\n      <th>1</th>\n      <td>212548</td>\n      <td>Syoku</td>\n      <td>NaN</td>\n      <td>https://nhentai.net/g/212548</td>\n      <td>https://nhentai.net/api/gallery/212548</td>\n      <td>1133892</td>\n      <td>1509103975</td>\n      <td>4452</td>\n      <td>[big breasts, milf, nakadashi, sole female, ch...</td>\n      <td>[hyoco road]</td>\n      <td>[occultic nine]</td>\n      <td>[ririka nishizono]</td>\n      <td>['english', 'translated']</td>\n      <td>[hyocorou]</td>\n      <td>[doujinshi]</td>\n      <td>https://t.nhentai.net/galleries/1133892/cover.jpg</td>\n      <td>https://t.nhentai.net/galleries/1133892/thumb.jpg</td>\n      <td>[https://i.nhentai.net/galleries/1133892/1.jpg...</td>\n      <td>33</td>\n      <td>[212548\\1.jpg, 212548\\2.jpg, 212548\\3.jpg, 212...</td>\n    </tr>\n    <tr>\n      <th>2</th>\n      <td>57170</td>\n      <td>Drug Fumi-chan Seishun Hen Ura Manga Michi</td>\n      <td>NaN</td>\n      <td>https://nhentai.net/g/57170</td>\n      <td>https://nhentai.net/api/gallery/57170</td>\n      <td>333208</td>\n      <td>1403992737</td>\n      <td>21</td>\n      <td>[bondage, yuri, schoolgirl uniform, tankoubon]</td>\n      <td>[]</td>\n      <td>[]</td>\n      <td>[]</td>\n      <td>['japanese']</td>\n      <td>[shin tsuguru]</td>\n      <td>[manga]</td>\n      <td>https://t.nhentai.net/galleries/333208/cover.jpg</td>\n      <td>https://t.nhentai.net/galleries/333208/thumb.jpg</td>\n      <td>[https://i.nhentai.net/galleries/333208/1.jpg,...</td>\n      <td>166</td>\n      <td>[57170\\1.jpg, 57170\\2.jpg, 57170\\3.jpg, 57170\\...</td>\n    </tr>\n    <tr>\n      <th>3</th>\n      <td>75495</td>\n      <td>SHIRONA HAZARD</td>\n      <td>NaN</td>\n      <td>https://nhentai.net/g/75495</td>\n      <td>https://nhentai.net/api/gallery/75495</td>\n      <td>490119</td>\n      <td>1403996013</td>\n      <td>191</td>\n      <td>[big breasts]</td>\n      <td>[draw go]</td>\n      <td>[pokemon]</td>\n      <td>[cynthia]</td>\n      <td>['japanese']</td>\n      <td>[souichi]</td>\n      <td>[doujinshi]</td>\n      <td>https://t.nhentai.net/galleries/490119/cover.jpg</td>\n      <td>https://t.nhentai.net/galleries/490119/thumb.jpg</td>\n      <td>[https://i.nhentai.net/galleries/490119/1.jpg,...</td>\n      <td>23</td>\n      <td>[75495\\1.jpg, 75495\\2.jpg, 75495\\3.jpg, 75495\\...</td>\n    </tr>\n    <tr>\n      <th>4</th>\n      <td>229284</td>\n      <td>2205-nen no Afterglow</td>\n      <td>NaN</td>\n      <td>https://nhentai.net/g/229284</td>\n      <td>https://nhentai.net/api/gallery/229284</td>\n      <td>1206999</td>\n      <td>1522895460</td>\n      <td>101</td>\n      <td>[eyepatch, sole male, sole female]</td>\n      <td>[frozen world]</td>\n      <td>[touken ranbu]</td>\n      <td>[shokudaikiri mitsutada]</td>\n      <td>['japanese']</td>\n      <td>[kanaso]</td>\n      <td>[doujinshi]</td>\n      <td>https://t.nhentai.net/galleries/1206999/cover.jpg</td>\n      <td>https://t.nhentai.net/galleries/1206999/thumb.jpg</td>\n      <td>[https://i.nhentai.net/galleries/1206999/1.jpg...</td>\n      <td>47</td>\n      <td>[229284\\1.jpg, 229284\\2.png, 229284\\3.jpg, 229...</td>\n    </tr>\n    <tr>\n      <th>...</th>\n      <td>...</td>\n      <td>...</td>\n      <td>...</td>\n      <td>...</td>\n      <td>...</td>\n      <td>...</td>\n      <td>...</td>\n      <td>...</td>\n      <td>...</td>\n      <td>...</td>\n      <td>...</td>\n      <td>...</td>\n      <td>...</td>\n      <td>...</td>\n      <td>...</td>\n      <td>...</td>\n      <td>...</td>\n      <td>...</td>\n      <td>...</td>\n      <td>...</td>\n    </tr>\n    <tr>\n      <th>995</th>\n      <td>8414</td>\n      <td>CRIMsON plus</td>\n      <td>NaN</td>\n      <td>https://nhentai.net/g/8414</td>\n      <td>https://nhentai.net/api/gallery/8414</td>\n      <td>23918</td>\n      <td>1403982375</td>\n      <td>27</td>\n      <td>[]</td>\n      <td>[ura fmo]</td>\n      <td>[tsukihime]</td>\n      <td>[]</td>\n      <td>['japanese']</td>\n      <td>[fumio]</td>\n      <td>[doujinshi]</td>\n      <td>https://t.nhentai.net/galleries/23918/cover.jpg</td>\n      <td>https://t.nhentai.net/galleries/23918/thumb.jpg</td>\n      <td>[https://i.nhentai.net/galleries/23918/1.jpg, ...</td>\n      <td>22</td>\n      <td>[8414\\1.jpg, 8414\\2.jpg, 8414\\3.jpg, 8414\\4.jp...</td>\n    </tr>\n    <tr>\n      <th>996</th>\n      <td>301679</td>\n      <td>Danchi no Shoujo</td>\n      <td>NaN</td>\n      <td>https://nhentai.net/g/301679</td>\n      <td>https://nhentai.net/api/gallery/301679</td>\n      <td>1570827</td>\n      <td>1581719888</td>\n      <td>1058</td>\n      <td>[dark skin, lolicon, prostitution, sole female...</td>\n      <td>[]</td>\n      <td>[]</td>\n      <td>[]</td>\n      <td>['chinese', 'translated']</td>\n      <td>[misao.]</td>\n      <td>[manga]</td>\n      <td>https://t.nhentai.net/galleries/1570827/cover.jpg</td>\n      <td>https://t.nhentai.net/galleries/1570827/thumb.jpg</td>\n      <td>[https://i.nhentai.net/galleries/1570827/1.jpg...</td>\n      <td>31</td>\n      <td>[301679\\1.jpg, 301679\\2.jpg, 301679\\3.jpg, 301...</td>\n    </tr>\n    <tr>\n      <th>997</th>\n      <td>316439</td>\n      <td>Shiokaze ni Fuka Retanode</td>\n      <td>NaN</td>\n      <td>https://nhentai.net/g/316439</td>\n      <td>https://nhentai.net/api/gallery/316439</td>\n      <td>1656670</td>\n      <td>1591805811</td>\n      <td>2760</td>\n      <td>[sole male, hairy, lolicon, niece, sole female...</td>\n      <td>[]</td>\n      <td>[]</td>\n      <td>[]</td>\n      <td>['chinese', 'translated']</td>\n      <td>[syamonabe]</td>\n      <td>[manga]</td>\n      <td>https://t.nhentai.net/galleries/1656670/cover.png</td>\n      <td>https://t.nhentai.net/galleries/1656670/thumb.png</td>\n      <td>[https://i.nhentai.net/galleries/1656670/1.png...</td>\n      <td>21</td>\n      <td>[316439\\1.png, 316439\\2.png, 316439\\3.png, 316...</td>\n    </tr>\n    <tr>\n      <th>998</th>\n      <td>329359</td>\n      <td>Ore no Kirai na Senpai | 我的讨人厌前辈 Ch. 1-2</td>\n      <td>NaN</td>\n      <td>https://nhentai.net/g/329359</td>\n      <td>https://nhentai.net/api/gallery/329359</td>\n      <td>1736443</td>\n      <td>1600457187</td>\n      <td>87</td>\n      <td>[males only, schoolboy uniform, yaoi, story ar...</td>\n      <td>[]</td>\n      <td>[]</td>\n      <td>[]</td>\n      <td>['chinese', 'translated']</td>\n      <td>[haruyama moto]</td>\n      <td>[manga]</td>\n      <td>https://t.nhentai.net/galleries/1736443/cover.jpg</td>\n      <td>https://t.nhentai.net/galleries/1736443/thumb.jpg</td>\n      <td>[https://i.nhentai.net/galleries/1736443/1.jpg...</td>\n      <td>68</td>\n      <td>[329359\\1.jpg, 329359\\2.jpg, 329359\\3.jpg, 329...</td>\n    </tr>\n    <tr>\n      <th>999</th>\n      <td>261773</td>\n      <td>Shinjin Idol Debut Mae Lesson</td>\n      <td>NaN</td>\n      <td>https://nhentai.net/g/261773</td>\n      <td>https://nhentai.net/api/gallery/261773</td>\n      <td>1357653</td>\n      <td>1549056078</td>\n      <td>259</td>\n      <td>[sole female, armpit licking]</td>\n      <td>[diamond guardian]</td>\n      <td>[kirakira precure a la mode]</td>\n      <td>[cure chocolat]</td>\n      <td>['japanese']</td>\n      <td>[hishimori]</td>\n      <td>[doujinshi]</td>\n      <td>https://t.nhentai.net/galleries/1357653/cover.jpg</td>\n      <td>https://t.nhentai.net/galleries/1357653/thumb.jpg</td>\n      <td>[https://i.nhentai.net/galleries/1357653/1.jpg...</td>\n      <td>37</td>\n      <td>[261773\\1.jpg, 261773\\2.jpg, 261773\\3.jpg, 261...</td>\n    </tr>\n  </tbody>\n</table>\n<p>1000 rows × 20 columns</p>\n</div>"
     },
     "metadata": {},
     "execution_count": 21
    }
   ],
   "source": [
    "def hentai_filenames(hentai: pd.Series):\n",
    "    return [\n",
    "        str(PurePath(str(hentai[\"id\"])) / Path(url).name)\n",
    "        for url in hentai[\"image_urls\"]\n",
    "    ]\n",
    "\n",
    "hentais_df = hentais_df.assign(filenames=hentais_df.apply(hentai_filenames, axis=1))\n",
    "hentais_df"
   ]
  },
  {
   "cell_type": "code",
   "execution_count": 22,
   "metadata": {
    "tags": []
   },
   "outputs": [
    {
     "output_type": "stream",
     "name": "stderr",
     "text": [
      "C:\\Anaconda3\\lib\\site-packages\\tqdm\\std.py:702: FutureWarning: The Panel class is removed from pandas. Accessing it from the top-level namespace will also be removed in the next version\n",
      "  from pandas import Panel\n",
      "100%|██████████| 1000/1000 [00:29<00:00, 33.90it/s]\n"
     ]
    }
   ],
   "source": [
    "def preprocess_image(filename: str) -> Union[os.PathLike, None]:\n",
    "    image_path = Path(filename)\n",
    "    image_preproc_dir = Path(DATA_PATH) / \"preprocessed\" / image_path.parent\n",
    "    image_preproc_path = image_preproc_dir / Path(image_path.stem + \".jpg\")\n",
    "\n",
    "    # Preprocess only those images that do not exist in\n",
    "    # the destination dataset for performance reason\n",
    "    if not image_preproc_path.is_file():\n",
    "        try:\n",
    "            image = Image.open(Path(DATA_PATH) / \"raw\" / image_path)\n",
    "            # Normalize images to be JPEG compatible\n",
    "            image = image.convert(\"RGB\")\n",
    "            image_preproc_dir.mkdir(parents=True, exist_ok=True)\n",
    "            image.save(image_preproc_path, \"JPEG\")\n",
    "        except:\n",
    "            return None\n",
    "\n",
    "    return str(PurePath(image_preproc_path))\n",
    "\n",
    "def preprocess_images(hentai: pd.Series) -> bool:\n",
    "    return [\n",
    "        preprocess_image(filename)\n",
    "        for filename in hentai[\"filenames\"]\n",
    "    ]\n",
    "\n",
    "tqdm.pandas()\n",
    "hentais_df = hentais_df.assign(filenames=hentais_df.progress_apply(preprocess_images, axis=1))"
   ]
  },
  {
   "source": [
    "We will filter every hentais that contain at least one corrupted images, since pages have order dependencies."
   ],
   "cell_type": "markdown",
   "metadata": {}
  },
  {
   "cell_type": "code",
   "execution_count": 23,
   "metadata": {},
   "outputs": [],
   "source": [
    "hentais_df = hentais_df[hentais_df[\"filenames\"].apply(all)]"
   ]
  },
  {
   "cell_type": "code",
   "execution_count": 24,
   "metadata": {},
   "outputs": [
    {
     "output_type": "stream",
     "name": "stdout",
     "text": [
      "Number of preprocessed images : 999\n"
     ]
    }
   ],
   "source": [
    "# The metadata CSV file that will contain the raw information about the hentai\n",
    "metadata_path = Path(DATA_PATH) / \"preprocessed\" / \"metadata.csv\"\n",
    "hentais_df.to_csv(\n",
    "    metadata_path,\n",
    "    index=False,\n",
    "    header=\"column_names\",\n",
    "    columns=[\n",
    "        \"id\",\n",
    "        \"title\",\n",
    "        \"num_favorites\",\n",
    "        \"tag\",\n",
    "        \"group\",\n",
    "        \"parody\",\n",
    "        \"character\",\n",
    "        \"language\",\n",
    "        \"artist\",\n",
    "        \"category\",\n",
    "        \"num_pages\",\n",
    "        \"filenames\"\n",
    "    ]\n",
    ")\n",
    "print(\"Number of preprocessed images :\", len(hentais_df))"
   ]
  },
  {
   "cell_type": "code",
   "execution_count": null,
   "metadata": {},
   "outputs": [],
   "source": []
  }
 ]
}