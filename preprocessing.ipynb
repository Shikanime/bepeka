{
 "metadata": {
  "language_info": {
   "codemirror_mode": {
    "name": "ipython",
    "version": 3
   },
   "file_extension": ".py",
   "mimetype": "text/x-python",
   "name": "python",
   "nbconvert_exporter": "python",
   "pygments_lexer": "ipython3",
   "version": "3.8.5"
  },
  "orig_nbformat": 2,
  "kernelspec": {
   "name": "python385jvsc74a57bd097ae724bfa85b9b34df7982b8bb8c7216f435b92902d749e4263f71162bea840",
   "display_name": "Python 3.8.5 64-bit ('base': conda)"
  }
 },
 "nbformat": 4,
 "nbformat_minor": 2,
 "cells": [
  {
   "cell_type": "code",
   "execution_count": 61,
   "metadata": {},
   "outputs": [],
   "source": [
    "# Utils packages\n",
    "import ast\n",
    "from pathlib import Path, PurePath\n",
    "from typing import Union\n",
    "\n",
    "# Data collector packages\n",
    "from hentai import Utils, Hentai, Option\n",
    "\n",
    "# Analysis packages\n",
    "import pandas as pd\n",
    "from PIL import Image\n",
    "from tqdm import tqdm\n",
    "\n",
    "# Compute packages\n",
    "import numpy as np\n",
    "import tensorflow as tf"
   ]
  },
  {
   "source": [
    "## Data collection\n",
    "\n",
    "We will use the information and media collected on the nhentai.net website. Recording each entry in a 'metadata.csv' file that aggregates information about the hentai, including links to download pages."
   ],
   "cell_type": "markdown",
   "metadata": {}
  },
  {
   "cell_type": "code",
   "execution_count": 62,
   "metadata": {},
   "outputs": [],
   "source": [
    "N_SAMPLE = 1 # Number of sample to refetch from hentai.\n",
    "DATA_PATH = \"data\" # Directory to drop collected data."
   ]
  },
  {
   "cell_type": "code",
   "execution_count": 63,
   "metadata": {},
   "outputs": [],
   "source": [
    "def get_random_hentai(_: int):\n",
    "    return pd.Series(Utils.get_random_hentai().dictionary(Option.all()))"
   ]
  },
  {
   "cell_type": "code",
   "execution_count": 64,
   "metadata": {},
   "outputs": [
    {
     "output_type": "execute_result",
     "data": {
      "text/plain": [
       "       id                title scanlator                           url  \\\n",
       "0  355066  BETWEEN US Ch. 1-36            https://nhentai.net/g/355066   \n",
       "\n",
       "                                      api  media_id        epos  \\\n",
       "0  https://nhentai.net/api/gallery/355066   1888032  1618291299   \n",
       "\n",
       "   num_favorites                                                tag group  \\\n",
       "0           1796  [big breasts, full censorship, story arc, mast...    []   \n",
       "\n",
       "  parody character               language artist category  \\\n",
       "0     []        []  [english, translated]     []  [manga]   \n",
       "\n",
       "                                               cover  \\\n",
       "0  https://t.nhentai.net/galleries/1888032/cover.jpg   \n",
       "\n",
       "                                           thumbnail  \\\n",
       "0  https://t.nhentai.net/galleries/1888032/thumb.jpg   \n",
       "\n",
       "                                          image_urls  num_pages  \n",
       "0  [https://i.nhentai.net/galleries/1888032/1.jpg...        287  "
      ],
      "text/html": "<div>\n<style scoped>\n    .dataframe tbody tr th:only-of-type {\n        vertical-align: middle;\n    }\n\n    .dataframe tbody tr th {\n        vertical-align: top;\n    }\n\n    .dataframe thead th {\n        text-align: right;\n    }\n</style>\n<table border=\"1\" class=\"dataframe\">\n  <thead>\n    <tr style=\"text-align: right;\">\n      <th></th>\n      <th>id</th>\n      <th>title</th>\n      <th>scanlator</th>\n      <th>url</th>\n      <th>api</th>\n      <th>media_id</th>\n      <th>epos</th>\n      <th>num_favorites</th>\n      <th>tag</th>\n      <th>group</th>\n      <th>parody</th>\n      <th>character</th>\n      <th>language</th>\n      <th>artist</th>\n      <th>category</th>\n      <th>cover</th>\n      <th>thumbnail</th>\n      <th>image_urls</th>\n      <th>num_pages</th>\n    </tr>\n  </thead>\n  <tbody>\n    <tr>\n      <th>0</th>\n      <td>355066</td>\n      <td>BETWEEN US Ch. 1-36</td>\n      <td></td>\n      <td>https://nhentai.net/g/355066</td>\n      <td>https://nhentai.net/api/gallery/355066</td>\n      <td>1888032</td>\n      <td>1618291299</td>\n      <td>1796</td>\n      <td>[big breasts, full censorship, story arc, mast...</td>\n      <td>[]</td>\n      <td>[]</td>\n      <td>[]</td>\n      <td>[english, translated]</td>\n      <td>[]</td>\n      <td>[manga]</td>\n      <td>https://t.nhentai.net/galleries/1888032/cover.jpg</td>\n      <td>https://t.nhentai.net/galleries/1888032/thumb.jpg</td>\n      <td>[https://i.nhentai.net/galleries/1888032/1.jpg...</td>\n      <td>287</td>\n    </tr>\n  </tbody>\n</table>\n</div>"
     },
     "metadata": {},
     "execution_count": 64
    }
   ],
   "source": [
    "# Query the nhentai.net API to get N number of random hentai\n",
    "collected_hentais_df = pd.DataFrame(range(N_SAMPLE))\n",
    "collected_hentais_df = collected_hentais_df.apply(get_random_hentai, axis=1)\n",
    "collected_hentais_df"
   ]
  },
  {
   "source": [
    "## Read dataset file"
   ],
   "cell_type": "markdown",
   "metadata": {}
  },
  {
   "cell_type": "code",
   "execution_count": 65,
   "metadata": {},
   "outputs": [],
   "source": [
    "# The metadata NDJSON file that will contain the raw information about the hentai\n",
    "metadata_path = Path(DATA_PATH) / \"raw\" / \"metadata.ndjson\""
   ]
  },
  {
   "source": [
    "hentais_df = pd.read_json(\n",
    "    metadata_path,\n",
    "    orient=\"records\",\n",
    "    lines=True\n",
    ")\n",
    "hentais_df"
   ],
   "cell_type": "code",
   "metadata": {},
   "execution_count": 66,
   "outputs": [
    {
     "output_type": "execute_result",
     "data": {
      "text/plain": [
       "          id                                              title scanlator  \\\n",
       "0     338065                          NI+CORA de SHI+CORA Night             \n",
       "1     352167  Boku wa Chiisana Succubus no Shimobe - I am a ...      None   \n",
       "2     212548                                              Syoku      None   \n",
       "3      57170         Drug Fumi-chan Seishun Hen Ura Manga Michi      None   \n",
       "4      75495                                     SHIRONA HAZARD      None   \n",
       "...      ...                                                ...       ...   \n",
       "3335   19145  Fuuka Meiga za Nihon date: Roommate no Hime go...      None   \n",
       "3336  243825                            Count2.4 CGF Soushuuhen             \n",
       "3337  230693                                              ふたりきり             \n",
       "3338  115897                                Otoko no Tatakai 18             \n",
       "3339  163328                              Omanko marunomi manga             \n",
       "\n",
       "                               url                                     api  \\\n",
       "0     https://nhentai.net/g/338065  https://nhentai.net/api/gallery/338065   \n",
       "1     https://nhentai.net/g/352167  https://nhentai.net/api/gallery/352167   \n",
       "2     https://nhentai.net/g/212548  https://nhentai.net/api/gallery/212548   \n",
       "3      https://nhentai.net/g/57170   https://nhentai.net/api/gallery/57170   \n",
       "4      https://nhentai.net/g/75495   https://nhentai.net/api/gallery/75495   \n",
       "...                            ...                                     ...   \n",
       "3335   https://nhentai.net/g/19145   https://nhentai.net/api/gallery/19145   \n",
       "3336  https://nhentai.net/g/243825  https://nhentai.net/api/gallery/243825   \n",
       "3337  https://nhentai.net/g/230693  https://nhentai.net/api/gallery/230693   \n",
       "3338  https://nhentai.net/g/115897  https://nhentai.net/api/gallery/115897   \n",
       "3339  https://nhentai.net/g/163328  https://nhentai.net/api/gallery/163328   \n",
       "\n",
       "      media_id        epos  num_favorites  \\\n",
       "0      1788827  1606885806            314   \n",
       "1      1872914  1616460447          20119   \n",
       "2      1133892  1509103975           4452   \n",
       "3       333208  1403992737             21   \n",
       "4       490119  1403996013            191   \n",
       "...        ...         ...            ...   \n",
       "3335     68021  1403984982             17   \n",
       "3336   1274983  1534955886           1167   \n",
       "3337   1213137  1524110819             70   \n",
       "3338    736813  1410126146             49   \n",
       "3339    932204  1462749081             60   \n",
       "\n",
       "                                                    tag                 group  \\\n",
       "0     [sole male, dark skin, ffm threesome, group, a...        [charan poran]   \n",
       "1     [wings, garter belt, group, uncensored, story ...                    []   \n",
       "2     [big breasts, milf, nakadashi, sole female, ch...          [hyoco road]   \n",
       "3        [bondage, yuri, schoolgirl uniform, tankoubon]                    []   \n",
       "4                                         [big breasts]             [draw go]   \n",
       "...                                                 ...                   ...   \n",
       "3335                                    [lolicon, yuri]              [bolze.]   \n",
       "3336         [bondage, anal, gag, nakadashi, stockings]            [count2.4]   \n",
       "3337  [anal, dark skin, males only, shotacon, yaoi, ...                    []   \n",
       "3338  [fundoshi, humiliation, full censorship, femdo...  [ito ichizo shouten]   \n",
       "3339                               [unbirth, stockings]                    []   \n",
       "\n",
       "                   parody                                          character  \\\n",
       "0     [tokyo 7th sisters]                 [alessandra susu, musubi tendouji]   \n",
       "1                      []                                                 []   \n",
       "2         [occultic nine]                                 [ririka nishizono]   \n",
       "3                      []                                                 []   \n",
       "4               [pokemon]                                          [cynthia]   \n",
       "...                   ...                                                ...   \n",
       "3335          [mai-otome]  [shizuru fujino, erstin ho, nina wang, yohko h...   \n",
       "3336     [the idolmaster]  [koume shirasaka, mayu sakuma, mika jougasaki,...   \n",
       "3337      [dragon ball z]                                 [son goku, turles]   \n",
       "3338                   []                                                 []   \n",
       "3339                   []                                                 []   \n",
       "\n",
       "                   language             artist     category  \\\n",
       "0                [japanese]  [nekono matatabi]  [doujinshi]   \n",
       "1     [english, translated]    [tamano kedama]      [manga]   \n",
       "2     [english, translated]         [hyocorou]  [doujinshi]   \n",
       "3                [japanese]     [shin tsuguru]      [manga]   \n",
       "4                [japanese]          [souichi]  [doujinshi]   \n",
       "...                     ...                ...          ...   \n",
       "3335             [japanese]             [rit.]  [doujinshi]   \n",
       "3336             [japanese]            [nishi]  [doujinshi]   \n",
       "3337             [japanese]                 []  [doujinshi]   \n",
       "3338             [japanese]       [ito ichizo]  [doujinshi]   \n",
       "3339             [japanese]                 []  [doujinshi]   \n",
       "\n",
       "                                                  cover  \\\n",
       "0     https://t.nhentai.net/galleries/1788827/cover.jpg   \n",
       "1     https://t.nhentai.net/galleries/1872914/cover.jpg   \n",
       "2     https://t.nhentai.net/galleries/1133892/cover.jpg   \n",
       "3      https://t.nhentai.net/galleries/333208/cover.jpg   \n",
       "4      https://t.nhentai.net/galleries/490119/cover.jpg   \n",
       "...                                                 ...   \n",
       "3335    https://t.nhentai.net/galleries/68021/cover.jpg   \n",
       "3336  https://t.nhentai.net/galleries/1274983/cover.jpg   \n",
       "3337  https://t.nhentai.net/galleries/1213137/cover.png   \n",
       "3338   https://t.nhentai.net/galleries/736813/cover.jpg   \n",
       "3339   https://t.nhentai.net/galleries/932204/cover.gif   \n",
       "\n",
       "                                              thumbnail  \\\n",
       "0     https://t.nhentai.net/galleries/1788827/thumb.jpg   \n",
       "1     https://t.nhentai.net/galleries/1872914/thumb.jpg   \n",
       "2     https://t.nhentai.net/galleries/1133892/thumb.jpg   \n",
       "3      https://t.nhentai.net/galleries/333208/thumb.jpg   \n",
       "4      https://t.nhentai.net/galleries/490119/thumb.jpg   \n",
       "...                                                 ...   \n",
       "3335    https://t.nhentai.net/galleries/68021/thumb.jpg   \n",
       "3336  https://t.nhentai.net/galleries/1274983/thumb.jpg   \n",
       "3337  https://t.nhentai.net/galleries/1213137/thumb.png   \n",
       "3338   https://t.nhentai.net/galleries/736813/thumb.jpg   \n",
       "3339   https://t.nhentai.net/galleries/932204/thumb.gif   \n",
       "\n",
       "                                             image_urls  num_pages  \n",
       "0     [https://i.nhentai.net/galleries/1788827/1.jpg...         14  \n",
       "1     [https://i.nhentai.net/galleries/1872914/1.jpg...        195  \n",
       "2     [https://i.nhentai.net/galleries/1133892/1.jpg...         33  \n",
       "3     [https://i.nhentai.net/galleries/333208/1.jpg,...        166  \n",
       "4     [https://i.nhentai.net/galleries/490119/1.jpg,...         23  \n",
       "...                                                 ...        ...  \n",
       "3335  [https://i.nhentai.net/galleries/68021/1.jpg, ...         18  \n",
       "3336  [https://i.nhentai.net/galleries/1274983/1.jpg...        140  \n",
       "3337  [https://i.nhentai.net/galleries/1213137/1.png...         15  \n",
       "3338  [https://i.nhentai.net/galleries/736813/1.jpg,...         17  \n",
       "3339  [https://i.nhentai.net/galleries/932204/1.gif,...         10  \n",
       "\n",
       "[3340 rows x 19 columns]"
      ],
      "text/html": "<div>\n<style scoped>\n    .dataframe tbody tr th:only-of-type {\n        vertical-align: middle;\n    }\n\n    .dataframe tbody tr th {\n        vertical-align: top;\n    }\n\n    .dataframe thead th {\n        text-align: right;\n    }\n</style>\n<table border=\"1\" class=\"dataframe\">\n  <thead>\n    <tr style=\"text-align: right;\">\n      <th></th>\n      <th>id</th>\n      <th>title</th>\n      <th>scanlator</th>\n      <th>url</th>\n      <th>api</th>\n      <th>media_id</th>\n      <th>epos</th>\n      <th>num_favorites</th>\n      <th>tag</th>\n      <th>group</th>\n      <th>parody</th>\n      <th>character</th>\n      <th>language</th>\n      <th>artist</th>\n      <th>category</th>\n      <th>cover</th>\n      <th>thumbnail</th>\n      <th>image_urls</th>\n      <th>num_pages</th>\n    </tr>\n  </thead>\n  <tbody>\n    <tr>\n      <th>0</th>\n      <td>338065</td>\n      <td>NI+CORA de SHI+CORA Night</td>\n      <td></td>\n      <td>https://nhentai.net/g/338065</td>\n      <td>https://nhentai.net/api/gallery/338065</td>\n      <td>1788827</td>\n      <td>1606885806</td>\n      <td>314</td>\n      <td>[sole male, dark skin, ffm threesome, group, a...</td>\n      <td>[charan poran]</td>\n      <td>[tokyo 7th sisters]</td>\n      <td>[alessandra susu, musubi tendouji]</td>\n      <td>[japanese]</td>\n      <td>[nekono matatabi]</td>\n      <td>[doujinshi]</td>\n      <td>https://t.nhentai.net/galleries/1788827/cover.jpg</td>\n      <td>https://t.nhentai.net/galleries/1788827/thumb.jpg</td>\n      <td>[https://i.nhentai.net/galleries/1788827/1.jpg...</td>\n      <td>14</td>\n    </tr>\n    <tr>\n      <th>1</th>\n      <td>352167</td>\n      <td>Boku wa Chiisana Succubus no Shimobe - I am a ...</td>\n      <td>None</td>\n      <td>https://nhentai.net/g/352167</td>\n      <td>https://nhentai.net/api/gallery/352167</td>\n      <td>1872914</td>\n      <td>1616460447</td>\n      <td>20119</td>\n      <td>[wings, garter belt, group, uncensored, story ...</td>\n      <td>[]</td>\n      <td>[]</td>\n      <td>[]</td>\n      <td>[english, translated]</td>\n      <td>[tamano kedama]</td>\n      <td>[manga]</td>\n      <td>https://t.nhentai.net/galleries/1872914/cover.jpg</td>\n      <td>https://t.nhentai.net/galleries/1872914/thumb.jpg</td>\n      <td>[https://i.nhentai.net/galleries/1872914/1.jpg...</td>\n      <td>195</td>\n    </tr>\n    <tr>\n      <th>2</th>\n      <td>212548</td>\n      <td>Syoku</td>\n      <td>None</td>\n      <td>https://nhentai.net/g/212548</td>\n      <td>https://nhentai.net/api/gallery/212548</td>\n      <td>1133892</td>\n      <td>1509103975</td>\n      <td>4452</td>\n      <td>[big breasts, milf, nakadashi, sole female, ch...</td>\n      <td>[hyoco road]</td>\n      <td>[occultic nine]</td>\n      <td>[ririka nishizono]</td>\n      <td>[english, translated]</td>\n      <td>[hyocorou]</td>\n      <td>[doujinshi]</td>\n      <td>https://t.nhentai.net/galleries/1133892/cover.jpg</td>\n      <td>https://t.nhentai.net/galleries/1133892/thumb.jpg</td>\n      <td>[https://i.nhentai.net/galleries/1133892/1.jpg...</td>\n      <td>33</td>\n    </tr>\n    <tr>\n      <th>3</th>\n      <td>57170</td>\n      <td>Drug Fumi-chan Seishun Hen Ura Manga Michi</td>\n      <td>None</td>\n      <td>https://nhentai.net/g/57170</td>\n      <td>https://nhentai.net/api/gallery/57170</td>\n      <td>333208</td>\n      <td>1403992737</td>\n      <td>21</td>\n      <td>[bondage, yuri, schoolgirl uniform, tankoubon]</td>\n      <td>[]</td>\n      <td>[]</td>\n      <td>[]</td>\n      <td>[japanese]</td>\n      <td>[shin tsuguru]</td>\n      <td>[manga]</td>\n      <td>https://t.nhentai.net/galleries/333208/cover.jpg</td>\n      <td>https://t.nhentai.net/galleries/333208/thumb.jpg</td>\n      <td>[https://i.nhentai.net/galleries/333208/1.jpg,...</td>\n      <td>166</td>\n    </tr>\n    <tr>\n      <th>4</th>\n      <td>75495</td>\n      <td>SHIRONA HAZARD</td>\n      <td>None</td>\n      <td>https://nhentai.net/g/75495</td>\n      <td>https://nhentai.net/api/gallery/75495</td>\n      <td>490119</td>\n      <td>1403996013</td>\n      <td>191</td>\n      <td>[big breasts]</td>\n      <td>[draw go]</td>\n      <td>[pokemon]</td>\n      <td>[cynthia]</td>\n      <td>[japanese]</td>\n      <td>[souichi]</td>\n      <td>[doujinshi]</td>\n      <td>https://t.nhentai.net/galleries/490119/cover.jpg</td>\n      <td>https://t.nhentai.net/galleries/490119/thumb.jpg</td>\n      <td>[https://i.nhentai.net/galleries/490119/1.jpg,...</td>\n      <td>23</td>\n    </tr>\n    <tr>\n      <th>...</th>\n      <td>...</td>\n      <td>...</td>\n      <td>...</td>\n      <td>...</td>\n      <td>...</td>\n      <td>...</td>\n      <td>...</td>\n      <td>...</td>\n      <td>...</td>\n      <td>...</td>\n      <td>...</td>\n      <td>...</td>\n      <td>...</td>\n      <td>...</td>\n      <td>...</td>\n      <td>...</td>\n      <td>...</td>\n      <td>...</td>\n      <td>...</td>\n    </tr>\n    <tr>\n      <th>3335</th>\n      <td>19145</td>\n      <td>Fuuka Meiga za Nihon date: Roommate no Hime go...</td>\n      <td>None</td>\n      <td>https://nhentai.net/g/19145</td>\n      <td>https://nhentai.net/api/gallery/19145</td>\n      <td>68021</td>\n      <td>1403984982</td>\n      <td>17</td>\n      <td>[lolicon, yuri]</td>\n      <td>[bolze.]</td>\n      <td>[mai-otome]</td>\n      <td>[shizuru fujino, erstin ho, nina wang, yohko h...</td>\n      <td>[japanese]</td>\n      <td>[rit.]</td>\n      <td>[doujinshi]</td>\n      <td>https://t.nhentai.net/galleries/68021/cover.jpg</td>\n      <td>https://t.nhentai.net/galleries/68021/thumb.jpg</td>\n      <td>[https://i.nhentai.net/galleries/68021/1.jpg, ...</td>\n      <td>18</td>\n    </tr>\n    <tr>\n      <th>3336</th>\n      <td>243825</td>\n      <td>Count2.4 CGF Soushuuhen</td>\n      <td></td>\n      <td>https://nhentai.net/g/243825</td>\n      <td>https://nhentai.net/api/gallery/243825</td>\n      <td>1274983</td>\n      <td>1534955886</td>\n      <td>1167</td>\n      <td>[bondage, anal, gag, nakadashi, stockings]</td>\n      <td>[count2.4]</td>\n      <td>[the idolmaster]</td>\n      <td>[koume shirasaka, mayu sakuma, mika jougasaki,...</td>\n      <td>[japanese]</td>\n      <td>[nishi]</td>\n      <td>[doujinshi]</td>\n      <td>https://t.nhentai.net/galleries/1274983/cover.jpg</td>\n      <td>https://t.nhentai.net/galleries/1274983/thumb.jpg</td>\n      <td>[https://i.nhentai.net/galleries/1274983/1.jpg...</td>\n      <td>140</td>\n    </tr>\n    <tr>\n      <th>3337</th>\n      <td>230693</td>\n      <td>ふたりきり</td>\n      <td></td>\n      <td>https://nhentai.net/g/230693</td>\n      <td>https://nhentai.net/api/gallery/230693</td>\n      <td>1213137</td>\n      <td>1524110819</td>\n      <td>70</td>\n      <td>[anal, dark skin, males only, shotacon, yaoi, ...</td>\n      <td>[]</td>\n      <td>[dragon ball z]</td>\n      <td>[son goku, turles]</td>\n      <td>[japanese]</td>\n      <td>[]</td>\n      <td>[doujinshi]</td>\n      <td>https://t.nhentai.net/galleries/1213137/cover.png</td>\n      <td>https://t.nhentai.net/galleries/1213137/thumb.png</td>\n      <td>[https://i.nhentai.net/galleries/1213137/1.png...</td>\n      <td>15</td>\n    </tr>\n    <tr>\n      <th>3338</th>\n      <td>115897</td>\n      <td>Otoko no Tatakai 18</td>\n      <td></td>\n      <td>https://nhentai.net/g/115897</td>\n      <td>https://nhentai.net/api/gallery/115897</td>\n      <td>736813</td>\n      <td>1410126146</td>\n      <td>49</td>\n      <td>[fundoshi, humiliation, full censorship, femdo...</td>\n      <td>[ito ichizo shouten]</td>\n      <td>[]</td>\n      <td>[]</td>\n      <td>[japanese]</td>\n      <td>[ito ichizo]</td>\n      <td>[doujinshi]</td>\n      <td>https://t.nhentai.net/galleries/736813/cover.jpg</td>\n      <td>https://t.nhentai.net/galleries/736813/thumb.jpg</td>\n      <td>[https://i.nhentai.net/galleries/736813/1.jpg,...</td>\n      <td>17</td>\n    </tr>\n    <tr>\n      <th>3339</th>\n      <td>163328</td>\n      <td>Omanko marunomi manga</td>\n      <td></td>\n      <td>https://nhentai.net/g/163328</td>\n      <td>https://nhentai.net/api/gallery/163328</td>\n      <td>932204</td>\n      <td>1462749081</td>\n      <td>60</td>\n      <td>[unbirth, stockings]</td>\n      <td>[]</td>\n      <td>[]</td>\n      <td>[]</td>\n      <td>[japanese]</td>\n      <td>[]</td>\n      <td>[doujinshi]</td>\n      <td>https://t.nhentai.net/galleries/932204/cover.gif</td>\n      <td>https://t.nhentai.net/galleries/932204/thumb.gif</td>\n      <td>[https://i.nhentai.net/galleries/932204/1.gif,...</td>\n      <td>10</td>\n    </tr>\n  </tbody>\n</table>\n<p>3340 rows × 19 columns</p>\n</div>"
     },
     "metadata": {},
     "execution_count": 66
    }
   ]
  },
  {
   "source": [
    "## Save collected dataset"
   ],
   "cell_type": "markdown",
   "metadata": {}
  },
  {
   "cell_type": "code",
   "execution_count": 67,
   "metadata": {},
   "outputs": [],
   "source": [
    "hentais_df = pd.concat([collected_hentais_df, hentais_df], ignore_index=True)\n",
    "hentais_df = hentais_df.drop_duplicates(\"id\")\n",
    "hentais_df.to_json(\n",
    "    metadata_path,\n",
    "    orient=\"records\",\n",
    "    lines=True\n",
    ")"
   ]
  },
  {
   "source": [
    "## Download images"
   ],
   "cell_type": "markdown",
   "metadata": {}
  },
  {
   "cell_type": "code",
   "execution_count": 68,
   "metadata": {},
   "outputs": [],
   "source": [
    "def download_hentai(hentai: pd.Series):\n",
    "    # A hentai will be stored based on the gallery ID instead of the medai ID\n",
    "    hentai_path = Path(DATA_PATH) / \"raw\" / str(hentai.id)\n",
    "    # Since downloading a hentai is an expensive operation, we only\n",
    "    # download when the hentai ID directory does not exist\n",
    "    if not hentai_path.is_dir():\n",
    "        try:\n",
    "            hentai = Hentai(hentai.id)\n",
    "            hentai.download(folder=hentai_path, progressbar=True)\n",
    "            return True\n",
    "        except Exception:\n",
    "            pass\n",
    "    return False"
   ]
  },
  {
   "cell_type": "code",
   "execution_count": 69,
   "metadata": {},
   "outputs": [
    {
     "output_type": "stream",
     "name": "stderr",
     "text": [
      "Download #355066: 100%|\u001b[32m○○○○○○○○○○\u001b[0m| 287/287 [02:19<00:00,  2.06page/s]\n"
     ]
    }
   ],
   "source": [
    "downloaded_hentais_df = hentais_df.apply(download_hentai, axis=1)"
   ]
  },
  {
   "cell_type": "code",
   "execution_count": 70,
   "metadata": {},
   "outputs": [
    {
     "output_type": "stream",
     "name": "stdout",
     "text": [
      "Number of downloaded hentais : 1\n"
     ]
    }
   ],
   "source": [
    "print(\"Number of downloaded hentais :\", downloaded_hentais_df.sum())"
   ]
  },
  {
   "source": [
    "## Remove corrupted images"
   ],
   "cell_type": "markdown",
   "metadata": {}
  },
  {
   "cell_type": "code",
   "execution_count": 71,
   "metadata": {},
   "outputs": [],
   "source": [
    "def hentai_filenames(hentai: pd.Series):\n",
    "    return [\n",
    "        str(PurePath(str(hentai[\"id\"])) / Path(url).name)\n",
    "        for url in hentai[\"image_urls\"]\n",
    "    ]"
   ]
  },
  {
   "cell_type": "code",
   "execution_count": 72,
   "metadata": {},
   "outputs": [
    {
     "output_type": "execute_result",
     "data": {
      "text/plain": [
       "          id                                              title scanlator  \\\n",
       "0     355066                                BETWEEN US Ch. 1-36             \n",
       "1     338065                          NI+CORA de SHI+CORA Night             \n",
       "2     352167  Boku wa Chiisana Succubus no Shimobe - I am a ...      None   \n",
       "3     212548                                              Syoku      None   \n",
       "4      57170         Drug Fumi-chan Seishun Hen Ura Manga Michi      None   \n",
       "...      ...                                                ...       ...   \n",
       "3336   19145  Fuuka Meiga za Nihon date: Roommate no Hime go...      None   \n",
       "3337  243825                            Count2.4 CGF Soushuuhen             \n",
       "3338  230693                                              ふたりきり             \n",
       "3339  115897                                Otoko no Tatakai 18             \n",
       "3340  163328                              Omanko marunomi manga             \n",
       "\n",
       "                               url                                     api  \\\n",
       "0     https://nhentai.net/g/355066  https://nhentai.net/api/gallery/355066   \n",
       "1     https://nhentai.net/g/338065  https://nhentai.net/api/gallery/338065   \n",
       "2     https://nhentai.net/g/352167  https://nhentai.net/api/gallery/352167   \n",
       "3     https://nhentai.net/g/212548  https://nhentai.net/api/gallery/212548   \n",
       "4      https://nhentai.net/g/57170   https://nhentai.net/api/gallery/57170   \n",
       "...                            ...                                     ...   \n",
       "3336   https://nhentai.net/g/19145   https://nhentai.net/api/gallery/19145   \n",
       "3337  https://nhentai.net/g/243825  https://nhentai.net/api/gallery/243825   \n",
       "3338  https://nhentai.net/g/230693  https://nhentai.net/api/gallery/230693   \n",
       "3339  https://nhentai.net/g/115897  https://nhentai.net/api/gallery/115897   \n",
       "3340  https://nhentai.net/g/163328  https://nhentai.net/api/gallery/163328   \n",
       "\n",
       "      media_id        epos  num_favorites  \\\n",
       "0      1888032  1618291299           1796   \n",
       "1      1788827  1606885806            314   \n",
       "2      1872914  1616460447          20119   \n",
       "3      1133892  1509103975           4452   \n",
       "4       333208  1403992737             21   \n",
       "...        ...         ...            ...   \n",
       "3336     68021  1403984982             17   \n",
       "3337   1274983  1534955886           1167   \n",
       "3338   1213137  1524110819             70   \n",
       "3339    736813  1410126146             49   \n",
       "3340    932204  1462749081             60   \n",
       "\n",
       "                                                    tag                 group  \\\n",
       "0     [big breasts, full censorship, story arc, mast...                    []   \n",
       "1     [sole male, dark skin, ffm threesome, group, a...        [charan poran]   \n",
       "2     [wings, garter belt, group, uncensored, story ...                    []   \n",
       "3     [big breasts, milf, nakadashi, sole female, ch...          [hyoco road]   \n",
       "4        [bondage, yuri, schoolgirl uniform, tankoubon]                    []   \n",
       "...                                                 ...                   ...   \n",
       "3336                                    [lolicon, yuri]              [bolze.]   \n",
       "3337         [bondage, anal, gag, nakadashi, stockings]            [count2.4]   \n",
       "3338  [anal, dark skin, males only, shotacon, yaoi, ...                    []   \n",
       "3339  [fundoshi, humiliation, full censorship, femdo...  [ito ichizo shouten]   \n",
       "3340                               [unbirth, stockings]                    []   \n",
       "\n",
       "                   parody                                          character  \\\n",
       "0                      []                                                 []   \n",
       "1     [tokyo 7th sisters]                 [alessandra susu, musubi tendouji]   \n",
       "2                      []                                                 []   \n",
       "3         [occultic nine]                                 [ririka nishizono]   \n",
       "4                      []                                                 []   \n",
       "...                   ...                                                ...   \n",
       "3336          [mai-otome]  [shizuru fujino, erstin ho, nina wang, yohko h...   \n",
       "3337     [the idolmaster]  [koume shirasaka, mayu sakuma, mika jougasaki,...   \n",
       "3338      [dragon ball z]                                 [son goku, turles]   \n",
       "3339                   []                                                 []   \n",
       "3340                   []                                                 []   \n",
       "\n",
       "                   language             artist     category  \\\n",
       "0     [english, translated]                 []      [manga]   \n",
       "1                [japanese]  [nekono matatabi]  [doujinshi]   \n",
       "2     [english, translated]    [tamano kedama]      [manga]   \n",
       "3     [english, translated]         [hyocorou]  [doujinshi]   \n",
       "4                [japanese]     [shin tsuguru]      [manga]   \n",
       "...                     ...                ...          ...   \n",
       "3336             [japanese]             [rit.]  [doujinshi]   \n",
       "3337             [japanese]            [nishi]  [doujinshi]   \n",
       "3338             [japanese]                 []  [doujinshi]   \n",
       "3339             [japanese]       [ito ichizo]  [doujinshi]   \n",
       "3340             [japanese]                 []  [doujinshi]   \n",
       "\n",
       "                                                  cover  \\\n",
       "0     https://t.nhentai.net/galleries/1888032/cover.jpg   \n",
       "1     https://t.nhentai.net/galleries/1788827/cover.jpg   \n",
       "2     https://t.nhentai.net/galleries/1872914/cover.jpg   \n",
       "3     https://t.nhentai.net/galleries/1133892/cover.jpg   \n",
       "4      https://t.nhentai.net/galleries/333208/cover.jpg   \n",
       "...                                                 ...   \n",
       "3336    https://t.nhentai.net/galleries/68021/cover.jpg   \n",
       "3337  https://t.nhentai.net/galleries/1274983/cover.jpg   \n",
       "3338  https://t.nhentai.net/galleries/1213137/cover.png   \n",
       "3339   https://t.nhentai.net/galleries/736813/cover.jpg   \n",
       "3340   https://t.nhentai.net/galleries/932204/cover.gif   \n",
       "\n",
       "                                              thumbnail  \\\n",
       "0     https://t.nhentai.net/galleries/1888032/thumb.jpg   \n",
       "1     https://t.nhentai.net/galleries/1788827/thumb.jpg   \n",
       "2     https://t.nhentai.net/galleries/1872914/thumb.jpg   \n",
       "3     https://t.nhentai.net/galleries/1133892/thumb.jpg   \n",
       "4      https://t.nhentai.net/galleries/333208/thumb.jpg   \n",
       "...                                                 ...   \n",
       "3336    https://t.nhentai.net/galleries/68021/thumb.jpg   \n",
       "3337  https://t.nhentai.net/galleries/1274983/thumb.jpg   \n",
       "3338  https://t.nhentai.net/galleries/1213137/thumb.png   \n",
       "3339   https://t.nhentai.net/galleries/736813/thumb.jpg   \n",
       "3340   https://t.nhentai.net/galleries/932204/thumb.gif   \n",
       "\n",
       "                                             image_urls  num_pages  \\\n",
       "0     [https://i.nhentai.net/galleries/1888032/1.jpg...        287   \n",
       "1     [https://i.nhentai.net/galleries/1788827/1.jpg...         14   \n",
       "2     [https://i.nhentai.net/galleries/1872914/1.jpg...        195   \n",
       "3     [https://i.nhentai.net/galleries/1133892/1.jpg...         33   \n",
       "4     [https://i.nhentai.net/galleries/333208/1.jpg,...        166   \n",
       "...                                                 ...        ...   \n",
       "3336  [https://i.nhentai.net/galleries/68021/1.jpg, ...         18   \n",
       "3337  [https://i.nhentai.net/galleries/1274983/1.jpg...        140   \n",
       "3338  [https://i.nhentai.net/galleries/1213137/1.png...         15   \n",
       "3339  [https://i.nhentai.net/galleries/736813/1.jpg,...         17   \n",
       "3340  [https://i.nhentai.net/galleries/932204/1.gif,...         10   \n",
       "\n",
       "                                              filenames  \n",
       "0     [355066\\1.jpg, 355066\\2.jpg, 355066\\3.jpg, 355...  \n",
       "1     [338065\\1.jpg, 338065\\2.jpg, 338065\\3.jpg, 338...  \n",
       "2     [352167\\1.jpg, 352167\\2.jpg, 352167\\3.jpg, 352...  \n",
       "3     [212548\\1.jpg, 212548\\2.jpg, 212548\\3.jpg, 212...  \n",
       "4     [57170\\1.jpg, 57170\\2.jpg, 57170\\3.jpg, 57170\\...  \n",
       "...                                                 ...  \n",
       "3336  [19145\\1.jpg, 19145\\2.jpg, 19145\\3.jpg, 19145\\...  \n",
       "3337  [243825\\1.jpg, 243825\\2.jpg, 243825\\3.jpg, 243...  \n",
       "3338  [230693\\1.png, 230693\\2.png, 230693\\3.png, 230...  \n",
       "3339  [115897\\1.jpg, 115897\\2.jpg, 115897\\3.jpg, 115...  \n",
       "3340  [163328\\1.gif, 163328\\2.jpg, 163328\\3.jpg, 163...  \n",
       "\n",
       "[3341 rows x 20 columns]"
      ],
      "text/html": "<div>\n<style scoped>\n    .dataframe tbody tr th:only-of-type {\n        vertical-align: middle;\n    }\n\n    .dataframe tbody tr th {\n        vertical-align: top;\n    }\n\n    .dataframe thead th {\n        text-align: right;\n    }\n</style>\n<table border=\"1\" class=\"dataframe\">\n  <thead>\n    <tr style=\"text-align: right;\">\n      <th></th>\n      <th>id</th>\n      <th>title</th>\n      <th>scanlator</th>\n      <th>url</th>\n      <th>api</th>\n      <th>media_id</th>\n      <th>epos</th>\n      <th>num_favorites</th>\n      <th>tag</th>\n      <th>group</th>\n      <th>parody</th>\n      <th>character</th>\n      <th>language</th>\n      <th>artist</th>\n      <th>category</th>\n      <th>cover</th>\n      <th>thumbnail</th>\n      <th>image_urls</th>\n      <th>num_pages</th>\n      <th>filenames</th>\n    </tr>\n  </thead>\n  <tbody>\n    <tr>\n      <th>0</th>\n      <td>355066</td>\n      <td>BETWEEN US Ch. 1-36</td>\n      <td></td>\n      <td>https://nhentai.net/g/355066</td>\n      <td>https://nhentai.net/api/gallery/355066</td>\n      <td>1888032</td>\n      <td>1618291299</td>\n      <td>1796</td>\n      <td>[big breasts, full censorship, story arc, mast...</td>\n      <td>[]</td>\n      <td>[]</td>\n      <td>[]</td>\n      <td>[english, translated]</td>\n      <td>[]</td>\n      <td>[manga]</td>\n      <td>https://t.nhentai.net/galleries/1888032/cover.jpg</td>\n      <td>https://t.nhentai.net/galleries/1888032/thumb.jpg</td>\n      <td>[https://i.nhentai.net/galleries/1888032/1.jpg...</td>\n      <td>287</td>\n      <td>[355066\\1.jpg, 355066\\2.jpg, 355066\\3.jpg, 355...</td>\n    </tr>\n    <tr>\n      <th>1</th>\n      <td>338065</td>\n      <td>NI+CORA de SHI+CORA Night</td>\n      <td></td>\n      <td>https://nhentai.net/g/338065</td>\n      <td>https://nhentai.net/api/gallery/338065</td>\n      <td>1788827</td>\n      <td>1606885806</td>\n      <td>314</td>\n      <td>[sole male, dark skin, ffm threesome, group, a...</td>\n      <td>[charan poran]</td>\n      <td>[tokyo 7th sisters]</td>\n      <td>[alessandra susu, musubi tendouji]</td>\n      <td>[japanese]</td>\n      <td>[nekono matatabi]</td>\n      <td>[doujinshi]</td>\n      <td>https://t.nhentai.net/galleries/1788827/cover.jpg</td>\n      <td>https://t.nhentai.net/galleries/1788827/thumb.jpg</td>\n      <td>[https://i.nhentai.net/galleries/1788827/1.jpg...</td>\n      <td>14</td>\n      <td>[338065\\1.jpg, 338065\\2.jpg, 338065\\3.jpg, 338...</td>\n    </tr>\n    <tr>\n      <th>2</th>\n      <td>352167</td>\n      <td>Boku wa Chiisana Succubus no Shimobe - I am a ...</td>\n      <td>None</td>\n      <td>https://nhentai.net/g/352167</td>\n      <td>https://nhentai.net/api/gallery/352167</td>\n      <td>1872914</td>\n      <td>1616460447</td>\n      <td>20119</td>\n      <td>[wings, garter belt, group, uncensored, story ...</td>\n      <td>[]</td>\n      <td>[]</td>\n      <td>[]</td>\n      <td>[english, translated]</td>\n      <td>[tamano kedama]</td>\n      <td>[manga]</td>\n      <td>https://t.nhentai.net/galleries/1872914/cover.jpg</td>\n      <td>https://t.nhentai.net/galleries/1872914/thumb.jpg</td>\n      <td>[https://i.nhentai.net/galleries/1872914/1.jpg...</td>\n      <td>195</td>\n      <td>[352167\\1.jpg, 352167\\2.jpg, 352167\\3.jpg, 352...</td>\n    </tr>\n    <tr>\n      <th>3</th>\n      <td>212548</td>\n      <td>Syoku</td>\n      <td>None</td>\n      <td>https://nhentai.net/g/212548</td>\n      <td>https://nhentai.net/api/gallery/212548</td>\n      <td>1133892</td>\n      <td>1509103975</td>\n      <td>4452</td>\n      <td>[big breasts, milf, nakadashi, sole female, ch...</td>\n      <td>[hyoco road]</td>\n      <td>[occultic nine]</td>\n      <td>[ririka nishizono]</td>\n      <td>[english, translated]</td>\n      <td>[hyocorou]</td>\n      <td>[doujinshi]</td>\n      <td>https://t.nhentai.net/galleries/1133892/cover.jpg</td>\n      <td>https://t.nhentai.net/galleries/1133892/thumb.jpg</td>\n      <td>[https://i.nhentai.net/galleries/1133892/1.jpg...</td>\n      <td>33</td>\n      <td>[212548\\1.jpg, 212548\\2.jpg, 212548\\3.jpg, 212...</td>\n    </tr>\n    <tr>\n      <th>4</th>\n      <td>57170</td>\n      <td>Drug Fumi-chan Seishun Hen Ura Manga Michi</td>\n      <td>None</td>\n      <td>https://nhentai.net/g/57170</td>\n      <td>https://nhentai.net/api/gallery/57170</td>\n      <td>333208</td>\n      <td>1403992737</td>\n      <td>21</td>\n      <td>[bondage, yuri, schoolgirl uniform, tankoubon]</td>\n      <td>[]</td>\n      <td>[]</td>\n      <td>[]</td>\n      <td>[japanese]</td>\n      <td>[shin tsuguru]</td>\n      <td>[manga]</td>\n      <td>https://t.nhentai.net/galleries/333208/cover.jpg</td>\n      <td>https://t.nhentai.net/galleries/333208/thumb.jpg</td>\n      <td>[https://i.nhentai.net/galleries/333208/1.jpg,...</td>\n      <td>166</td>\n      <td>[57170\\1.jpg, 57170\\2.jpg, 57170\\3.jpg, 57170\\...</td>\n    </tr>\n    <tr>\n      <th>...</th>\n      <td>...</td>\n      <td>...</td>\n      <td>...</td>\n      <td>...</td>\n      <td>...</td>\n      <td>...</td>\n      <td>...</td>\n      <td>...</td>\n      <td>...</td>\n      <td>...</td>\n      <td>...</td>\n      <td>...</td>\n      <td>...</td>\n      <td>...</td>\n      <td>...</td>\n      <td>...</td>\n      <td>...</td>\n      <td>...</td>\n      <td>...</td>\n      <td>...</td>\n    </tr>\n    <tr>\n      <th>3336</th>\n      <td>19145</td>\n      <td>Fuuka Meiga za Nihon date: Roommate no Hime go...</td>\n      <td>None</td>\n      <td>https://nhentai.net/g/19145</td>\n      <td>https://nhentai.net/api/gallery/19145</td>\n      <td>68021</td>\n      <td>1403984982</td>\n      <td>17</td>\n      <td>[lolicon, yuri]</td>\n      <td>[bolze.]</td>\n      <td>[mai-otome]</td>\n      <td>[shizuru fujino, erstin ho, nina wang, yohko h...</td>\n      <td>[japanese]</td>\n      <td>[rit.]</td>\n      <td>[doujinshi]</td>\n      <td>https://t.nhentai.net/galleries/68021/cover.jpg</td>\n      <td>https://t.nhentai.net/galleries/68021/thumb.jpg</td>\n      <td>[https://i.nhentai.net/galleries/68021/1.jpg, ...</td>\n      <td>18</td>\n      <td>[19145\\1.jpg, 19145\\2.jpg, 19145\\3.jpg, 19145\\...</td>\n    </tr>\n    <tr>\n      <th>3337</th>\n      <td>243825</td>\n      <td>Count2.4 CGF Soushuuhen</td>\n      <td></td>\n      <td>https://nhentai.net/g/243825</td>\n      <td>https://nhentai.net/api/gallery/243825</td>\n      <td>1274983</td>\n      <td>1534955886</td>\n      <td>1167</td>\n      <td>[bondage, anal, gag, nakadashi, stockings]</td>\n      <td>[count2.4]</td>\n      <td>[the idolmaster]</td>\n      <td>[koume shirasaka, mayu sakuma, mika jougasaki,...</td>\n      <td>[japanese]</td>\n      <td>[nishi]</td>\n      <td>[doujinshi]</td>\n      <td>https://t.nhentai.net/galleries/1274983/cover.jpg</td>\n      <td>https://t.nhentai.net/galleries/1274983/thumb.jpg</td>\n      <td>[https://i.nhentai.net/galleries/1274983/1.jpg...</td>\n      <td>140</td>\n      <td>[243825\\1.jpg, 243825\\2.jpg, 243825\\3.jpg, 243...</td>\n    </tr>\n    <tr>\n      <th>3338</th>\n      <td>230693</td>\n      <td>ふたりきり</td>\n      <td></td>\n      <td>https://nhentai.net/g/230693</td>\n      <td>https://nhentai.net/api/gallery/230693</td>\n      <td>1213137</td>\n      <td>1524110819</td>\n      <td>70</td>\n      <td>[anal, dark skin, males only, shotacon, yaoi, ...</td>\n      <td>[]</td>\n      <td>[dragon ball z]</td>\n      <td>[son goku, turles]</td>\n      <td>[japanese]</td>\n      <td>[]</td>\n      <td>[doujinshi]</td>\n      <td>https://t.nhentai.net/galleries/1213137/cover.png</td>\n      <td>https://t.nhentai.net/galleries/1213137/thumb.png</td>\n      <td>[https://i.nhentai.net/galleries/1213137/1.png...</td>\n      <td>15</td>\n      <td>[230693\\1.png, 230693\\2.png, 230693\\3.png, 230...</td>\n    </tr>\n    <tr>\n      <th>3339</th>\n      <td>115897</td>\n      <td>Otoko no Tatakai 18</td>\n      <td></td>\n      <td>https://nhentai.net/g/115897</td>\n      <td>https://nhentai.net/api/gallery/115897</td>\n      <td>736813</td>\n      <td>1410126146</td>\n      <td>49</td>\n      <td>[fundoshi, humiliation, full censorship, femdo...</td>\n      <td>[ito ichizo shouten]</td>\n      <td>[]</td>\n      <td>[]</td>\n      <td>[japanese]</td>\n      <td>[ito ichizo]</td>\n      <td>[doujinshi]</td>\n      <td>https://t.nhentai.net/galleries/736813/cover.jpg</td>\n      <td>https://t.nhentai.net/galleries/736813/thumb.jpg</td>\n      <td>[https://i.nhentai.net/galleries/736813/1.jpg,...</td>\n      <td>17</td>\n      <td>[115897\\1.jpg, 115897\\2.jpg, 115897\\3.jpg, 115...</td>\n    </tr>\n    <tr>\n      <th>3340</th>\n      <td>163328</td>\n      <td>Omanko marunomi manga</td>\n      <td></td>\n      <td>https://nhentai.net/g/163328</td>\n      <td>https://nhentai.net/api/gallery/163328</td>\n      <td>932204</td>\n      <td>1462749081</td>\n      <td>60</td>\n      <td>[unbirth, stockings]</td>\n      <td>[]</td>\n      <td>[]</td>\n      <td>[]</td>\n      <td>[japanese]</td>\n      <td>[]</td>\n      <td>[doujinshi]</td>\n      <td>https://t.nhentai.net/galleries/932204/cover.gif</td>\n      <td>https://t.nhentai.net/galleries/932204/thumb.gif</td>\n      <td>[https://i.nhentai.net/galleries/932204/1.gif,...</td>\n      <td>10</td>\n      <td>[163328\\1.gif, 163328\\2.jpg, 163328\\3.jpg, 163...</td>\n    </tr>\n  </tbody>\n</table>\n<p>3341 rows × 20 columns</p>\n</div>"
     },
     "metadata": {},
     "execution_count": 72
    }
   ],
   "source": [
    "hentais_df = hentais_df.assign(\n",
    "    filenames=hentais_df.apply(hentai_filenames, axis=1)\n",
    ")\n",
    "hentais_df"
   ]
  },
  {
   "source": [
    "We will filter every hentais that contain at least one corrupted images, since pages have order dependencies."
   ],
   "cell_type": "markdown",
   "metadata": {}
  },
  {
   "cell_type": "code",
   "execution_count": 73,
   "metadata": {},
   "outputs": [],
   "source": [
    "def preprocess_image(filename: str):\n",
    "    image_path = Path(filename)\n",
    "    image_preproc_dir = Path(DATA_PATH) / \"preprocessed\" / image_path.parent\n",
    "    image_preproc_path = image_preproc_dir / Path(image_path.stem + \".jpg\")\n",
    "    # Preprocess only those images that do not exist in\n",
    "    # the destination dataset for performance reason\n",
    "    if not image_preproc_path.is_file():\n",
    "        try:\n",
    "            image = Image.open(Path(DATA_PATH) / \"raw\" / image_path)\n",
    "            # Normalize images to be JPEG compatible\n",
    "            image = image.convert(\"RGB\")\n",
    "            image_preproc_dir.mkdir(parents=True, exist_ok=True)\n",
    "            image.save(image_preproc_path, \"JPEG\")\n",
    "        except Exception:\n",
    "            return None\n",
    "    return str(PurePath(image_preproc_path))\n",
    "\n",
    "\n",
    "def preprocess_images(hentai: pd.Series):\n",
    "    return [\n",
    "        preprocess_image(filename)\n",
    "        for filename in hentai[\"filenames\"]\n",
    "    ]"
   ]
  },
  {
   "cell_type": "code",
   "execution_count": 74,
   "metadata": {
    "tags": []
   },
   "outputs": [
    {
     "output_type": "stream",
     "name": "stderr",
     "text": [
      "100%|██████████| 3341/3341 [01:24<00:00, 39.40it/s] \n"
     ]
    }
   ],
   "source": [
    "tqdm.pandas()\n",
    "hentais_df = hentais_df.assign(\n",
    "    filenames=hentais_df.progress_apply(preprocess_images, axis=1)\n",
    ")"
   ]
  },
  {
   "cell_type": "code",
   "execution_count": 75,
   "metadata": {},
   "outputs": [
    {
     "output_type": "execute_result",
     "data": {
      "text/plain": [
       "          id                                              title scanlator  \\\n",
       "0     355066                                BETWEEN US Ch. 1-36             \n",
       "1     338065                          NI+CORA de SHI+CORA Night             \n",
       "2     352167  Boku wa Chiisana Succubus no Shimobe - I am a ...      None   \n",
       "3     212548                                              Syoku      None   \n",
       "4      57170         Drug Fumi-chan Seishun Hen Ura Manga Michi      None   \n",
       "...      ...                                                ...       ...   \n",
       "3336   19145  Fuuka Meiga za Nihon date: Roommate no Hime go...      None   \n",
       "3337  243825                            Count2.4 CGF Soushuuhen             \n",
       "3338  230693                                              ふたりきり             \n",
       "3339  115897                                Otoko no Tatakai 18             \n",
       "3340  163328                              Omanko marunomi manga             \n",
       "\n",
       "                               url                                     api  \\\n",
       "0     https://nhentai.net/g/355066  https://nhentai.net/api/gallery/355066   \n",
       "1     https://nhentai.net/g/338065  https://nhentai.net/api/gallery/338065   \n",
       "2     https://nhentai.net/g/352167  https://nhentai.net/api/gallery/352167   \n",
       "3     https://nhentai.net/g/212548  https://nhentai.net/api/gallery/212548   \n",
       "4      https://nhentai.net/g/57170   https://nhentai.net/api/gallery/57170   \n",
       "...                            ...                                     ...   \n",
       "3336   https://nhentai.net/g/19145   https://nhentai.net/api/gallery/19145   \n",
       "3337  https://nhentai.net/g/243825  https://nhentai.net/api/gallery/243825   \n",
       "3338  https://nhentai.net/g/230693  https://nhentai.net/api/gallery/230693   \n",
       "3339  https://nhentai.net/g/115897  https://nhentai.net/api/gallery/115897   \n",
       "3340  https://nhentai.net/g/163328  https://nhentai.net/api/gallery/163328   \n",
       "\n",
       "      media_id        epos  num_favorites  \\\n",
       "0      1888032  1618291299           1796   \n",
       "1      1788827  1606885806            314   \n",
       "2      1872914  1616460447          20119   \n",
       "3      1133892  1509103975           4452   \n",
       "4       333208  1403992737             21   \n",
       "...        ...         ...            ...   \n",
       "3336     68021  1403984982             17   \n",
       "3337   1274983  1534955886           1167   \n",
       "3338   1213137  1524110819             70   \n",
       "3339    736813  1410126146             49   \n",
       "3340    932204  1462749081             60   \n",
       "\n",
       "                                                    tag                 group  \\\n",
       "0     [big breasts, full censorship, story arc, mast...                    []   \n",
       "1     [sole male, dark skin, ffm threesome, group, a...        [charan poran]   \n",
       "2     [wings, garter belt, group, uncensored, story ...                    []   \n",
       "3     [big breasts, milf, nakadashi, sole female, ch...          [hyoco road]   \n",
       "4        [bondage, yuri, schoolgirl uniform, tankoubon]                    []   \n",
       "...                                                 ...                   ...   \n",
       "3336                                    [lolicon, yuri]              [bolze.]   \n",
       "3337         [bondage, anal, gag, nakadashi, stockings]            [count2.4]   \n",
       "3338  [anal, dark skin, males only, shotacon, yaoi, ...                    []   \n",
       "3339  [fundoshi, humiliation, full censorship, femdo...  [ito ichizo shouten]   \n",
       "3340                               [unbirth, stockings]                    []   \n",
       "\n",
       "                   parody                                          character  \\\n",
       "0                      []                                                 []   \n",
       "1     [tokyo 7th sisters]                 [alessandra susu, musubi tendouji]   \n",
       "2                      []                                                 []   \n",
       "3         [occultic nine]                                 [ririka nishizono]   \n",
       "4                      []                                                 []   \n",
       "...                   ...                                                ...   \n",
       "3336          [mai-otome]  [shizuru fujino, erstin ho, nina wang, yohko h...   \n",
       "3337     [the idolmaster]  [koume shirasaka, mayu sakuma, mika jougasaki,...   \n",
       "3338      [dragon ball z]                                 [son goku, turles]   \n",
       "3339                   []                                                 []   \n",
       "3340                   []                                                 []   \n",
       "\n",
       "                   language             artist     category  \\\n",
       "0     [english, translated]                 []      [manga]   \n",
       "1                [japanese]  [nekono matatabi]  [doujinshi]   \n",
       "2     [english, translated]    [tamano kedama]      [manga]   \n",
       "3     [english, translated]         [hyocorou]  [doujinshi]   \n",
       "4                [japanese]     [shin tsuguru]      [manga]   \n",
       "...                     ...                ...          ...   \n",
       "3336             [japanese]             [rit.]  [doujinshi]   \n",
       "3337             [japanese]            [nishi]  [doujinshi]   \n",
       "3338             [japanese]                 []  [doujinshi]   \n",
       "3339             [japanese]       [ito ichizo]  [doujinshi]   \n",
       "3340             [japanese]                 []  [doujinshi]   \n",
       "\n",
       "                                                  cover  \\\n",
       "0     https://t.nhentai.net/galleries/1888032/cover.jpg   \n",
       "1     https://t.nhentai.net/galleries/1788827/cover.jpg   \n",
       "2     https://t.nhentai.net/galleries/1872914/cover.jpg   \n",
       "3     https://t.nhentai.net/galleries/1133892/cover.jpg   \n",
       "4      https://t.nhentai.net/galleries/333208/cover.jpg   \n",
       "...                                                 ...   \n",
       "3336    https://t.nhentai.net/galleries/68021/cover.jpg   \n",
       "3337  https://t.nhentai.net/galleries/1274983/cover.jpg   \n",
       "3338  https://t.nhentai.net/galleries/1213137/cover.png   \n",
       "3339   https://t.nhentai.net/galleries/736813/cover.jpg   \n",
       "3340   https://t.nhentai.net/galleries/932204/cover.gif   \n",
       "\n",
       "                                              thumbnail  \\\n",
       "0     https://t.nhentai.net/galleries/1888032/thumb.jpg   \n",
       "1     https://t.nhentai.net/galleries/1788827/thumb.jpg   \n",
       "2     https://t.nhentai.net/galleries/1872914/thumb.jpg   \n",
       "3     https://t.nhentai.net/galleries/1133892/thumb.jpg   \n",
       "4      https://t.nhentai.net/galleries/333208/thumb.jpg   \n",
       "...                                                 ...   \n",
       "3336    https://t.nhentai.net/galleries/68021/thumb.jpg   \n",
       "3337  https://t.nhentai.net/galleries/1274983/thumb.jpg   \n",
       "3338  https://t.nhentai.net/galleries/1213137/thumb.png   \n",
       "3339   https://t.nhentai.net/galleries/736813/thumb.jpg   \n",
       "3340   https://t.nhentai.net/galleries/932204/thumb.gif   \n",
       "\n",
       "                                             image_urls  num_pages  \\\n",
       "0     [https://i.nhentai.net/galleries/1888032/1.jpg...        287   \n",
       "1     [https://i.nhentai.net/galleries/1788827/1.jpg...         14   \n",
       "2     [https://i.nhentai.net/galleries/1872914/1.jpg...        195   \n",
       "3     [https://i.nhentai.net/galleries/1133892/1.jpg...         33   \n",
       "4     [https://i.nhentai.net/galleries/333208/1.jpg,...        166   \n",
       "...                                                 ...        ...   \n",
       "3336  [https://i.nhentai.net/galleries/68021/1.jpg, ...         18   \n",
       "3337  [https://i.nhentai.net/galleries/1274983/1.jpg...        140   \n",
       "3338  [https://i.nhentai.net/galleries/1213137/1.png...         15   \n",
       "3339  [https://i.nhentai.net/galleries/736813/1.jpg,...         17   \n",
       "3340  [https://i.nhentai.net/galleries/932204/1.gif,...         10   \n",
       "\n",
       "                                              filenames  \n",
       "0     [data\\preprocessed\\355066\\1.jpg, data\\preproce...  \n",
       "1     [data\\preprocessed\\338065\\1.jpg, data\\preproce...  \n",
       "2     [data\\preprocessed\\352167\\1.jpg, data\\preproce...  \n",
       "3     [data\\preprocessed\\212548\\1.jpg, data\\preproce...  \n",
       "4     [data\\preprocessed\\57170\\1.jpg, data\\preproces...  \n",
       "...                                                 ...  \n",
       "3336  [data\\preprocessed\\19145\\1.jpg, data\\preproces...  \n",
       "3337  [data\\preprocessed\\243825\\1.jpg, data\\preproce...  \n",
       "3338  [data\\preprocessed\\230693\\1.jpg, data\\preproce...  \n",
       "3339  [data\\preprocessed\\115897\\1.jpg, data\\preproce...  \n",
       "3340  [data\\preprocessed\\163328\\1.jpg, data\\preproce...  \n",
       "\n",
       "[3335 rows x 20 columns]"
      ],
      "text/html": "<div>\n<style scoped>\n    .dataframe tbody tr th:only-of-type {\n        vertical-align: middle;\n    }\n\n    .dataframe tbody tr th {\n        vertical-align: top;\n    }\n\n    .dataframe thead th {\n        text-align: right;\n    }\n</style>\n<table border=\"1\" class=\"dataframe\">\n  <thead>\n    <tr style=\"text-align: right;\">\n      <th></th>\n      <th>id</th>\n      <th>title</th>\n      <th>scanlator</th>\n      <th>url</th>\n      <th>api</th>\n      <th>media_id</th>\n      <th>epos</th>\n      <th>num_favorites</th>\n      <th>tag</th>\n      <th>group</th>\n      <th>parody</th>\n      <th>character</th>\n      <th>language</th>\n      <th>artist</th>\n      <th>category</th>\n      <th>cover</th>\n      <th>thumbnail</th>\n      <th>image_urls</th>\n      <th>num_pages</th>\n      <th>filenames</th>\n    </tr>\n  </thead>\n  <tbody>\n    <tr>\n      <th>0</th>\n      <td>355066</td>\n      <td>BETWEEN US Ch. 1-36</td>\n      <td></td>\n      <td>https://nhentai.net/g/355066</td>\n      <td>https://nhentai.net/api/gallery/355066</td>\n      <td>1888032</td>\n      <td>1618291299</td>\n      <td>1796</td>\n      <td>[big breasts, full censorship, story arc, mast...</td>\n      <td>[]</td>\n      <td>[]</td>\n      <td>[]</td>\n      <td>[english, translated]</td>\n      <td>[]</td>\n      <td>[manga]</td>\n      <td>https://t.nhentai.net/galleries/1888032/cover.jpg</td>\n      <td>https://t.nhentai.net/galleries/1888032/thumb.jpg</td>\n      <td>[https://i.nhentai.net/galleries/1888032/1.jpg...</td>\n      <td>287</td>\n      <td>[data\\preprocessed\\355066\\1.jpg, data\\preproce...</td>\n    </tr>\n    <tr>\n      <th>1</th>\n      <td>338065</td>\n      <td>NI+CORA de SHI+CORA Night</td>\n      <td></td>\n      <td>https://nhentai.net/g/338065</td>\n      <td>https://nhentai.net/api/gallery/338065</td>\n      <td>1788827</td>\n      <td>1606885806</td>\n      <td>314</td>\n      <td>[sole male, dark skin, ffm threesome, group, a...</td>\n      <td>[charan poran]</td>\n      <td>[tokyo 7th sisters]</td>\n      <td>[alessandra susu, musubi tendouji]</td>\n      <td>[japanese]</td>\n      <td>[nekono matatabi]</td>\n      <td>[doujinshi]</td>\n      <td>https://t.nhentai.net/galleries/1788827/cover.jpg</td>\n      <td>https://t.nhentai.net/galleries/1788827/thumb.jpg</td>\n      <td>[https://i.nhentai.net/galleries/1788827/1.jpg...</td>\n      <td>14</td>\n      <td>[data\\preprocessed\\338065\\1.jpg, data\\preproce...</td>\n    </tr>\n    <tr>\n      <th>2</th>\n      <td>352167</td>\n      <td>Boku wa Chiisana Succubus no Shimobe - I am a ...</td>\n      <td>None</td>\n      <td>https://nhentai.net/g/352167</td>\n      <td>https://nhentai.net/api/gallery/352167</td>\n      <td>1872914</td>\n      <td>1616460447</td>\n      <td>20119</td>\n      <td>[wings, garter belt, group, uncensored, story ...</td>\n      <td>[]</td>\n      <td>[]</td>\n      <td>[]</td>\n      <td>[english, translated]</td>\n      <td>[tamano kedama]</td>\n      <td>[manga]</td>\n      <td>https://t.nhentai.net/galleries/1872914/cover.jpg</td>\n      <td>https://t.nhentai.net/galleries/1872914/thumb.jpg</td>\n      <td>[https://i.nhentai.net/galleries/1872914/1.jpg...</td>\n      <td>195</td>\n      <td>[data\\preprocessed\\352167\\1.jpg, data\\preproce...</td>\n    </tr>\n    <tr>\n      <th>3</th>\n      <td>212548</td>\n      <td>Syoku</td>\n      <td>None</td>\n      <td>https://nhentai.net/g/212548</td>\n      <td>https://nhentai.net/api/gallery/212548</td>\n      <td>1133892</td>\n      <td>1509103975</td>\n      <td>4452</td>\n      <td>[big breasts, milf, nakadashi, sole female, ch...</td>\n      <td>[hyoco road]</td>\n      <td>[occultic nine]</td>\n      <td>[ririka nishizono]</td>\n      <td>[english, translated]</td>\n      <td>[hyocorou]</td>\n      <td>[doujinshi]</td>\n      <td>https://t.nhentai.net/galleries/1133892/cover.jpg</td>\n      <td>https://t.nhentai.net/galleries/1133892/thumb.jpg</td>\n      <td>[https://i.nhentai.net/galleries/1133892/1.jpg...</td>\n      <td>33</td>\n      <td>[data\\preprocessed\\212548\\1.jpg, data\\preproce...</td>\n    </tr>\n    <tr>\n      <th>4</th>\n      <td>57170</td>\n      <td>Drug Fumi-chan Seishun Hen Ura Manga Michi</td>\n      <td>None</td>\n      <td>https://nhentai.net/g/57170</td>\n      <td>https://nhentai.net/api/gallery/57170</td>\n      <td>333208</td>\n      <td>1403992737</td>\n      <td>21</td>\n      <td>[bondage, yuri, schoolgirl uniform, tankoubon]</td>\n      <td>[]</td>\n      <td>[]</td>\n      <td>[]</td>\n      <td>[japanese]</td>\n      <td>[shin tsuguru]</td>\n      <td>[manga]</td>\n      <td>https://t.nhentai.net/galleries/333208/cover.jpg</td>\n      <td>https://t.nhentai.net/galleries/333208/thumb.jpg</td>\n      <td>[https://i.nhentai.net/galleries/333208/1.jpg,...</td>\n      <td>166</td>\n      <td>[data\\preprocessed\\57170\\1.jpg, data\\preproces...</td>\n    </tr>\n    <tr>\n      <th>...</th>\n      <td>...</td>\n      <td>...</td>\n      <td>...</td>\n      <td>...</td>\n      <td>...</td>\n      <td>...</td>\n      <td>...</td>\n      <td>...</td>\n      <td>...</td>\n      <td>...</td>\n      <td>...</td>\n      <td>...</td>\n      <td>...</td>\n      <td>...</td>\n      <td>...</td>\n      <td>...</td>\n      <td>...</td>\n      <td>...</td>\n      <td>...</td>\n      <td>...</td>\n    </tr>\n    <tr>\n      <th>3336</th>\n      <td>19145</td>\n      <td>Fuuka Meiga za Nihon date: Roommate no Hime go...</td>\n      <td>None</td>\n      <td>https://nhentai.net/g/19145</td>\n      <td>https://nhentai.net/api/gallery/19145</td>\n      <td>68021</td>\n      <td>1403984982</td>\n      <td>17</td>\n      <td>[lolicon, yuri]</td>\n      <td>[bolze.]</td>\n      <td>[mai-otome]</td>\n      <td>[shizuru fujino, erstin ho, nina wang, yohko h...</td>\n      <td>[japanese]</td>\n      <td>[rit.]</td>\n      <td>[doujinshi]</td>\n      <td>https://t.nhentai.net/galleries/68021/cover.jpg</td>\n      <td>https://t.nhentai.net/galleries/68021/thumb.jpg</td>\n      <td>[https://i.nhentai.net/galleries/68021/1.jpg, ...</td>\n      <td>18</td>\n      <td>[data\\preprocessed\\19145\\1.jpg, data\\preproces...</td>\n    </tr>\n    <tr>\n      <th>3337</th>\n      <td>243825</td>\n      <td>Count2.4 CGF Soushuuhen</td>\n      <td></td>\n      <td>https://nhentai.net/g/243825</td>\n      <td>https://nhentai.net/api/gallery/243825</td>\n      <td>1274983</td>\n      <td>1534955886</td>\n      <td>1167</td>\n      <td>[bondage, anal, gag, nakadashi, stockings]</td>\n      <td>[count2.4]</td>\n      <td>[the idolmaster]</td>\n      <td>[koume shirasaka, mayu sakuma, mika jougasaki,...</td>\n      <td>[japanese]</td>\n      <td>[nishi]</td>\n      <td>[doujinshi]</td>\n      <td>https://t.nhentai.net/galleries/1274983/cover.jpg</td>\n      <td>https://t.nhentai.net/galleries/1274983/thumb.jpg</td>\n      <td>[https://i.nhentai.net/galleries/1274983/1.jpg...</td>\n      <td>140</td>\n      <td>[data\\preprocessed\\243825\\1.jpg, data\\preproce...</td>\n    </tr>\n    <tr>\n      <th>3338</th>\n      <td>230693</td>\n      <td>ふたりきり</td>\n      <td></td>\n      <td>https://nhentai.net/g/230693</td>\n      <td>https://nhentai.net/api/gallery/230693</td>\n      <td>1213137</td>\n      <td>1524110819</td>\n      <td>70</td>\n      <td>[anal, dark skin, males only, shotacon, yaoi, ...</td>\n      <td>[]</td>\n      <td>[dragon ball z]</td>\n      <td>[son goku, turles]</td>\n      <td>[japanese]</td>\n      <td>[]</td>\n      <td>[doujinshi]</td>\n      <td>https://t.nhentai.net/galleries/1213137/cover.png</td>\n      <td>https://t.nhentai.net/galleries/1213137/thumb.png</td>\n      <td>[https://i.nhentai.net/galleries/1213137/1.png...</td>\n      <td>15</td>\n      <td>[data\\preprocessed\\230693\\1.jpg, data\\preproce...</td>\n    </tr>\n    <tr>\n      <th>3339</th>\n      <td>115897</td>\n      <td>Otoko no Tatakai 18</td>\n      <td></td>\n      <td>https://nhentai.net/g/115897</td>\n      <td>https://nhentai.net/api/gallery/115897</td>\n      <td>736813</td>\n      <td>1410126146</td>\n      <td>49</td>\n      <td>[fundoshi, humiliation, full censorship, femdo...</td>\n      <td>[ito ichizo shouten]</td>\n      <td>[]</td>\n      <td>[]</td>\n      <td>[japanese]</td>\n      <td>[ito ichizo]</td>\n      <td>[doujinshi]</td>\n      <td>https://t.nhentai.net/galleries/736813/cover.jpg</td>\n      <td>https://t.nhentai.net/galleries/736813/thumb.jpg</td>\n      <td>[https://i.nhentai.net/galleries/736813/1.jpg,...</td>\n      <td>17</td>\n      <td>[data\\preprocessed\\115897\\1.jpg, data\\preproce...</td>\n    </tr>\n    <tr>\n      <th>3340</th>\n      <td>163328</td>\n      <td>Omanko marunomi manga</td>\n      <td></td>\n      <td>https://nhentai.net/g/163328</td>\n      <td>https://nhentai.net/api/gallery/163328</td>\n      <td>932204</td>\n      <td>1462749081</td>\n      <td>60</td>\n      <td>[unbirth, stockings]</td>\n      <td>[]</td>\n      <td>[]</td>\n      <td>[]</td>\n      <td>[japanese]</td>\n      <td>[]</td>\n      <td>[doujinshi]</td>\n      <td>https://t.nhentai.net/galleries/932204/cover.gif</td>\n      <td>https://t.nhentai.net/galleries/932204/thumb.gif</td>\n      <td>[https://i.nhentai.net/galleries/932204/1.gif,...</td>\n      <td>10</td>\n      <td>[data\\preprocessed\\163328\\1.jpg, data\\preproce...</td>\n    </tr>\n  </tbody>\n</table>\n<p>3335 rows × 20 columns</p>\n</div>"
     },
     "metadata": {},
     "execution_count": 75
    }
   ],
   "source": [
    "hentais_df = hentais_df[hentais_df[\"filenames\"].apply(all)]\n",
    "hentais_df"
   ]
  },
  {
   "cell_type": "code",
   "execution_count": 76,
   "metadata": {},
   "outputs": [
    {
     "output_type": "stream",
     "name": "stdout",
     "text": [
      "Number of preprocessed images : 3335\n"
     ]
    }
   ],
   "source": [
    "# The metadata CSV file that will contain the raw information about the hentai\n",
    "metadata_path = Path(DATA_PATH) / \"preprocessed\" / \"metadata.ndjson\"\n",
    "hentais_df = hentais_df[[\n",
    "    \"id\",\n",
    "    \"title\",\n",
    "    \"num_favorites\",\n",
    "    \"tag\",\n",
    "    \"group\",\n",
    "    \"parody\",\n",
    "    \"character\",\n",
    "    \"language\",\n",
    "    \"artist\",\n",
    "    \"category\",\n",
    "    \"num_pages\",\n",
    "    \"filenames\"\n",
    "]]\n",
    "hentais_df.to_json(\n",
    "    metadata_path,\n",
    "    orient=\"records\",\n",
    "    lines=True\n",
    ")\n",
    "print(\"Number of preprocessed images :\", len(hentais_df))"
   ]
  },
  {
   "cell_type": "code",
   "execution_count": null,
   "metadata": {},
   "outputs": [],
   "source": []
  }
 ]
}