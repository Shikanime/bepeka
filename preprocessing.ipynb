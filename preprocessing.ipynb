{
 "metadata": {
  "language_info": {
   "codemirror_mode": {
    "name": "ipython",
    "version": 3
   },
   "file_extension": ".py",
   "mimetype": "text/x-python",
   "name": "python",
   "nbconvert_exporter": "python",
   "pygments_lexer": "ipython3",
   "version": "3.7.10"
  },
  "orig_nbformat": 2,
  "kernelspec": {
   "name": "python3710jvsc74a57bd07709ee700c0b35b705593aafecb5816646a1f77b192913c2314f04e0eb97f79e",
   "display_name": "Python 3.7.10 64-bit ('bepeka': conda)"
  }
 },
 "nbformat": 4,
 "nbformat_minor": 2,
 "cells": [
  {
   "cell_type": "code",
   "execution_count": 23,
   "metadata": {},
   "outputs": [],
   "source": [
    "# Utils packages\n",
    "import ast\n",
    "from pathlib import Path\n",
    "from typing import Union\n",
    "\n",
    "# Data collector packages\n",
    "from hentai import Utils, Hentai, Option\n",
    "\n",
    "# Analysis packages\n",
    "import pandas as pd"
   ]
  },
  {
   "source": [
    "## Data collection\n",
    "\n",
    "We will use the information and media collected on the nhentai.net website. Recording each entry in a 'metadata.csv' file that aggregates information about the hentai, including links to download pages."
   ],
   "cell_type": "markdown",
   "metadata": {}
  },
  {
   "cell_type": "code",
   "execution_count": 24,
   "metadata": {},
   "outputs": [],
   "source": [
    "N_SAMPLE = 0 # Number of sample to refetch from hentai.\n",
    "DATA_PATH = \"data\" # Directory to drop collected data."
   ]
  },
  {
   "cell_type": "code",
   "execution_count": 25,
   "metadata": {},
   "outputs": [],
   "source": [
    "def random_hentai(_: int) -> pd.Series:\n",
    "    return pd.Series(Utils.get_random_hentai().dictionary(Option.all()))"
   ]
  },
  {
   "cell_type": "code",
   "execution_count": 26,
   "metadata": {},
   "outputs": [
    {
     "output_type": "stream",
     "name": "stderr",
     "text": [
      "ipykernel_launcher:2: DeprecationWarning: The default dtype for empty Series will be 'object' instead of 'float64' in a future version. Specify a dtype explicitly to silence this warning.\n",
      "Number of collected hentais:  0\n"
     ]
    }
   ],
   "source": [
    "# Query the nhentai.net API to get N number of random hentai\n",
    "hentais_df = pd.Series(range(N_SAMPLE))\n",
    "hentais_df = hentais_df.apply(random_hentai)\n",
    "\n",
    "# The metadata CSV file that will contain the raw information about the hentai\n",
    "metadata_path = Path(DATA_PATH) / \"metadata.csv\"\n",
    "\n",
    "# Create a CSV file with a header only if the file does not exist\n",
    "if not metadata_path.is_file():\n",
    "    hentais_df.to_csv(metadata_path, index=False, header=\"column_names\")\n",
    "else:\n",
    "    hentais_df.to_csv(metadata_path, index=False, mode=\"a\", header=False)\n",
    "\n",
    "print(\"Number of collected hentais: \", len(hentais_df))"
   ]
  },
  {
   "source": [
    "## Read dataset file"
   ],
   "cell_type": "markdown",
   "metadata": {}
  },
  {
   "source": [
    "hentais_df = pd.read_csv(\n",
    "    Path(DATA_PATH) / \"metadata.csv\",\n",
    "    converters={\n",
    "        column_name: ast.literal_eval\n",
    "        for column_name in [\"tag\", \"group\", \"parody\", \"character\", \"artist\", \"category\", \"image_urls\"]\n",
    "    }\n",
    ")\n",
    "hentais_df"
   ],
   "cell_type": "code",
   "metadata": {},
   "execution_count": 27,
   "outputs": [
    {
     "output_type": "execute_result",
     "data": {
      "text/plain": [
       "         id                                       title  scanlator  \\\n",
       "0    212548                                       Syoku        NaN   \n",
       "1     57170  Drug Fumi-chan Seishun Hen Ura Manga Michi        NaN   \n",
       "2     75495                              SHIRONA HAZARD        NaN   \n",
       "3    229284                       2205-nen no Afterglow        NaN   \n",
       "4     99262                             moon marguerite        NaN   \n",
       "..      ...                                         ...        ...   \n",
       "727  155485                       Boku to Haha to Itoko        NaN   \n",
       "728   29542   Kyoudai SM Monogatari \"7days fuzz\"Chuuhen        NaN   \n",
       "729  102364                                 Dying Arnis        NaN   \n",
       "730  143070                             Asedaku Tenryuu        NaN   \n",
       "731  146260                             Hahaoya Yuuwaku        NaN   \n",
       "\n",
       "                              url                                     api  \\\n",
       "0    https://nhentai.net/g/212548  https://nhentai.net/api/gallery/212548   \n",
       "1     https://nhentai.net/g/57170   https://nhentai.net/api/gallery/57170   \n",
       "2     https://nhentai.net/g/75495   https://nhentai.net/api/gallery/75495   \n",
       "3    https://nhentai.net/g/229284  https://nhentai.net/api/gallery/229284   \n",
       "4     https://nhentai.net/g/99262   https://nhentai.net/api/gallery/99262   \n",
       "..                            ...                                     ...   \n",
       "727  https://nhentai.net/g/155485  https://nhentai.net/api/gallery/155485   \n",
       "728   https://nhentai.net/g/29542   https://nhentai.net/api/gallery/29542   \n",
       "729  https://nhentai.net/g/102364  https://nhentai.net/api/gallery/102364   \n",
       "730  https://nhentai.net/g/143070  https://nhentai.net/api/gallery/143070   \n",
       "731  https://nhentai.net/g/146260  https://nhentai.net/api/gallery/146260   \n",
       "\n",
       "     media_id        epos  num_favorites  \\\n",
       "0     1133892  1509103975           4452   \n",
       "1      333208  1403992737             21   \n",
       "2      490119  1403996013            191   \n",
       "3     1206999  1522895460            101   \n",
       "4      635686  1404000355            138   \n",
       "..        ...         ...            ...   \n",
       "727    898587  1454002824            680   \n",
       "728    125108  1403987594            140   \n",
       "729    656291  1404000946             10   \n",
       "730    850187  1441872351            323   \n",
       "731    861559  1444325880            745   \n",
       "\n",
       "                                                   tag  \\\n",
       "0    [big breasts, milf, nakadashi, sole female, ch...   \n",
       "1       [bondage, yuri, schoolgirl uniform, tankoubon]   \n",
       "2                                        [big breasts]   \n",
       "3                   [eyepatch, sole male, sole female]   \n",
       "4    [stockings, paizuri, lingerie, sole female, so...   \n",
       "..                                                 ...   \n",
       "727  [full color, incest, mosaic censorship, big br...   \n",
       "728  [bdsm, asphyxiation, bondage, human pet, colla...   \n",
       "729                                       [elf, blood]   \n",
       "730  [ahegao, big breasts, eyepatch, mecha girl, sc...   \n",
       "731  [blindfold, shotacon, full censorship, incest,...   \n",
       "\n",
       "                                   group               parody  \\\n",
       "0                           [hyoco road]      [occultic nine]   \n",
       "1                                     []                   []   \n",
       "2                              [draw go]            [pokemon]   \n",
       "3                         [frozen world]       [touken ranbu]   \n",
       "4                       [meltdown comet]     [touhou project]   \n",
       "..                                   ...                  ...   \n",
       "727                                   []                   []   \n",
       "728  [mousou kai no juunin wa ikiteiru.]                   []   \n",
       "729                                   []                   []   \n",
       "730                          [solid air]  [kantai collection]   \n",
       "731                                   []                   []   \n",
       "\n",
       "                    character                   language             artist  \\\n",
       "0          [ririka nishizono]  ['english', 'translated']         [hyocorou]   \n",
       "1                          []               ['japanese']     [shin tsuguru]   \n",
       "2                   [cynthia]               ['japanese']          [souichi]   \n",
       "3    [shokudaikiri mitsutada]               ['japanese']           [kanaso]   \n",
       "4       [patchouli knowledge]               ['japanese']        [yukiu con]   \n",
       "..                        ...                        ...                ...   \n",
       "727                        []               ['japanese']                 []   \n",
       "728                        []               ['japanese']        [kandanchi]   \n",
       "729                        []               ['japanese']  [yamamoto atsuji]   \n",
       "730        [tenryuu, teitoku]               ['japanese']            [zonda]   \n",
       "731                        []               ['japanese']             [hyji]   \n",
       "\n",
       "        category                                              cover  \\\n",
       "0    [doujinshi]  https://t.nhentai.net/galleries/1133892/cover.jpg   \n",
       "1        [manga]   https://t.nhentai.net/galleries/333208/cover.jpg   \n",
       "2    [doujinshi]   https://t.nhentai.net/galleries/490119/cover.jpg   \n",
       "3    [doujinshi]  https://t.nhentai.net/galleries/1206999/cover.jpg   \n",
       "4    [doujinshi]   https://t.nhentai.net/galleries/635686/cover.jpg   \n",
       "..           ...                                                ...   \n",
       "727      [manga]   https://t.nhentai.net/galleries/898587/cover.jpg   \n",
       "728  [doujinshi]   https://t.nhentai.net/galleries/125108/cover.jpg   \n",
       "729  [doujinshi]   https://t.nhentai.net/galleries/656291/cover.jpg   \n",
       "730  [doujinshi]   https://t.nhentai.net/galleries/850187/cover.jpg   \n",
       "731      [manga]   https://t.nhentai.net/galleries/861559/cover.jpg   \n",
       "\n",
       "                                             thumbnail  \\\n",
       "0    https://t.nhentai.net/galleries/1133892/thumb.jpg   \n",
       "1     https://t.nhentai.net/galleries/333208/thumb.jpg   \n",
       "2     https://t.nhentai.net/galleries/490119/thumb.jpg   \n",
       "3    https://t.nhentai.net/galleries/1206999/thumb.jpg   \n",
       "4     https://t.nhentai.net/galleries/635686/thumb.jpg   \n",
       "..                                                 ...   \n",
       "727   https://t.nhentai.net/galleries/898587/thumb.jpg   \n",
       "728   https://t.nhentai.net/galleries/125108/thumb.jpg   \n",
       "729   https://t.nhentai.net/galleries/656291/thumb.jpg   \n",
       "730   https://t.nhentai.net/galleries/850187/thumb.jpg   \n",
       "731   https://t.nhentai.net/galleries/861559/thumb.jpg   \n",
       "\n",
       "                                            image_urls  num_pages  \n",
       "0    [https://i.nhentai.net/galleries/1133892/1.jpg...         33  \n",
       "1    [https://i.nhentai.net/galleries/333208/1.jpg,...        166  \n",
       "2    [https://i.nhentai.net/galleries/490119/1.jpg,...         23  \n",
       "3    [https://i.nhentai.net/galleries/1206999/1.jpg...         47  \n",
       "4    [https://i.nhentai.net/galleries/635686/1.jpg,...         26  \n",
       "..                                                 ...        ...  \n",
       "727  [https://i.nhentai.net/galleries/898587/1.jpg,...         24  \n",
       "728  [https://i.nhentai.net/galleries/125108/1.jpg,...         72  \n",
       "729  [https://i.nhentai.net/galleries/656291/1.jpg,...         34  \n",
       "730  [https://i.nhentai.net/galleries/850187/1.jpg,...         22  \n",
       "731  [https://i.nhentai.net/galleries/861559/1.jpg,...        131  \n",
       "\n",
       "[732 rows x 19 columns]"
      ],
      "text/html": "<div>\n<style scoped>\n    .dataframe tbody tr th:only-of-type {\n        vertical-align: middle;\n    }\n\n    .dataframe tbody tr th {\n        vertical-align: top;\n    }\n\n    .dataframe thead th {\n        text-align: right;\n    }\n</style>\n<table border=\"1\" class=\"dataframe\">\n  <thead>\n    <tr style=\"text-align: right;\">\n      <th></th>\n      <th>id</th>\n      <th>title</th>\n      <th>scanlator</th>\n      <th>url</th>\n      <th>api</th>\n      <th>media_id</th>\n      <th>epos</th>\n      <th>num_favorites</th>\n      <th>tag</th>\n      <th>group</th>\n      <th>parody</th>\n      <th>character</th>\n      <th>language</th>\n      <th>artist</th>\n      <th>category</th>\n      <th>cover</th>\n      <th>thumbnail</th>\n      <th>image_urls</th>\n      <th>num_pages</th>\n    </tr>\n  </thead>\n  <tbody>\n    <tr>\n      <th>0</th>\n      <td>212548</td>\n      <td>Syoku</td>\n      <td>NaN</td>\n      <td>https://nhentai.net/g/212548</td>\n      <td>https://nhentai.net/api/gallery/212548</td>\n      <td>1133892</td>\n      <td>1509103975</td>\n      <td>4452</td>\n      <td>[big breasts, milf, nakadashi, sole female, ch...</td>\n      <td>[hyoco road]</td>\n      <td>[occultic nine]</td>\n      <td>[ririka nishizono]</td>\n      <td>['english', 'translated']</td>\n      <td>[hyocorou]</td>\n      <td>[doujinshi]</td>\n      <td>https://t.nhentai.net/galleries/1133892/cover.jpg</td>\n      <td>https://t.nhentai.net/galleries/1133892/thumb.jpg</td>\n      <td>[https://i.nhentai.net/galleries/1133892/1.jpg...</td>\n      <td>33</td>\n    </tr>\n    <tr>\n      <th>1</th>\n      <td>57170</td>\n      <td>Drug Fumi-chan Seishun Hen Ura Manga Michi</td>\n      <td>NaN</td>\n      <td>https://nhentai.net/g/57170</td>\n      <td>https://nhentai.net/api/gallery/57170</td>\n      <td>333208</td>\n      <td>1403992737</td>\n      <td>21</td>\n      <td>[bondage, yuri, schoolgirl uniform, tankoubon]</td>\n      <td>[]</td>\n      <td>[]</td>\n      <td>[]</td>\n      <td>['japanese']</td>\n      <td>[shin tsuguru]</td>\n      <td>[manga]</td>\n      <td>https://t.nhentai.net/galleries/333208/cover.jpg</td>\n      <td>https://t.nhentai.net/galleries/333208/thumb.jpg</td>\n      <td>[https://i.nhentai.net/galleries/333208/1.jpg,...</td>\n      <td>166</td>\n    </tr>\n    <tr>\n      <th>2</th>\n      <td>75495</td>\n      <td>SHIRONA HAZARD</td>\n      <td>NaN</td>\n      <td>https://nhentai.net/g/75495</td>\n      <td>https://nhentai.net/api/gallery/75495</td>\n      <td>490119</td>\n      <td>1403996013</td>\n      <td>191</td>\n      <td>[big breasts]</td>\n      <td>[draw go]</td>\n      <td>[pokemon]</td>\n      <td>[cynthia]</td>\n      <td>['japanese']</td>\n      <td>[souichi]</td>\n      <td>[doujinshi]</td>\n      <td>https://t.nhentai.net/galleries/490119/cover.jpg</td>\n      <td>https://t.nhentai.net/galleries/490119/thumb.jpg</td>\n      <td>[https://i.nhentai.net/galleries/490119/1.jpg,...</td>\n      <td>23</td>\n    </tr>\n    <tr>\n      <th>3</th>\n      <td>229284</td>\n      <td>2205-nen no Afterglow</td>\n      <td>NaN</td>\n      <td>https://nhentai.net/g/229284</td>\n      <td>https://nhentai.net/api/gallery/229284</td>\n      <td>1206999</td>\n      <td>1522895460</td>\n      <td>101</td>\n      <td>[eyepatch, sole male, sole female]</td>\n      <td>[frozen world]</td>\n      <td>[touken ranbu]</td>\n      <td>[shokudaikiri mitsutada]</td>\n      <td>['japanese']</td>\n      <td>[kanaso]</td>\n      <td>[doujinshi]</td>\n      <td>https://t.nhentai.net/galleries/1206999/cover.jpg</td>\n      <td>https://t.nhentai.net/galleries/1206999/thumb.jpg</td>\n      <td>[https://i.nhentai.net/galleries/1206999/1.jpg...</td>\n      <td>47</td>\n    </tr>\n    <tr>\n      <th>4</th>\n      <td>99262</td>\n      <td>moon marguerite</td>\n      <td>NaN</td>\n      <td>https://nhentai.net/g/99262</td>\n      <td>https://nhentai.net/api/gallery/99262</td>\n      <td>635686</td>\n      <td>1404000355</td>\n      <td>138</td>\n      <td>[stockings, paizuri, lingerie, sole female, so...</td>\n      <td>[meltdown comet]</td>\n      <td>[touhou project]</td>\n      <td>[patchouli knowledge]</td>\n      <td>['japanese']</td>\n      <td>[yukiu con]</td>\n      <td>[doujinshi]</td>\n      <td>https://t.nhentai.net/galleries/635686/cover.jpg</td>\n      <td>https://t.nhentai.net/galleries/635686/thumb.jpg</td>\n      <td>[https://i.nhentai.net/galleries/635686/1.jpg,...</td>\n      <td>26</td>\n    </tr>\n    <tr>\n      <th>...</th>\n      <td>...</td>\n      <td>...</td>\n      <td>...</td>\n      <td>...</td>\n      <td>...</td>\n      <td>...</td>\n      <td>...</td>\n      <td>...</td>\n      <td>...</td>\n      <td>...</td>\n      <td>...</td>\n      <td>...</td>\n      <td>...</td>\n      <td>...</td>\n      <td>...</td>\n      <td>...</td>\n      <td>...</td>\n      <td>...</td>\n      <td>...</td>\n    </tr>\n    <tr>\n      <th>727</th>\n      <td>155485</td>\n      <td>Boku to Haha to Itoko</td>\n      <td>NaN</td>\n      <td>https://nhentai.net/g/155485</td>\n      <td>https://nhentai.net/api/gallery/155485</td>\n      <td>898587</td>\n      <td>1454002824</td>\n      <td>680</td>\n      <td>[full color, incest, mosaic censorship, big br...</td>\n      <td>[]</td>\n      <td>[]</td>\n      <td>[]</td>\n      <td>['japanese']</td>\n      <td>[]</td>\n      <td>[manga]</td>\n      <td>https://t.nhentai.net/galleries/898587/cover.jpg</td>\n      <td>https://t.nhentai.net/galleries/898587/thumb.jpg</td>\n      <td>[https://i.nhentai.net/galleries/898587/1.jpg,...</td>\n      <td>24</td>\n    </tr>\n    <tr>\n      <th>728</th>\n      <td>29542</td>\n      <td>Kyoudai SM Monogatari \"7days fuzz\"Chuuhen</td>\n      <td>NaN</td>\n      <td>https://nhentai.net/g/29542</td>\n      <td>https://nhentai.net/api/gallery/29542</td>\n      <td>125108</td>\n      <td>1403987594</td>\n      <td>140</td>\n      <td>[bdsm, asphyxiation, bondage, human pet, colla...</td>\n      <td>[mousou kai no juunin wa ikiteiru.]</td>\n      <td>[]</td>\n      <td>[]</td>\n      <td>['japanese']</td>\n      <td>[kandanchi]</td>\n      <td>[doujinshi]</td>\n      <td>https://t.nhentai.net/galleries/125108/cover.jpg</td>\n      <td>https://t.nhentai.net/galleries/125108/thumb.jpg</td>\n      <td>[https://i.nhentai.net/galleries/125108/1.jpg,...</td>\n      <td>72</td>\n    </tr>\n    <tr>\n      <th>729</th>\n      <td>102364</td>\n      <td>Dying Arnis</td>\n      <td>NaN</td>\n      <td>https://nhentai.net/g/102364</td>\n      <td>https://nhentai.net/api/gallery/102364</td>\n      <td>656291</td>\n      <td>1404000946</td>\n      <td>10</td>\n      <td>[elf, blood]</td>\n      <td>[]</td>\n      <td>[]</td>\n      <td>[]</td>\n      <td>['japanese']</td>\n      <td>[yamamoto atsuji]</td>\n      <td>[doujinshi]</td>\n      <td>https://t.nhentai.net/galleries/656291/cover.jpg</td>\n      <td>https://t.nhentai.net/galleries/656291/thumb.jpg</td>\n      <td>[https://i.nhentai.net/galleries/656291/1.jpg,...</td>\n      <td>34</td>\n    </tr>\n    <tr>\n      <th>730</th>\n      <td>143070</td>\n      <td>Asedaku Tenryuu</td>\n      <td>NaN</td>\n      <td>https://nhentai.net/g/143070</td>\n      <td>https://nhentai.net/api/gallery/143070</td>\n      <td>850187</td>\n      <td>1441872351</td>\n      <td>323</td>\n      <td>[ahegao, big breasts, eyepatch, mecha girl, sc...</td>\n      <td>[solid air]</td>\n      <td>[kantai collection]</td>\n      <td>[tenryuu, teitoku]</td>\n      <td>['japanese']</td>\n      <td>[zonda]</td>\n      <td>[doujinshi]</td>\n      <td>https://t.nhentai.net/galleries/850187/cover.jpg</td>\n      <td>https://t.nhentai.net/galleries/850187/thumb.jpg</td>\n      <td>[https://i.nhentai.net/galleries/850187/1.jpg,...</td>\n      <td>22</td>\n    </tr>\n    <tr>\n      <th>731</th>\n      <td>146260</td>\n      <td>Hahaoya Yuuwaku</td>\n      <td>NaN</td>\n      <td>https://nhentai.net/g/146260</td>\n      <td>https://nhentai.net/api/gallery/146260</td>\n      <td>861559</td>\n      <td>1444325880</td>\n      <td>745</td>\n      <td>[blindfold, shotacon, full censorship, incest,...</td>\n      <td>[]</td>\n      <td>[]</td>\n      <td>[]</td>\n      <td>['japanese']</td>\n      <td>[hyji]</td>\n      <td>[manga]</td>\n      <td>https://t.nhentai.net/galleries/861559/cover.jpg</td>\n      <td>https://t.nhentai.net/galleries/861559/thumb.jpg</td>\n      <td>[https://i.nhentai.net/galleries/861559/1.jpg,...</td>\n      <td>131</td>\n    </tr>\n  </tbody>\n</table>\n<p>732 rows × 19 columns</p>\n</div>"
     },
     "metadata": {},
     "execution_count": 27
    }
   ]
  },
  {
   "source": [
    "## Download images"
   ],
   "cell_type": "markdown",
   "metadata": {}
  },
  {
   "cell_type": "code",
   "execution_count": 28,
   "metadata": {},
   "outputs": [],
   "source": [
    "def download_hentai(hentai: pd.Series) -> Hentai:\n",
    "    # A hentai will be stored based on the gallery ID instead of the medai ID\n",
    "    hentai_path = Path(DATA_PATH) / str(hentai.id)\n",
    "\n",
    "    # Since downloading a hentai is an expensive operation, we only\n",
    "    # download when the hentai ID directory does not exist\n",
    "    if not hentai_path.is_dir():\n",
    "        hentai = Hentai(hentai.id)\n",
    "        hentai.download(hentai_path, progressbar=True)\n",
    "        return True\n",
    "\n",
    "    return False"
   ]
  },
  {
   "cell_type": "code",
   "execution_count": 29,
   "metadata": {},
   "outputs": [
    {
     "output_type": "execute_result",
     "data": {
      "text/plain": [
       "Empty DataFrame\n",
       "Columns: [id, title, scanlator, url, api, media_id, epos, num_favorites, tag, group, parody, character, language, artist, category, cover, thumbnail, image_urls, num_pages]\n",
       "Index: []"
      ],
      "text/html": "<div>\n<style scoped>\n    .dataframe tbody tr th:only-of-type {\n        vertical-align: middle;\n    }\n\n    .dataframe tbody tr th {\n        vertical-align: top;\n    }\n\n    .dataframe thead th {\n        text-align: right;\n    }\n</style>\n<table border=\"1\" class=\"dataframe\">\n  <thead>\n    <tr style=\"text-align: right;\">\n      <th></th>\n      <th>id</th>\n      <th>title</th>\n      <th>scanlator</th>\n      <th>url</th>\n      <th>api</th>\n      <th>media_id</th>\n      <th>epos</th>\n      <th>num_favorites</th>\n      <th>tag</th>\n      <th>group</th>\n      <th>parody</th>\n      <th>character</th>\n      <th>language</th>\n      <th>artist</th>\n      <th>category</th>\n      <th>cover</th>\n      <th>thumbnail</th>\n      <th>image_urls</th>\n      <th>num_pages</th>\n    </tr>\n  </thead>\n  <tbody>\n  </tbody>\n</table>\n</div>"
     },
     "metadata": {},
     "execution_count": 29
    }
   ],
   "source": [
    "hentais_df[hentais_df.apply(download_hentai, axis=1)]"
   ]
  },
  {
   "source": [
    "## Remove duplicates"
   ],
   "cell_type": "markdown",
   "metadata": {}
  },
  {
   "cell_type": "code",
   "execution_count": 30,
   "metadata": {},
   "outputs": [],
   "source": [
    "hentais_df = hentais_df.drop_duplicates(\"id\")\n",
    "hentais_df.to_csv(metadata_path, index=False, header=\"column_names\")"
   ]
  },
  {
   "cell_type": "code",
   "execution_count": null,
   "metadata": {},
   "outputs": [],
   "source": []
  }
 ]
}